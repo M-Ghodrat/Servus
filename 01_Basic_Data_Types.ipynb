{
  "nbformat": 4,
  "nbformat_minor": 0,
  "metadata": {
    "colab": {
      "provenance": [],
      "authorship_tag": "ABX9TyMVS8b0dGYKmUEZ4buEQqz/",
      "include_colab_link": true
    },
    "kernelspec": {
      "name": "python3",
      "display_name": "Python 3"
    },
    "language_info": {
      "name": "python"
    }
  },
  "cells": [
    {
      "cell_type": "markdown",
      "metadata": {
        "id": "view-in-github",
        "colab_type": "text"
      },
      "source": [
        "<a href=\"https://colab.research.google.com/github/M-Ghodrat/Servus/blob/main/01_Basic_Data_Types.ipynb\" target=\"_parent\"><img src=\"https://colab.research.google.com/assets/colab-badge.svg\" alt=\"Open In Colab\"/></a>"
      ]
    },
    {
      "cell_type": "markdown",
      "source": [
        "# Basic Data Types\n",
        "\n",
        "## Table of Contents:\n",
        "- Variable Names\n",
        "- Data Types\n",
        "- Float\n",
        "- Integer\n",
        "- Boolean\n",
        "- String\n",
        "- List\n",
        "- Dictionary\n",
        "- Tuple\n",
        "- Set"
      ],
      "metadata": {
        "id": "6zsZjHbmzMJP"
      }
    },
    {
      "cell_type": "markdown",
      "source": [
        "# Variable Names\n",
        "**Rules**:\n",
        "\n",
        "- names cannot start with a number\n",
        "- there can be no space in name, use _ instead.\n",
        "- can't use any of these symbols: `:'\",<>/?|()!@#$%^&*~-+`\n",
        "- it is considered best practice (PEP8) that names are lowercase\n",
        "- avoid using words that have special meaning in python like \"list\" and \"str\"\n",
        "  - `str = \"string\"`; `x = \"123\"`; `str(x)` raises `TypeError`: `'str'` object is not callable error. del str to remove the variable.\n",
        "- python uses **Dynamic Typing** which means you can reassign variables to different data types. This is different than other languages that are \"**Statically-Typed**\""
      ],
      "metadata": {
        "id": "bqAOAs3ezacn"
      }
    },
    {
      "cell_type": "markdown",
      "source": [
        "# Data Types\n",
        "\n",
        "| Data Type     | Example                                          |\n",
        "|---------------|--------------------------------------------------|\n",
        "| integer       | `int = 4`                                        |\n",
        "| float         | `float = 1.33`                                   |\n",
        "| string        | `str = \"Mohsen\"`                                 |\n",
        "| list          | `list = [1, 4.5, \"Ali\"]`                        |\n",
        "| dictionaries  | `dic = {\"obj_1\" : \"value_1\", \"obj_2\" : \"value_2\"}` |\n",
        "| tuples        | `tuple = (1, 3, 5)`                              |\n",
        "| sets          | `set = {\"a\", \"b\"}` # unique objects              |\n",
        "| booleans      | `bool = True, False`                             |\n"
      ],
      "metadata": {
        "id": "NBSAzrRCztLX"
      }
    },
    {
      "cell_type": "markdown",
      "source": [
        "## Float"
      ],
      "metadata": {
        "id": "GuBPdPN1z4Ks"
      }
    },
    {
      "cell_type": "code",
      "source": [
        "num = 4."
      ],
      "metadata": {
        "id": "z0GKpDqrw56r"
      },
      "execution_count": null,
      "outputs": []
    },
    {
      "cell_type": "code",
      "source": [
        "type(num)"
      ],
      "metadata": {
        "colab": {
          "base_uri": "https://localhost:8080/"
        },
        "id": "TuiPeCpfuoIZ",
        "outputId": "08bc2f81-72dc-4c86-e2ad-2784286fe280"
      },
      "execution_count": null,
      "outputs": [
        {
          "output_type": "execute_result",
          "data": {
            "text/plain": [
              "float"
            ]
          },
          "metadata": {},
          "execution_count": 18
        }
      ]
    },
    {
      "cell_type": "markdown",
      "source": [
        "## Integer"
      ],
      "metadata": {
        "id": "bYQYosiKz7hN"
      }
    },
    {
      "cell_type": "code",
      "source": [
        "x = 10"
      ],
      "metadata": {
        "id": "wOG3PRyxz-ru"
      },
      "execution_count": null,
      "outputs": []
    },
    {
      "cell_type": "code",
      "source": [
        "type(x)"
      ],
      "metadata": {
        "colab": {
          "base_uri": "https://localhost:8080/"
        },
        "id": "OYozXEc5vApf",
        "outputId": "22171360-27fa-4d54-cd47-a128e27f5ede"
      },
      "execution_count": null,
      "outputs": [
        {
          "output_type": "execute_result",
          "data": {
            "text/plain": [
              "int"
            ]
          },
          "metadata": {},
          "execution_count": 21
        }
      ]
    },
    {
      "cell_type": "markdown",
      "source": [
        "## Boolean"
      ],
      "metadata": {
        "id": "PZ5JXCamz_GI"
      }
    },
    {
      "cell_type": "code",
      "source": [
        "flag_1 = True\n",
        "flag_2 = False\n",
        "type(flag_1)"
      ],
      "metadata": {
        "id": "MB572MHd0BRE",
        "colab": {
          "base_uri": "https://localhost:8080/"
        },
        "outputId": "881db97f-eb17-4317-c119-a9a381216a45"
      },
      "execution_count": null,
      "outputs": [
        {
          "output_type": "execute_result",
          "data": {
            "text/plain": [
              "bool"
            ]
          },
          "metadata": {},
          "execution_count": 24
        }
      ]
    },
    {
      "cell_type": "code",
      "source": [
        "type(x > 1)"
      ],
      "metadata": {
        "colab": {
          "base_uri": "https://localhost:8080/"
        },
        "id": "IwRjRz9bvmx7",
        "outputId": "c0fb7a65-7db6-41ec-9319-b6bc427c5ca8"
      },
      "execution_count": null,
      "outputs": [
        {
          "output_type": "execute_result",
          "data": {
            "text/plain": [
              "False"
            ]
          },
          "metadata": {},
          "execution_count": 29
        }
      ]
    },
    {
      "cell_type": "markdown",
      "source": [
        "## String\n",
        "\n",
        "\n",
        "<img src=\"https://raw.githubusercontent.com/M-Ghodrat/Servus/f7624d14088875f1211f9460a87993e4a01eb33f/images/string_indexing.png\" height=\"200\">\n",
        "\n",
        "\n",
        "\n",
        "\n"
      ],
      "metadata": {
        "id": "w17jWbJt0Bno"
      }
    },
    {
      "cell_type": "code",
      "source": [
        "my_str = \"Hello World!\"\n",
        "print(my_str)"
      ],
      "metadata": {
        "id": "I_YIxvE70DnR",
        "colab": {
          "base_uri": "https://localhost:8080/"
        },
        "outputId": "64ba7450-8ffa-436e-ce1e-70ba47dd6a5b"
      },
      "execution_count": 15,
      "outputs": [
        {
          "output_type": "stream",
          "name": "stdout",
          "text": [
            "Hello World!\n"
          ]
        }
      ]
    },
    {
      "cell_type": "code",
      "source": [
        "my_str[1]"
      ],
      "metadata": {
        "colab": {
          "base_uri": "https://localhost:8080/",
          "height": 35
        },
        "id": "YJt_ABpkwfsA",
        "outputId": "24508d73-dbb0-4348-aca6-d8dc6ffa3168"
      },
      "execution_count": 16,
      "outputs": [
        {
          "output_type": "execute_result",
          "data": {
            "text/plain": [
              "'e'"
            ],
            "application/vnd.google.colaboratory.intrinsic+json": {
              "type": "string"
            }
          },
          "metadata": {},
          "execution_count": 16
        }
      ]
    },
    {
      "cell_type": "code",
      "source": [
        "my_str[-3]"
      ],
      "metadata": {
        "colab": {
          "base_uri": "https://localhost:8080/",
          "height": 35
        },
        "id": "be9iN8fNv7aZ",
        "outputId": "96f5a88c-8d36-4180-fa99-aaf4644308f1"
      },
      "execution_count": 18,
      "outputs": [
        {
          "output_type": "execute_result",
          "data": {
            "text/plain": [
              "'l'"
            ],
            "application/vnd.google.colaboratory.intrinsic+json": {
              "type": "string"
            }
          },
          "metadata": {},
          "execution_count": 18
        }
      ]
    },
    {
      "cell_type": "code",
      "source": [
        "my_str[1:7]"
      ],
      "metadata": {
        "colab": {
          "base_uri": "https://localhost:8080/",
          "height": 35
        },
        "id": "psLn_-_3WLGH",
        "outputId": "d9841dac-2bb7-4e63-d5f2-8805b2a7aee5"
      },
      "execution_count": 19,
      "outputs": [
        {
          "output_type": "execute_result",
          "data": {
            "text/plain": [
              "'ello W'"
            ],
            "application/vnd.google.colaboratory.intrinsic+json": {
              "type": "string"
            }
          },
          "metadata": {},
          "execution_count": 19
        }
      ]
    },
    {
      "cell_type": "code",
      "source": [
        "my_str[:-1]"
      ],
      "metadata": {
        "colab": {
          "base_uri": "https://localhost:8080/",
          "height": 35
        },
        "id": "l7fvlzIBWLMF",
        "outputId": "c0d5ce73-930c-426e-b3dd-002c6d40c2f8"
      },
      "execution_count": 20,
      "outputs": [
        {
          "output_type": "execute_result",
          "data": {
            "text/plain": [
              "'Hello World'"
            ],
            "application/vnd.google.colaboratory.intrinsic+json": {
              "type": "string"
            }
          },
          "metadata": {},
          "execution_count": 20
        }
      ]
    },
    {
      "cell_type": "code",
      "source": [
        "my_str[:]"
      ],
      "metadata": {
        "colab": {
          "base_uri": "https://localhost:8080/",
          "height": 35
        },
        "id": "lIzw0qYuv7dH",
        "outputId": "84000bb5-a5c9-40c4-c761-0de858e0accc"
      },
      "execution_count": 7,
      "outputs": [
        {
          "output_type": "execute_result",
          "data": {
            "text/plain": [
              "'Hello World!'"
            ],
            "application/vnd.google.colaboratory.intrinsic+json": {
              "type": "string"
            }
          },
          "metadata": {},
          "execution_count": 7
        }
      ]
    },
    {
      "cell_type": "code",
      "source": [
        "my_str = \"ABCDEFGHI\"\n",
        "my_str[2:7:2]"
      ],
      "metadata": {
        "colab": {
          "base_uri": "https://localhost:8080/",
          "height": 35
        },
        "id": "xY26RQAnv7gO",
        "outputId": "634bd465-2e40-41c4-c325-a6525c0e617a"
      },
      "execution_count": 23,
      "outputs": [
        {
          "output_type": "execute_result",
          "data": {
            "text/plain": [
              "'CEG'"
            ],
            "application/vnd.google.colaboratory.intrinsic+json": {
              "type": "string"
            }
          },
          "metadata": {},
          "execution_count": 23
        }
      ]
    },
    {
      "cell_type": "markdown",
      "source": [
        "<img src=\"https://raw.githubusercontent.com/M-Ghodrat/Servus/0363544cfbc00c57d948f7cf16b349b67b40c793/images/string_index_step.png\" height=\"150\">\n",
        "\n",
        "\n"
      ],
      "metadata": {
        "id": "-VrH6k58cBcF"
      }
    },
    {
      "cell_type": "code",
      "source": [
        "my_str[::-1]"
      ],
      "metadata": {
        "colab": {
          "base_uri": "https://localhost:8080/",
          "height": 35
        },
        "id": "dNs9Z5nOWZXB",
        "outputId": "8def1843-e670-467c-82b2-2703863e7d53"
      },
      "execution_count": 24,
      "outputs": [
        {
          "output_type": "execute_result",
          "data": {
            "text/plain": [
              "'IHGFEDCBA'"
            ],
            "application/vnd.google.colaboratory.intrinsic+json": {
              "type": "string"
            }
          },
          "metadata": {},
          "execution_count": 24
        }
      ]
    },
    {
      "cell_type": "markdown",
      "source": [
        "String is immutable:"
      ],
      "metadata": {
        "id": "J4dp_SAWamPU"
      }
    },
    {
      "cell_type": "code",
      "source": [
        "my_str[0] = \"a\""
      ],
      "metadata": {
        "colab": {
          "base_uri": "https://localhost:8080/",
          "height": 141
        },
        "id": "_MdTEqEsv7i4",
        "outputId": "6166d20e-86a4-486e-df48-1c727573a3b9"
      },
      "execution_count": 10,
      "outputs": [
        {
          "output_type": "error",
          "ename": "TypeError",
          "evalue": "'str' object does not support item assignment",
          "traceback": [
            "\u001b[0;31m---------------------------------------------------------------------------\u001b[0m",
            "\u001b[0;31mTypeError\u001b[0m                                 Traceback (most recent call last)",
            "\u001b[0;32m<ipython-input-10-5fb518f00edd>\u001b[0m in \u001b[0;36m<cell line: 0>\u001b[0;34m()\u001b[0m\n\u001b[0;32m----> 1\u001b[0;31m \u001b[0mmy_str\u001b[0m\u001b[0;34m[\u001b[0m\u001b[0;36m0\u001b[0m\u001b[0;34m]\u001b[0m \u001b[0;34m=\u001b[0m \u001b[0;34m\"a\"\u001b[0m \u001b[0;31m# immutable\u001b[0m\u001b[0;34m\u001b[0m\u001b[0;34m\u001b[0m\u001b[0m\n\u001b[0m",
            "\u001b[0;31mTypeError\u001b[0m: 'str' object does not support item assignment"
          ]
        }
      ]
    },
    {
      "cell_type": "code",
      "source": [
        "my_str = 'Hello World! I\"m Mohsen'\n",
        "my_str"
      ],
      "metadata": {
        "colab": {
          "base_uri": "https://localhost:8080/",
          "height": 36
        },
        "id": "aCu4CQTxv7-5",
        "outputId": "438ccbbc-29f7-46ab-c25f-526b008c73a9"
      },
      "execution_count": null,
      "outputs": [
        {
          "output_type": "execute_result",
          "data": {
            "text/plain": [
              "'Hello World! I\"m Mohsen'"
            ],
            "application/vnd.google.colaboratory.intrinsic+json": {
              "type": "string"
            }
          },
          "metadata": {},
          "execution_count": 61
        }
      ]
    },
    {
      "cell_type": "code",
      "source": [
        "my_str = \"a\\\n",
        "b\\\n",
        "c\"\n",
        "my_str"
      ],
      "metadata": {
        "colab": {
          "base_uri": "https://localhost:8080/",
          "height": 36
        },
        "id": "NtF2l1Bkv8CA",
        "outputId": "1c620493-d5d0-446b-8212-5b14ee93e1fd"
      },
      "execution_count": null,
      "outputs": [
        {
          "output_type": "execute_result",
          "data": {
            "text/plain": [
              "'abc'"
            ],
            "application/vnd.google.colaboratory.intrinsic+json": {
              "type": "string"
            }
          },
          "metadata": {},
          "execution_count": 64
        }
      ]
    },
    {
      "cell_type": "code",
      "source": [
        "my_str = ''' Hi I'm \" good '''\n",
        "my_str"
      ],
      "metadata": {
        "colab": {
          "base_uri": "https://localhost:8080/",
          "height": 36
        },
        "id": "JOeFz_rXv8FK",
        "outputId": "6112be14-ba57-4207-ef35-401ccc759c74"
      },
      "execution_count": null,
      "outputs": [
        {
          "output_type": "execute_result",
          "data": {
            "text/plain": [
              "' Hi I\\'m \" good '"
            ],
            "application/vnd.google.colaboratory.intrinsic+json": {
              "type": "string"
            }
          },
          "metadata": {},
          "execution_count": 68
        }
      ]
    },
    {
      "cell_type": "markdown",
      "source": [
        "### Escape sequences"
      ],
      "metadata": {
        "id": "fpRSaSsyZLVR"
      }
    },
    {
      "cell_type": "code",
      "source": [
        "my_str = \"\\tHello World!\"\n",
        "print(my_str)"
      ],
      "metadata": {
        "colab": {
          "base_uri": "https://localhost:8080/"
        },
        "id": "Z3tKoIKnzBT9",
        "outputId": "f63d0216-f514-4f1d-e05d-ea0b8cd90cdb"
      },
      "execution_count": 25,
      "outputs": [
        {
          "output_type": "stream",
          "name": "stdout",
          "text": [
            "\tHello World!\n"
          ]
        }
      ]
    },
    {
      "cell_type": "code",
      "source": [
        "my_str[0]"
      ],
      "metadata": {
        "colab": {
          "base_uri": "https://localhost:8080/",
          "height": 35
        },
        "id": "qjn9gSe6ZlzK",
        "outputId": "4b5fcab5-5cea-4598-fb7b-fa1b16facac2"
      },
      "execution_count": 26,
      "outputs": [
        {
          "output_type": "execute_result",
          "data": {
            "text/plain": [
              "'\\t'"
            ],
            "application/vnd.google.colaboratory.intrinsic+json": {
              "type": "string"
            }
          },
          "metadata": {},
          "execution_count": 26
        }
      ]
    },
    {
      "cell_type": "code",
      "source": [
        "my_str = \"\\\\tHello World!\"\n",
        "print(my_str)"
      ],
      "metadata": {
        "colab": {
          "base_uri": "https://localhost:8080/"
        },
        "id": "aL5DrHh4zv7N",
        "outputId": "0e45e67c-e43b-4f4f-ac97-0026aed19fe6"
      },
      "execution_count": 59,
      "outputs": [
        {
          "output_type": "stream",
          "name": "stdout",
          "text": [
            "\\tHello World!\n"
          ]
        }
      ]
    },
    {
      "cell_type": "code",
      "source": [
        "my_str = r\"\\tHello World!\"\n",
        "print(my_str)"
      ],
      "metadata": {
        "colab": {
          "base_uri": "https://localhost:8080/"
        },
        "id": "tUGrK4fkZvmo",
        "outputId": "465ad16d-9810-47a2-a87d-e311014e86a0"
      },
      "execution_count": 60,
      "outputs": [
        {
          "output_type": "stream",
          "name": "stdout",
          "text": [
            "\\tHello World!\n"
          ]
        }
      ]
    },
    {
      "cell_type": "markdown",
      "source": [
        "## List"
      ],
      "metadata": {
        "id": "hJ6nJAF10EA8"
      }
    },
    {
      "cell_type": "code",
      "source": [],
      "metadata": {
        "id": "67Lf3e8gaNyk"
      },
      "execution_count": null,
      "outputs": []
    },
    {
      "cell_type": "markdown",
      "source": [
        "List is mutable:"
      ],
      "metadata": {
        "id": "MYgHVRW-aiCl"
      }
    },
    {
      "cell_type": "code",
      "source": [],
      "metadata": {
        "id": "nes7J0rjaNjI"
      },
      "execution_count": null,
      "outputs": []
    },
    {
      "cell_type": "markdown",
      "source": [
        "## Tuple"
      ],
      "metadata": {
        "id": "9dCjswxK0V5P"
      }
    },
    {
      "cell_type": "code",
      "source": [],
      "metadata": {
        "id": "QoytlUurdf9x"
      },
      "execution_count": null,
      "outputs": []
    },
    {
      "cell_type": "markdown",
      "source": [
        "Tuple is immutable:"
      ],
      "metadata": {
        "id": "VSE4MXd6d1Fy"
      }
    },
    {
      "cell_type": "code",
      "source": [],
      "metadata": {
        "id": "fUPhN3U4d0M0"
      },
      "execution_count": 54,
      "outputs": []
    },
    {
      "cell_type": "markdown",
      "source": [
        "<img src=\"https://raw.githubusercontent.com/M-Ghodrat/Servus/d456bf4b9de081d56c1b609f77e39db3e0007ecf/images/hash.PNG\" height=\"300\">\n"
      ],
      "metadata": {
        "id": "j2vOt0dueCVt"
      }
    },
    {
      "cell_type": "markdown",
      "source": [
        "## Dictionary"
      ],
      "metadata": {
        "id": "w6siwnOa0Yuo"
      }
    },
    {
      "cell_type": "markdown",
      "source": [
        "It works like a mapping!"
      ],
      "metadata": {
        "id": "Honah16UauCI"
      }
    },
    {
      "cell_type": "code",
      "source": [],
      "metadata": {
        "id": "cCQlH3ic0aOO"
      },
      "execution_count": null,
      "outputs": []
    },
    {
      "cell_type": "markdown",
      "source": [
        "Dictionary is mutable:"
      ],
      "metadata": {
        "id": "dhiB9cFed7uv"
      }
    },
    {
      "cell_type": "code",
      "source": [],
      "metadata": {
        "id": "tpUdLJbod7-1"
      },
      "execution_count": null,
      "outputs": []
    },
    {
      "cell_type": "markdown",
      "source": [
        "## Set"
      ],
      "metadata": {
        "id": "4xpHrAF40c8i"
      }
    },
    {
      "cell_type": "code",
      "source": [],
      "metadata": {
        "id": "v0aDmdm90cwb"
      },
      "execution_count": null,
      "outputs": []
    },
    {
      "cell_type": "markdown",
      "source": [
        "Set is mutable:"
      ],
      "metadata": {
        "id": "bSQ5ZuXybHxf"
      }
    },
    {
      "cell_type": "code",
      "source": [],
      "metadata": {
        "id": "4urvXvyGbf8K"
      },
      "execution_count": null,
      "outputs": []
    },
    {
      "cell_type": "markdown",
      "source": [
        "## Iterables\n",
        "\n",
        "The `iter()` function is used to create an `iterator` from an `iterable`."
      ],
      "metadata": {
        "id": "EPSsmE87ittU"
      }
    },
    {
      "cell_type": "code",
      "source": [
        "iterator = iter(\"abc\")"
      ],
      "metadata": {
        "id": "fFn0PmGbivov"
      },
      "execution_count": 145,
      "outputs": []
    },
    {
      "cell_type": "code",
      "source": [
        "next(iterator)"
      ],
      "metadata": {
        "colab": {
          "base_uri": "https://localhost:8080/",
          "height": 35
        },
        "id": "Ed7KtuY0iyXv",
        "outputId": "d5f2509d-2c8a-4eb1-ed35-d729a445a571"
      },
      "execution_count": 146,
      "outputs": [
        {
          "output_type": "execute_result",
          "data": {
            "text/plain": [
              "'a'"
            ],
            "application/vnd.google.colaboratory.intrinsic+json": {
              "type": "string"
            }
          },
          "metadata": {},
          "execution_count": 146
        }
      ]
    },
    {
      "cell_type": "code",
      "source": [],
      "metadata": {
        "id": "M842otUjkonL"
      },
      "execution_count": null,
      "outputs": []
    },
    {
      "cell_type": "markdown",
      "source": [
        "## Knowledge Check\n",
        "\n",
        "You are given a table of customer information with the following attributes: Name, Age, Income, and Tenure. Your task is to represent this customer data using two different data structures: a list and a dictionary.\n",
        "\n",
        "| Name     | Age | Income | Tenure |\n",
        "|----------|-----|--------|--------|\n",
        "| Alice    | 30  | 50000  | 5      |\n",
        "| Bob      | 45  | 60000  | 10     |\n",
        "| Charlie  | 25  | 45000  | 3      |\n",
        "| Diana    | 40  | 70000  | 8      |\n",
        "| Eve      | 35  | 55000  | 6      |"
      ],
      "metadata": {
        "id": "0vXtBCTUsA58"
      }
    },
    {
      "cell_type": "code",
      "source": [],
      "metadata": {
        "id": "0CT4RucjsD44"
      },
      "execution_count": null,
      "outputs": []
    }
  ]
}