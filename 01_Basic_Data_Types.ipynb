{
  "nbformat": 4,
  "nbformat_minor": 0,
  "metadata": {
    "colab": {
      "provenance": [],
      "authorship_tag": "ABX9TyMcsFiJobfmF6Mvc/uEPHNb",
      "include_colab_link": true
    },
    "kernelspec": {
      "name": "python3",
      "display_name": "Python 3"
    },
    "language_info": {
      "name": "python"
    }
  },
  "cells": [
    {
      "cell_type": "markdown",
      "metadata": {
        "id": "view-in-github",
        "colab_type": "text"
      },
      "source": [
        "<a href=\"https://colab.research.google.com/github/M-Ghodrat/Servus/blob/main/01_Basic_Data_Types.ipynb\" target=\"_parent\"><img src=\"https://colab.research.google.com/assets/colab-badge.svg\" alt=\"Open In Colab\"/></a>"
      ]
    },
    {
      "cell_type": "markdown",
      "source": [
        "# Basic Data Types\n",
        "\n",
        "## Table of Contents:\n",
        "- Variable Names\n",
        "- Data Types\n",
        "- Float\n",
        "- Integer\n",
        "- Boolean\n",
        "- String\n",
        "- List\n",
        "- Dictionary\n",
        "- Tuple\n",
        "- Set"
      ],
      "metadata": {
        "id": "6zsZjHbmzMJP"
      }
    },
    {
      "cell_type": "markdown",
      "source": [
        "# Variable Names\n",
        "**Rules**:\n",
        "\n",
        "- names cannot start with a number\n",
        "- there can be no space in name, use _ instead.\n",
        "- can't use any of these symbols: `:'\",<>/?|()!@#$%^&*~-+`\n",
        "- it is considered best practice (PEP8) that names are lowercase\n",
        "- avoid using words that have special meaning in python like \"list\" and \"str\"\n",
        "  - `str = \"string\"`; `x = \"123\"`; `str(x)` raises `TypeError`: `'str'` object is not callable error. del str to remove the variable.\n",
        "- python uses **Dynamic Typing** which means you can reassign variables to different data types. This is different than other languages that are \"**Statically-Typed**\""
      ],
      "metadata": {
        "id": "bqAOAs3ezacn"
      }
    },
    {
      "cell_type": "markdown",
      "source": [
        "# Data Types\n",
        "\n",
        "| Data Type     | Example                                          |\n",
        "|---------------|--------------------------------------------------|\n",
        "| integer       | `int = 4`                                        |\n",
        "| float         | `float = 1.33`                                   |\n",
        "| string        | `str = \"Mohsen\"`                                 |\n",
        "| list          | `list = [1, 4.5, \"Ali\"]`                        |\n",
        "| dictionaries  | `dic = {\"obj_1\" : \"value_1\", \"obj_2\" : \"value_2\"}` |\n",
        "| tuples        | `tuple = (1, 3, 5)`                              |\n",
        "| sets          | `set = {\"a\", \"b\"}` # unique objects              |\n",
        "| booleans      | `bool = True, False`                             |\n"
      ],
      "metadata": {
        "id": "NBSAzrRCztLX"
      }
    },
    {
      "cell_type": "markdown",
      "source": [
        "## Float"
      ],
      "metadata": {
        "id": "GuBPdPN1z4Ks"
      }
    },
    {
      "cell_type": "code",
      "source": [
        "num = 4.45"
      ],
      "metadata": {
        "id": "z0GKpDqrw56r"
      },
      "execution_count": null,
      "outputs": []
    },
    {
      "cell_type": "code",
      "source": [
        "type(num)"
      ],
      "metadata": {
        "colab": {
          "base_uri": "https://localhost:8080/"
        },
        "id": "TuiPeCpfuoIZ",
        "outputId": "ab5c338f-3acb-4de8-9e29-27f31c2c21ce"
      },
      "execution_count": null,
      "outputs": [
        {
          "output_type": "execute_result",
          "data": {
            "text/plain": [
              "float"
            ]
          },
          "metadata": {},
          "execution_count": 2
        }
      ]
    },
    {
      "cell_type": "markdown",
      "source": [
        "## Integer"
      ],
      "metadata": {
        "id": "bYQYosiKz7hN"
      }
    },
    {
      "cell_type": "code",
      "source": [
        "x = 10"
      ],
      "metadata": {
        "id": "wOG3PRyxz-ru"
      },
      "execution_count": null,
      "outputs": []
    },
    {
      "cell_type": "code",
      "source": [
        "type(x)"
      ],
      "metadata": {
        "colab": {
          "base_uri": "https://localhost:8080/"
        },
        "id": "OYozXEc5vApf",
        "outputId": "580d4972-1ad1-43d6-8679-1a02885fe45e"
      },
      "execution_count": null,
      "outputs": [
        {
          "output_type": "execute_result",
          "data": {
            "text/plain": [
              "int"
            ]
          },
          "metadata": {},
          "execution_count": 4
        }
      ]
    },
    {
      "cell_type": "markdown",
      "source": [
        "## Boolean"
      ],
      "metadata": {
        "id": "PZ5JXCamz_GI"
      }
    },
    {
      "cell_type": "code",
      "source": [
        "flag_1 = True\n",
        "flag_2 = False\n",
        "type(flag_1)"
      ],
      "metadata": {
        "id": "MB572MHd0BRE",
        "colab": {
          "base_uri": "https://localhost:8080/"
        },
        "outputId": "881db97f-eb17-4317-c119-a9a381216a45"
      },
      "execution_count": null,
      "outputs": [
        {
          "output_type": "execute_result",
          "data": {
            "text/plain": [
              "bool"
            ]
          },
          "metadata": {},
          "execution_count": 24
        }
      ]
    },
    {
      "cell_type": "code",
      "source": [
        "x > 1"
      ],
      "metadata": {
        "colab": {
          "base_uri": "https://localhost:8080/"
        },
        "id": "IwRjRz9bvmx7",
        "outputId": "a5d4bc36-e4da-4201-d85a-ee63d5684fde"
      },
      "execution_count": null,
      "outputs": [
        {
          "output_type": "execute_result",
          "data": {
            "text/plain": [
              "True"
            ]
          },
          "metadata": {},
          "execution_count": 7
        }
      ]
    },
    {
      "cell_type": "markdown",
      "source": [
        "## String\n",
        "\n",
        "\n",
        "<img src=\"https://raw.githubusercontent.com/M-Ghodrat/Servus/f7624d14088875f1211f9460a87993e4a01eb33f/images/string_indexing.png\" height=\"200\">\n",
        "\n",
        "\n",
        "\n",
        "\n"
      ],
      "metadata": {
        "id": "w17jWbJt0Bno"
      }
    },
    {
      "cell_type": "code",
      "source": [
        "my_str = 'Hello World!'\n",
        "print(my_str)"
      ],
      "metadata": {
        "id": "I_YIxvE70DnR",
        "colab": {
          "base_uri": "https://localhost:8080/"
        },
        "outputId": "7b658220-5b42-4b18-a825-7b72fcefba5b"
      },
      "execution_count": null,
      "outputs": [
        {
          "output_type": "stream",
          "name": "stdout",
          "text": [
            "Hello World!\n"
          ]
        }
      ]
    },
    {
      "cell_type": "code",
      "source": [
        "my_str[1]"
      ],
      "metadata": {
        "colab": {
          "base_uri": "https://localhost:8080/",
          "height": 36
        },
        "id": "YJt_ABpkwfsA",
        "outputId": "d81d230a-8f1d-43ec-80ae-c24586887c82"
      },
      "execution_count": null,
      "outputs": [
        {
          "output_type": "execute_result",
          "data": {
            "text/plain": [
              "'e'"
            ],
            "application/vnd.google.colaboratory.intrinsic+json": {
              "type": "string"
            }
          },
          "metadata": {},
          "execution_count": 9
        }
      ]
    },
    {
      "cell_type": "code",
      "source": [
        "my_str[-3]"
      ],
      "metadata": {
        "colab": {
          "base_uri": "https://localhost:8080/",
          "height": 36
        },
        "id": "be9iN8fNv7aZ",
        "outputId": "c01b0309-7d8f-45aa-de52-b1fedf39b942"
      },
      "execution_count": null,
      "outputs": [
        {
          "output_type": "execute_result",
          "data": {
            "text/plain": [
              "'l'"
            ],
            "application/vnd.google.colaboratory.intrinsic+json": {
              "type": "string"
            }
          },
          "metadata": {},
          "execution_count": 10
        }
      ]
    },
    {
      "cell_type": "code",
      "source": [
        "my_str[1:7]"
      ],
      "metadata": {
        "colab": {
          "base_uri": "https://localhost:8080/",
          "height": 36
        },
        "id": "psLn_-_3WLGH",
        "outputId": "1ac11fb7-a42a-41dc-9b32-8aa17e7e7504"
      },
      "execution_count": null,
      "outputs": [
        {
          "output_type": "execute_result",
          "data": {
            "text/plain": [
              "'ello W'"
            ],
            "application/vnd.google.colaboratory.intrinsic+json": {
              "type": "string"
            }
          },
          "metadata": {},
          "execution_count": 11
        }
      ]
    },
    {
      "cell_type": "code",
      "source": [
        "my_str[-4:]"
      ],
      "metadata": {
        "colab": {
          "base_uri": "https://localhost:8080/",
          "height": 36
        },
        "id": "l7fvlzIBWLMF",
        "outputId": "639b4511-5075-4751-c426-b4f6d0839035"
      },
      "execution_count": null,
      "outputs": [
        {
          "output_type": "execute_result",
          "data": {
            "text/plain": [
              "'Hello World'"
            ],
            "application/vnd.google.colaboratory.intrinsic+json": {
              "type": "string"
            }
          },
          "metadata": {},
          "execution_count": 12
        }
      ]
    },
    {
      "cell_type": "code",
      "source": [
        "my_str[:]"
      ],
      "metadata": {
        "colab": {
          "base_uri": "https://localhost:8080/",
          "height": 36
        },
        "id": "lIzw0qYuv7dH",
        "outputId": "c97c78a6-4e2d-484d-8a00-a27bceab5d42"
      },
      "execution_count": null,
      "outputs": [
        {
          "output_type": "execute_result",
          "data": {
            "text/plain": [
              "'Hello World!'"
            ],
            "application/vnd.google.colaboratory.intrinsic+json": {
              "type": "string"
            }
          },
          "metadata": {},
          "execution_count": 13
        }
      ]
    },
    {
      "cell_type": "code",
      "source": [
        "my_str = \"ABCDEFGHI\"\n",
        "my_str[2:7:2]"
      ],
      "metadata": {
        "colab": {
          "base_uri": "https://localhost:8080/",
          "height": 36
        },
        "id": "xY26RQAnv7gO",
        "outputId": "44f87d16-ead9-4873-b53d-2111d05331b4"
      },
      "execution_count": null,
      "outputs": [
        {
          "output_type": "execute_result",
          "data": {
            "text/plain": [
              "'CEG'"
            ],
            "application/vnd.google.colaboratory.intrinsic+json": {
              "type": "string"
            }
          },
          "metadata": {},
          "execution_count": 14
        }
      ]
    },
    {
      "cell_type": "markdown",
      "source": [
        "<img src=\"https://raw.githubusercontent.com/M-Ghodrat/Servus/0363544cfbc00c57d948f7cf16b349b67b40c793/images/string_index_step.png\" height=\"150\">\n",
        "\n",
        "\n"
      ],
      "metadata": {
        "id": "-VrH6k58cBcF"
      }
    },
    {
      "cell_type": "code",
      "source": [
        "my_str[::-1]"
      ],
      "metadata": {
        "colab": {
          "base_uri": "https://localhost:8080/",
          "height": 36
        },
        "id": "dNs9Z5nOWZXB",
        "outputId": "1e079fae-4d4f-4934-dda9-3241a872eba4"
      },
      "execution_count": null,
      "outputs": [
        {
          "output_type": "execute_result",
          "data": {
            "text/plain": [
              "'IHGFEDCBA'"
            ],
            "application/vnd.google.colaboratory.intrinsic+json": {
              "type": "string"
            }
          },
          "metadata": {},
          "execution_count": 15
        }
      ]
    },
    {
      "cell_type": "markdown",
      "source": [
        "String is immutable:"
      ],
      "metadata": {
        "id": "J4dp_SAWamPU"
      }
    },
    {
      "cell_type": "code",
      "source": [
        "my_str[0] = 'a'"
      ],
      "metadata": {
        "colab": {
          "base_uri": "https://localhost:8080/",
          "height": 144
        },
        "id": "_MdTEqEsv7i4",
        "outputId": "e3a133d2-0d1a-4835-a6b6-d18abbf1157a"
      },
      "execution_count": null,
      "outputs": [
        {
          "output_type": "error",
          "ename": "TypeError",
          "evalue": "'str' object does not support item assignment",
          "traceback": [
            "\u001b[0;31m---------------------------------------------------------------------------\u001b[0m",
            "\u001b[0;31mTypeError\u001b[0m                                 Traceback (most recent call last)",
            "\u001b[0;32m<ipython-input-17-4dacfc717de8>\u001b[0m in \u001b[0;36m<cell line: 0>\u001b[0;34m()\u001b[0m\n\u001b[0;32m----> 1\u001b[0;31m \u001b[0mmy_str\u001b[0m\u001b[0;34m[\u001b[0m\u001b[0;36m0\u001b[0m\u001b[0;34m]\u001b[0m \u001b[0;34m=\u001b[0m \u001b[0;34m'a'\u001b[0m\u001b[0;34m\u001b[0m\u001b[0;34m\u001b[0m\u001b[0m\n\u001b[0m",
            "\u001b[0;31mTypeError\u001b[0m: 'str' object does not support item assignment"
          ]
        }
      ]
    },
    {
      "cell_type": "code",
      "source": [
        "my_str = \"Hello World! I'm Mohsen\"\n",
        "my_str"
      ],
      "metadata": {
        "colab": {
          "base_uri": "https://localhost:8080/",
          "height": 36
        },
        "id": "aCu4CQTxv7-5",
        "outputId": "438ccbbc-29f7-46ab-c25f-526b008c73a9"
      },
      "execution_count": null,
      "outputs": [
        {
          "output_type": "execute_result",
          "data": {
            "text/plain": [
              "'Hello World! I\"m Mohsen'"
            ],
            "application/vnd.google.colaboratory.intrinsic+json": {
              "type": "string"
            }
          },
          "metadata": {},
          "execution_count": 61
        }
      ]
    },
    {
      "cell_type": "code",
      "source": [
        "my_str = \"a\\\n",
        "b\\\n",
        "c\"\n",
        "my_str"
      ],
      "metadata": {
        "colab": {
          "base_uri": "https://localhost:8080/",
          "height": 36
        },
        "id": "NtF2l1Bkv8CA",
        "outputId": "1c620493-d5d0-446b-8212-5b14ee93e1fd"
      },
      "execution_count": null,
      "outputs": [
        {
          "output_type": "execute_result",
          "data": {
            "text/plain": [
              "'abc'"
            ],
            "application/vnd.google.colaboratory.intrinsic+json": {
              "type": "string"
            }
          },
          "metadata": {},
          "execution_count": 64
        }
      ]
    },
    {
      "cell_type": "code",
      "source": [
        "my_str = ''' Hi I'm \" good '''\n",
        "my_str"
      ],
      "metadata": {
        "colab": {
          "base_uri": "https://localhost:8080/",
          "height": 36
        },
        "id": "JOeFz_rXv8FK",
        "outputId": "6112be14-ba57-4207-ef35-401ccc759c74"
      },
      "execution_count": null,
      "outputs": [
        {
          "output_type": "execute_result",
          "data": {
            "text/plain": [
              "' Hi I\\'m \" good '"
            ],
            "application/vnd.google.colaboratory.intrinsic+json": {
              "type": "string"
            }
          },
          "metadata": {},
          "execution_count": 68
        }
      ]
    },
    {
      "cell_type": "markdown",
      "source": [
        "### Escape sequences"
      ],
      "metadata": {
        "id": "fpRSaSsyZLVR"
      }
    },
    {
      "cell_type": "code",
      "source": [
        "my_str = \"Hi\\nHello World!\"\n",
        "print(my_str)"
      ],
      "metadata": {
        "colab": {
          "base_uri": "https://localhost:8080/"
        },
        "id": "Z3tKoIKnzBT9",
        "outputId": "5b808141-d3cc-4957-eea7-c7d3a8e0e05d"
      },
      "execution_count": null,
      "outputs": [
        {
          "output_type": "stream",
          "name": "stdout",
          "text": [
            "Hi\n",
            "Hello World!\n"
          ]
        }
      ]
    },
    {
      "cell_type": "code",
      "source": [
        "my_str[2]"
      ],
      "metadata": {
        "colab": {
          "base_uri": "https://localhost:8080/",
          "height": 36
        },
        "id": "qjn9gSe6ZlzK",
        "outputId": "5b3d4223-12fe-421b-fea7-452d98c304a8"
      },
      "execution_count": null,
      "outputs": [
        {
          "output_type": "execute_result",
          "data": {
            "text/plain": [
              "'\\n'"
            ],
            "application/vnd.google.colaboratory.intrinsic+json": {
              "type": "string"
            }
          },
          "metadata": {},
          "execution_count": 22
        }
      ]
    },
    {
      "cell_type": "code",
      "source": [
        "my_str = \"Hi\\\\nHello World!\"\n",
        "print(my_str)"
      ],
      "metadata": {
        "colab": {
          "base_uri": "https://localhost:8080/"
        },
        "id": "aL5DrHh4zv7N",
        "outputId": "cebe5bf9-182b-4049-a693-7e4200fe152a"
      },
      "execution_count": null,
      "outputs": [
        {
          "output_type": "stream",
          "name": "stdout",
          "text": [
            "Hi\\nHello World!\n"
          ]
        }
      ]
    },
    {
      "cell_type": "code",
      "source": [
        "my_str = r\"Hi\\nHello World!\"\n",
        "print(my_str)"
      ],
      "metadata": {
        "colab": {
          "base_uri": "https://localhost:8080/"
        },
        "id": "tUGrK4fkZvmo",
        "outputId": "043bedac-ebae-41fe-fbfa-9fa1173478ef"
      },
      "execution_count": null,
      "outputs": [
        {
          "output_type": "stream",
          "name": "stdout",
          "text": [
            "Hi\\nHello World!\n"
          ]
        }
      ]
    },
    {
      "cell_type": "code",
      "source": [
        "my_str = \"hello world! I'm Mohsen\"\n",
        "my_str.lower()"
      ],
      "metadata": {
        "colab": {
          "base_uri": "https://localhost:8080/",
          "height": 36
        },
        "id": "GI0yGk0nlZj0",
        "outputId": "f02d2026-2bc2-442f-c751-68ce419be5f2"
      },
      "execution_count": null,
      "outputs": [
        {
          "output_type": "execute_result",
          "data": {
            "text/plain": [
              "\"hello world! i'm mohsen\""
            ],
            "application/vnd.google.colaboratory.intrinsic+json": {
              "type": "string"
            }
          },
          "metadata": {},
          "execution_count": 28
        }
      ]
    },
    {
      "cell_type": "markdown",
      "source": [
        "## List"
      ],
      "metadata": {
        "id": "hJ6nJAF10EA8"
      }
    },
    {
      "cell_type": "code",
      "source": [
        "my_list = [1,2,3,4,5,6,7,8,9,10]\n",
        "my_list"
      ],
      "metadata": {
        "colab": {
          "base_uri": "https://localhost:8080/"
        },
        "id": "67Lf3e8gaNyk",
        "outputId": "40476a7d-c450-4c4d-eab0-ee6ddd8b751d"
      },
      "execution_count": null,
      "outputs": [
        {
          "output_type": "execute_result",
          "data": {
            "text/plain": [
              "[1, 2, 3, 4, 5, 6, 7, 8, 9, 10]"
            ]
          },
          "metadata": {},
          "execution_count": 34
        }
      ]
    },
    {
      "cell_type": "code",
      "source": [
        "type(my_list)"
      ],
      "metadata": {
        "colab": {
          "base_uri": "https://localhost:8080/"
        },
        "id": "ICDKcQ1OsHfD",
        "outputId": "2f33081d-caa1-4b67-d329-3bb16ccec19c"
      },
      "execution_count": null,
      "outputs": [
        {
          "output_type": "execute_result",
          "data": {
            "text/plain": [
              "list"
            ]
          },
          "metadata": {},
          "execution_count": 35
        }
      ]
    },
    {
      "cell_type": "code",
      "source": [
        "my_list = [1, True, \"Hi\"]"
      ],
      "metadata": {
        "id": "tojgCIslr8yO"
      },
      "execution_count": null,
      "outputs": []
    },
    {
      "cell_type": "code",
      "source": [
        "my_list = [1,2,3,4,5,6,7,8,9,10]\n",
        "my_list[4]"
      ],
      "metadata": {
        "colab": {
          "base_uri": "https://localhost:8080/"
        },
        "id": "ysuBehrNsT2L",
        "outputId": "52ed9163-702d-4a2c-9523-6a7618ca3190"
      },
      "execution_count": null,
      "outputs": [
        {
          "output_type": "execute_result",
          "data": {
            "text/plain": [
              "5"
            ]
          },
          "metadata": {},
          "execution_count": 39
        }
      ]
    },
    {
      "cell_type": "code",
      "source": [
        "my_list[-2]"
      ],
      "metadata": {
        "colab": {
          "base_uri": "https://localhost:8080/"
        },
        "id": "8WtvwNj7sT8i",
        "outputId": "51b0d346-717b-4c8e-dd81-76702a74ca31"
      },
      "execution_count": null,
      "outputs": [
        {
          "output_type": "execute_result",
          "data": {
            "text/plain": [
              "9"
            ]
          },
          "metadata": {},
          "execution_count": 40
        }
      ]
    },
    {
      "cell_type": "code",
      "source": [
        "my_list[::-1]"
      ],
      "metadata": {
        "colab": {
          "base_uri": "https://localhost:8080/"
        },
        "id": "kIrvY2xOsT-7",
        "outputId": "ee2adbc2-e9ed-4aef-e1d9-0dda592378a3"
      },
      "execution_count": null,
      "outputs": [
        {
          "output_type": "execute_result",
          "data": {
            "text/plain": [
              "[10, 9, 8, 7, 6, 5, 4, 3, 2, 1]"
            ]
          },
          "metadata": {},
          "execution_count": 41
        }
      ]
    },
    {
      "cell_type": "code",
      "source": [
        "my_list[::3]"
      ],
      "metadata": {
        "colab": {
          "base_uri": "https://localhost:8080/"
        },
        "id": "ETQJGWHgsUBS",
        "outputId": "e7c6fd65-c2b5-4aff-9001-bcc7a0532635"
      },
      "execution_count": null,
      "outputs": [
        {
          "output_type": "execute_result",
          "data": {
            "text/plain": [
              "[1, 4, 7, 10]"
            ]
          },
          "metadata": {},
          "execution_count": 42
        }
      ]
    },
    {
      "cell_type": "markdown",
      "source": [
        "List is mutable:"
      ],
      "metadata": {
        "id": "MYgHVRW-aiCl"
      }
    },
    {
      "cell_type": "code",
      "source": [
        "my_list[0] = 100"
      ],
      "metadata": {
        "id": "nes7J0rjaNjI"
      },
      "execution_count": null,
      "outputs": []
    },
    {
      "cell_type": "code",
      "source": [
        "my_list"
      ],
      "metadata": {
        "colab": {
          "base_uri": "https://localhost:8080/"
        },
        "id": "zEJ-oyYXsx0m",
        "outputId": "60135ff5-83f5-452c-ba73-b8124b553d7c"
      },
      "execution_count": null,
      "outputs": [
        {
          "output_type": "execute_result",
          "data": {
            "text/plain": [
              "[100, 2, 3, 4, 5, 6, 7, 8, 9, 10]"
            ]
          },
          "metadata": {},
          "execution_count": 44
        }
      ]
    },
    {
      "cell_type": "code",
      "source": [
        "my_list.append(-20)\n",
        "my_list"
      ],
      "metadata": {
        "colab": {
          "base_uri": "https://localhost:8080/"
        },
        "id": "zBxcszaLs2uY",
        "outputId": "05242403-ddb3-45a5-c4d8-816022b87ecf"
      },
      "execution_count": null,
      "outputs": [
        {
          "output_type": "execute_result",
          "data": {
            "text/plain": [
              "[100, 2, 3, 4, 5, 6, 7, 8, 9, 10, -20]"
            ]
          },
          "metadata": {},
          "execution_count": 45
        }
      ]
    },
    {
      "cell_type": "markdown",
      "source": [
        "## Tuple"
      ],
      "metadata": {
        "id": "9dCjswxK0V5P"
      }
    },
    {
      "cell_type": "code",
      "source": [
        "my_tuple = (\"Hi\", \"Hello\", \"Car\")\n",
        "my_tuple"
      ],
      "metadata": {
        "colab": {
          "base_uri": "https://localhost:8080/"
        },
        "id": "QoytlUurdf9x",
        "outputId": "5a64aa9b-cef6-46bc-c209-c26a1d5b5a99"
      },
      "execution_count": null,
      "outputs": [
        {
          "output_type": "execute_result",
          "data": {
            "text/plain": [
              "('Hi', 'Hello', 'Car')"
            ]
          },
          "metadata": {},
          "execution_count": 46
        }
      ]
    },
    {
      "cell_type": "code",
      "source": [
        "my_tuple[-1]"
      ],
      "metadata": {
        "colab": {
          "base_uri": "https://localhost:8080/",
          "height": 36
        },
        "id": "4EZREzNAtOTa",
        "outputId": "78d6d70c-ab8e-4119-99eb-b2046a040dec"
      },
      "execution_count": null,
      "outputs": [
        {
          "output_type": "execute_result",
          "data": {
            "text/plain": [
              "'Car'"
            ],
            "application/vnd.google.colaboratory.intrinsic+json": {
              "type": "string"
            }
          },
          "metadata": {},
          "execution_count": 47
        }
      ]
    },
    {
      "cell_type": "markdown",
      "source": [
        "Tuple is immutable:"
      ],
      "metadata": {
        "id": "VSE4MXd6d1Fy"
      }
    },
    {
      "cell_type": "code",
      "source": [
        "my_tuple[0] = \"Bye\""
      ],
      "metadata": {
        "colab": {
          "base_uri": "https://localhost:8080/",
          "height": 144
        },
        "id": "MpIaz0VwtORK",
        "outputId": "b8784e0d-559c-47d7-d229-72e7cba5785c"
      },
      "execution_count": null,
      "outputs": [
        {
          "output_type": "error",
          "ename": "TypeError",
          "evalue": "'tuple' object does not support item assignment",
          "traceback": [
            "\u001b[0;31m---------------------------------------------------------------------------\u001b[0m",
            "\u001b[0;31mTypeError\u001b[0m                                 Traceback (most recent call last)",
            "\u001b[0;32m<ipython-input-48-3ada9e5508ce>\u001b[0m in \u001b[0;36m<cell line: 0>\u001b[0;34m()\u001b[0m\n\u001b[0;32m----> 1\u001b[0;31m \u001b[0mmy_tuple\u001b[0m\u001b[0;34m[\u001b[0m\u001b[0;36m0\u001b[0m\u001b[0;34m]\u001b[0m \u001b[0;34m=\u001b[0m \u001b[0;34m\"Bye\"\u001b[0m\u001b[0;34m\u001b[0m\u001b[0;34m\u001b[0m\u001b[0m\n\u001b[0m",
            "\u001b[0;31mTypeError\u001b[0m: 'tuple' object does not support item assignment"
          ]
        }
      ]
    },
    {
      "cell_type": "markdown",
      "source": [
        "<img src=\"https://raw.githubusercontent.com/M-Ghodrat/Servus/d456bf4b9de081d56c1b609f77e39db3e0007ecf/images/hash.PNG\" height=\"300\">\n"
      ],
      "metadata": {
        "id": "j2vOt0dueCVt"
      }
    },
    {
      "cell_type": "code",
      "source": [
        "hash(\"dsdere\")"
      ],
      "metadata": {
        "colab": {
          "base_uri": "https://localhost:8080/"
        },
        "id": "uZ-J-8J4t_Jo",
        "outputId": "f3dc6540-f82b-433e-96a3-4a26c5d641c6"
      },
      "execution_count": null,
      "outputs": [
        {
          "output_type": "execute_result",
          "data": {
            "text/plain": [
              "-6739963816178912487"
            ]
          },
          "metadata": {},
          "execution_count": 61
        }
      ]
    },
    {
      "cell_type": "code",
      "source": [
        "hash(\"Hii\")"
      ],
      "metadata": {
        "colab": {
          "base_uri": "https://localhost:8080/"
        },
        "id": "v6bRTMZcujmF",
        "outputId": "fdb27576-ecc4-4a74-dced-6fbd3d462a90"
      },
      "execution_count": null,
      "outputs": [
        {
          "output_type": "execute_result",
          "data": {
            "text/plain": [
              "4066764368617799085"
            ]
          },
          "metadata": {},
          "execution_count": 58
        }
      ]
    },
    {
      "cell_type": "markdown",
      "source": [
        "## Dictionary"
      ],
      "metadata": {
        "id": "w6siwnOa0Yuo"
      }
    },
    {
      "cell_type": "code",
      "source": [
        "# {key : value}\n",
        "my_dict = {\"one\":1, \"two\":2, \"three\":3}"
      ],
      "metadata": {
        "id": "0rGXsS8evsWk"
      },
      "execution_count": null,
      "outputs": []
    },
    {
      "cell_type": "markdown",
      "source": [
        "It works like a mapping!"
      ],
      "metadata": {
        "id": "Honah16UauCI"
      }
    },
    {
      "cell_type": "code",
      "source": [
        "my_dict[\"two\"]"
      ],
      "metadata": {
        "id": "cCQlH3ic0aOO",
        "colab": {
          "base_uri": "https://localhost:8080/"
        },
        "outputId": "4e64bcc8-1a84-4405-a5b6-b5f6bbc6aa5c"
      },
      "execution_count": null,
      "outputs": [
        {
          "output_type": "execute_result",
          "data": {
            "text/plain": [
              "2"
            ]
          },
          "metadata": {},
          "execution_count": 68
        }
      ]
    },
    {
      "cell_type": "code",
      "source": [
        "my_dict = {\"one\":1, \"two\":[1,2,3], \"three\":\"Hi\", \"four\": True, \"five\": {\"one\":1, \"two\":2, \"three\":3}}"
      ],
      "metadata": {
        "id": "rryxtfeHwlkc"
      },
      "execution_count": null,
      "outputs": []
    },
    {
      "cell_type": "code",
      "source": [
        "my_dict[\"five\"]"
      ],
      "metadata": {
        "colab": {
          "base_uri": "https://localhost:8080/"
        },
        "id": "oWyR3vW7wwWR",
        "outputId": "3b4c1c65-9e6c-4d32-cadd-9cd817ff7807"
      },
      "execution_count": null,
      "outputs": [
        {
          "output_type": "execute_result",
          "data": {
            "text/plain": [
              "{'one': 1, 'two': 2, 'three': 3}"
            ]
          },
          "metadata": {},
          "execution_count": 74
        }
      ]
    },
    {
      "cell_type": "code",
      "source": [
        "my_dict = {1:1, 2:2, \"three\":3}"
      ],
      "metadata": {
        "id": "UO2FpvEHw4I-"
      },
      "execution_count": null,
      "outputs": []
    },
    {
      "cell_type": "code",
      "source": [
        "my_dict = {[1,2,3]:1, 2:2, \"three\":3}"
      ],
      "metadata": {
        "colab": {
          "base_uri": "https://localhost:8080/",
          "height": 144
        },
        "id": "Sf9xEKIUw_Bs",
        "outputId": "bd0a85eb-bdb2-4b86-8533-076014208b06"
      },
      "execution_count": null,
      "outputs": [
        {
          "output_type": "error",
          "ename": "TypeError",
          "evalue": "unhashable type: 'list'",
          "traceback": [
            "\u001b[0;31m---------------------------------------------------------------------------\u001b[0m",
            "\u001b[0;31mTypeError\u001b[0m                                 Traceback (most recent call last)",
            "\u001b[0;32m<ipython-input-72-4502f77f6d9d>\u001b[0m in \u001b[0;36m<cell line: 0>\u001b[0;34m()\u001b[0m\n\u001b[0;32m----> 1\u001b[0;31m \u001b[0mmy_dict\u001b[0m \u001b[0;34m=\u001b[0m \u001b[0;34m{\u001b[0m\u001b[0;34m[\u001b[0m\u001b[0;36m1\u001b[0m\u001b[0;34m,\u001b[0m\u001b[0;36m2\u001b[0m\u001b[0;34m,\u001b[0m\u001b[0;36m3\u001b[0m\u001b[0;34m]\u001b[0m\u001b[0;34m:\u001b[0m\u001b[0;36m1\u001b[0m\u001b[0;34m,\u001b[0m \u001b[0;36m2\u001b[0m\u001b[0;34m:\u001b[0m\u001b[0;36m2\u001b[0m\u001b[0;34m,\u001b[0m \u001b[0;34m\"three\"\u001b[0m\u001b[0;34m:\u001b[0m\u001b[0;36m3\u001b[0m\u001b[0;34m}\u001b[0m\u001b[0;34m\u001b[0m\u001b[0;34m\u001b[0m\u001b[0m\n\u001b[0m",
            "\u001b[0;31mTypeError\u001b[0m: unhashable type: 'list'"
          ]
        }
      ]
    },
    {
      "cell_type": "markdown",
      "source": [
        "Dictionary is mutable:"
      ],
      "metadata": {
        "id": "dhiB9cFed7uv"
      }
    },
    {
      "cell_type": "code",
      "source": [
        "my_dict = {\"one\":1, \"two\":2, \"three\":3}\n",
        "my_dict[\"two\"] = 200\n",
        "my_dict"
      ],
      "metadata": {
        "colab": {
          "base_uri": "https://localhost:8080/"
        },
        "id": "tpUdLJbod7-1",
        "outputId": "41843026-5765-416b-f4bd-4755a99da188"
      },
      "execution_count": null,
      "outputs": [
        {
          "output_type": "execute_result",
          "data": {
            "text/plain": [
              "{'one': 1, 'two': 200, 'three': 3}"
            ]
          },
          "metadata": {},
          "execution_count": 75
        }
      ]
    },
    {
      "cell_type": "markdown",
      "source": [
        "## Set"
      ],
      "metadata": {
        "id": "4xpHrAF40c8i"
      }
    },
    {
      "cell_type": "code",
      "source": [
        "my_set = {1, 2, 3, 4}"
      ],
      "metadata": {
        "id": "v0aDmdm90cwb"
      },
      "execution_count": null,
      "outputs": []
    },
    {
      "cell_type": "code",
      "source": [
        "type(my_set)"
      ],
      "metadata": {
        "colab": {
          "base_uri": "https://localhost:8080/"
        },
        "id": "cyhMMtHDxxY6",
        "outputId": "4088653f-5275-4465-e731-fd4e713a9c8b"
      },
      "execution_count": null,
      "outputs": [
        {
          "output_type": "execute_result",
          "data": {
            "text/plain": [
              "set"
            ]
          },
          "metadata": {},
          "execution_count": 78
        }
      ]
    },
    {
      "cell_type": "code",
      "source": [
        "my_set = {1, 2, 3, 4, 4, 4}\n",
        "my_set"
      ],
      "metadata": {
        "colab": {
          "base_uri": "https://localhost:8080/"
        },
        "id": "L-rD_pJGx0tn",
        "outputId": "7b320b34-f8b2-448c-8c90-8b7d154eadb3"
      },
      "execution_count": null,
      "outputs": [
        {
          "output_type": "execute_result",
          "data": {
            "text/plain": [
              "{1, 2, 3, 4}"
            ]
          },
          "metadata": {},
          "execution_count": 82
        }
      ]
    },
    {
      "cell_type": "code",
      "source": [
        "my_set = {1, 2, [1,2,3]}"
      ],
      "metadata": {
        "colab": {
          "base_uri": "https://localhost:8080/",
          "height": 144
        },
        "id": "gCqwyWNRyKl2",
        "outputId": "5f2065ac-9330-407c-dc22-1cc48c3872dc"
      },
      "execution_count": null,
      "outputs": [
        {
          "output_type": "error",
          "ename": "TypeError",
          "evalue": "unhashable type: 'list'",
          "traceback": [
            "\u001b[0;31m---------------------------------------------------------------------------\u001b[0m",
            "\u001b[0;31mTypeError\u001b[0m                                 Traceback (most recent call last)",
            "\u001b[0;32m<ipython-input-84-47a9067c319c>\u001b[0m in \u001b[0;36m<cell line: 0>\u001b[0;34m()\u001b[0m\n\u001b[0;32m----> 1\u001b[0;31m \u001b[0mmy_set\u001b[0m \u001b[0;34m=\u001b[0m \u001b[0;34m{\u001b[0m\u001b[0;36m1\u001b[0m\u001b[0;34m,\u001b[0m \u001b[0;36m2\u001b[0m\u001b[0;34m,\u001b[0m \u001b[0;34m[\u001b[0m\u001b[0;36m1\u001b[0m\u001b[0;34m,\u001b[0m\u001b[0;36m2\u001b[0m\u001b[0;34m,\u001b[0m\u001b[0;36m3\u001b[0m\u001b[0;34m]\u001b[0m\u001b[0;34m}\u001b[0m\u001b[0;34m\u001b[0m\u001b[0;34m\u001b[0m\u001b[0m\n\u001b[0m",
            "\u001b[0;31mTypeError\u001b[0m: unhashable type: 'list'"
          ]
        }
      ]
    },
    {
      "cell_type": "code",
      "source": [
        "my_set = {1,2,3,4}\n",
        "my_set[1]"
      ],
      "metadata": {
        "colab": {
          "base_uri": "https://localhost:8080/",
          "height": 162
        },
        "id": "9s2DWR0oybGV",
        "outputId": "4ab34d4e-6e23-4372-f978-22372469de15"
      },
      "execution_count": null,
      "outputs": [
        {
          "output_type": "error",
          "ename": "TypeError",
          "evalue": "'set' object is not subscriptable",
          "traceback": [
            "\u001b[0;31m---------------------------------------------------------------------------\u001b[0m",
            "\u001b[0;31mTypeError\u001b[0m                                 Traceback (most recent call last)",
            "\u001b[0;32m<ipython-input-85-c7192014b073>\u001b[0m in \u001b[0;36m<cell line: 0>\u001b[0;34m()\u001b[0m\n\u001b[1;32m      1\u001b[0m \u001b[0mmy_set\u001b[0m \u001b[0;34m=\u001b[0m \u001b[0;34m{\u001b[0m\u001b[0;36m1\u001b[0m\u001b[0;34m,\u001b[0m\u001b[0;36m2\u001b[0m\u001b[0;34m,\u001b[0m\u001b[0;36m3\u001b[0m\u001b[0;34m,\u001b[0m\u001b[0;36m4\u001b[0m\u001b[0;34m}\u001b[0m\u001b[0;34m\u001b[0m\u001b[0;34m\u001b[0m\u001b[0m\n\u001b[0;32m----> 2\u001b[0;31m \u001b[0mmy_set\u001b[0m\u001b[0;34m[\u001b[0m\u001b[0;36m1\u001b[0m\u001b[0;34m]\u001b[0m\u001b[0;34m\u001b[0m\u001b[0;34m\u001b[0m\u001b[0m\n\u001b[0m",
            "\u001b[0;31mTypeError\u001b[0m: 'set' object is not subscriptable"
          ]
        }
      ]
    },
    {
      "cell_type": "markdown",
      "source": [
        "Set is mutable:"
      ],
      "metadata": {
        "id": "bSQ5ZuXybHxf"
      }
    },
    {
      "cell_type": "code",
      "source": [
        "my_set.add(10)\n",
        "my_set"
      ],
      "metadata": {
        "colab": {
          "base_uri": "https://localhost:8080/"
        },
        "id": "4urvXvyGbf8K",
        "outputId": "1a85476c-50f6-4373-d6f2-5b914cf9fb66"
      },
      "execution_count": null,
      "outputs": [
        {
          "output_type": "execute_result",
          "data": {
            "text/plain": [
              "{1, 2, 3, 4, 10}"
            ]
          },
          "metadata": {},
          "execution_count": 86
        }
      ]
    },
    {
      "cell_type": "code",
      "source": [
        "{1,2,3} == {3,1,2}"
      ],
      "metadata": {
        "colab": {
          "base_uri": "https://localhost:8080/"
        },
        "id": "8AbzeuYCypgX",
        "outputId": "183d4d38-c51e-4f8a-de2d-86028f4ff235"
      },
      "execution_count": null,
      "outputs": [
        {
          "output_type": "execute_result",
          "data": {
            "text/plain": [
              "True"
            ]
          },
          "metadata": {},
          "execution_count": 87
        }
      ]
    },
    {
      "cell_type": "code",
      "source": [
        "my_set = {1, \"True\", (1,2,3)}\n",
        "my_set"
      ],
      "metadata": {
        "colab": {
          "base_uri": "https://localhost:8080/"
        },
        "id": "trHoxiB6yyJP",
        "outputId": "35eb2efc-e1c7-40e4-ac5b-8fe0b05d6dad"
      },
      "execution_count": null,
      "outputs": [
        {
          "output_type": "execute_result",
          "data": {
            "text/plain": [
              "{(1, 2, 3), 1, 'True'}"
            ]
          },
          "metadata": {},
          "execution_count": 88
        }
      ]
    },
    {
      "cell_type": "markdown",
      "source": [
        "## Iterables\n",
        "\n",
        "The `iter()` function is used to create an `iterator` from an `iterable`."
      ],
      "metadata": {
        "id": "EPSsmE87ittU"
      }
    },
    {
      "cell_type": "code",
      "source": [
        "iterator = iter(\"abc\")"
      ],
      "metadata": {
        "id": "fFn0PmGbivov"
      },
      "execution_count": null,
      "outputs": []
    },
    {
      "cell_type": "code",
      "source": [
        "next(iterator)"
      ],
      "metadata": {
        "colab": {
          "base_uri": "https://localhost:8080/",
          "height": 36
        },
        "id": "Ed7KtuY0iyXv",
        "outputId": "d5f2509d-2c8a-4eb1-ed35-d729a445a571"
      },
      "execution_count": null,
      "outputs": [
        {
          "output_type": "execute_result",
          "data": {
            "text/plain": [
              "'a'"
            ],
            "application/vnd.google.colaboratory.intrinsic+json": {
              "type": "string"
            }
          },
          "metadata": {},
          "execution_count": 146
        }
      ]
    },
    {
      "cell_type": "code",
      "source": [],
      "metadata": {
        "id": "M842otUjkonL"
      },
      "execution_count": null,
      "outputs": []
    },
    {
      "cell_type": "markdown",
      "source": [
        "## Knowledge Check\n",
        "\n",
        "You are given a table of customer information with the following attributes: Name, Age, Income, and Tenure. Your task is to represent this customer data using two different data structures: a list and a dictionary.\n",
        "\n",
        "| Name     | Age | Income | Tenure |\n",
        "|----------|-----|--------|--------|\n",
        "| Alice    | 30  | 50000  | 5      |\n",
        "| Bob      | 45  | 60000  | 10     |\n",
        "| Charlie  | 25  | 45000  | 3      |\n",
        "| Diana    | 40  | 70000  | 8      |\n",
        "| Eve      | 35  | 55000  | 6      |"
      ],
      "metadata": {
        "id": "0vXtBCTUsA58"
      }
    },
    {
      "cell_type": "code",
      "source": [
        "names = [\"Alice\", \"Bob\", \"Charlie\", \"Diana\", \"Eve\"]\n",
        "age = [30, 45, 25, 40, 35]\n",
        "income = [50000, 60000, 45000, 70000, 55000]\n",
        "tenure = [5, 10, 3, 8, 6]\n",
        "\n",
        "customer_list = [names, age, income, tenure]\n",
        "customer_list"
      ],
      "metadata": {
        "colab": {
          "base_uri": "https://localhost:8080/"
        },
        "id": "0CT4RucjsD44",
        "outputId": "13520b44-314a-46f0-aa6a-54b0eb1597bd"
      },
      "execution_count": null,
      "outputs": [
        {
          "output_type": "execute_result",
          "data": {
            "text/plain": [
              "[['Alice', 'Bob', 'Charlie', 'Diana', 'Eve'],\n",
              " [30, 45, 25, 40, 35],\n",
              " [50000, 60000, 45000, 70000, 55000],\n",
              " [5, 10, 3, 8, 6]]"
            ]
          },
          "metadata": {},
          "execution_count": 90
        }
      ]
    },
    {
      "cell_type": "code",
      "source": [
        "customer_list2 = [[\"Alice\", 30, 50000, 5], [\"Bob\", 45, 60000, 10]]\n",
        "customer_list2"
      ],
      "metadata": {
        "colab": {
          "base_uri": "https://localhost:8080/"
        },
        "id": "_LBRFyz5z3Az",
        "outputId": "3a8bc068-88b8-446b-9b04-d279549d662f"
      },
      "execution_count": null,
      "outputs": [
        {
          "output_type": "execute_result",
          "data": {
            "text/plain": [
              "[['Alice', 30, 50000, 5], ['Bob', 45, 60000, 10]]"
            ]
          },
          "metadata": {},
          "execution_count": 91
        }
      ]
    },
    {
      "cell_type": "code",
      "source": [
        "customer_list2[1][2]"
      ],
      "metadata": {
        "colab": {
          "base_uri": "https://localhost:8080/"
        },
        "id": "tD2Xr7-c0bTa",
        "outputId": "132d26b2-3ce5-4ead-8ba1-fecfe949a1c2"
      },
      "execution_count": null,
      "outputs": [
        {
          "output_type": "execute_result",
          "data": {
            "text/plain": [
              "60000"
            ]
          },
          "metadata": {},
          "execution_count": 93
        }
      ]
    },
    {
      "cell_type": "code",
      "source": [
        "customer_dict = {\n",
        "    \"Alice\": [30, 50000, 5],\n",
        "    \"Bob\": [45, 60000, 10]\n",
        "}\n",
        "customer_dict"
      ],
      "metadata": {
        "colab": {
          "base_uri": "https://localhost:8080/"
        },
        "id": "m6YRWLyG0lB8",
        "outputId": "15d04bd5-7296-44cd-caac-dfeb634b3ae0"
      },
      "execution_count": null,
      "outputs": [
        {
          "output_type": "execute_result",
          "data": {
            "text/plain": [
              "{'Alice': [30, 50000, 5], 'Bob': [45, 60000, 10]}"
            ]
          },
          "metadata": {},
          "execution_count": 95
        }
      ]
    },
    {
      "cell_type": "code",
      "source": [
        "customer_dict[\"Bob\"][1]"
      ],
      "metadata": {
        "colab": {
          "base_uri": "https://localhost:8080/"
        },
        "id": "lrHs2ovZ08Um",
        "outputId": "a12abebd-5f97-4353-9cd6-853d4e354b3d"
      },
      "execution_count": null,
      "outputs": [
        {
          "output_type": "execute_result",
          "data": {
            "text/plain": [
              "60000"
            ]
          },
          "metadata": {},
          "execution_count": 97
        }
      ]
    },
    {
      "cell_type": "code",
      "source": [
        "customer_dict = {\n",
        "    \"Alice\": {\"age\":30, \"income\":50000, \"tenure\":5},\n",
        "    \"Bob\": {\"age\":45, \"income\":60000, \"tenure\":10}\n",
        "}\n",
        "customer_dict"
      ],
      "metadata": {
        "colab": {
          "base_uri": "https://localhost:8080/"
        },
        "id": "uq88JmfA1DRy",
        "outputId": "7bd91ba5-ce3b-4223-8882-a0be694e3a6b"
      },
      "execution_count": null,
      "outputs": [
        {
          "output_type": "execute_result",
          "data": {
            "text/plain": [
              "{'Alice': {'age': 30, 'income': 50000, 'tenure': 5},\n",
              " 'Bob': {'age': 45, 'income': 60000, 'tenure': 10}}"
            ]
          },
          "metadata": {},
          "execution_count": 98
        }
      ]
    },
    {
      "cell_type": "code",
      "source": [
        "customer_dict[\"Bob\"][\"income\"]"
      ],
      "metadata": {
        "colab": {
          "base_uri": "https://localhost:8080/"
        },
        "id": "fnWVwiNw1QSU",
        "outputId": "d1e9b038-03d9-4b95-bf2d-9debac073370"
      },
      "execution_count": null,
      "outputs": [
        {
          "output_type": "execute_result",
          "data": {
            "text/plain": [
              "60000"
            ]
          },
          "metadata": {},
          "execution_count": 102
        }
      ]
    },
    {
      "cell_type": "code",
      "source": [],
      "metadata": {
        "id": "WbA3NLsG1TXY"
      },
      "execution_count": null,
      "outputs": []
    }
  ]
}