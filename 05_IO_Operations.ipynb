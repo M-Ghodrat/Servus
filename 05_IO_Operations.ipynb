{
  "nbformat": 4,
  "nbformat_minor": 0,
  "metadata": {
    "colab": {
      "provenance": [],
      "authorship_tag": "ABX9TyOr5e2k3X2qfU16/xNWgNni",
      "include_colab_link": true
    },
    "kernelspec": {
      "name": "python3",
      "display_name": "Python 3"
    },
    "language_info": {
      "name": "python"
    }
  },
  "cells": [
    {
      "cell_type": "markdown",
      "metadata": {
        "id": "view-in-github",
        "colab_type": "text"
      },
      "source": [
        "<a href=\"https://colab.research.google.com/github/M-Ghodrat/Servus/blob/main/05_IO_Operations.ipynb\" target=\"_parent\"><img src=\"https://colab.research.google.com/assets/colab-badge.svg\" alt=\"Open In Colab\"/></a>"
      ]
    },
    {
      "cell_type": "code",
      "execution_count": 5,
      "metadata": {
        "colab": {
          "base_uri": "https://localhost:8080/"
        },
        "id": "mIpn_CXNXURt",
        "outputId": "e30e7553-4d0d-4f4d-cc36-908268a2b38e"
      },
      "outputs": [
        {
          "output_type": "stream",
          "name": "stdout",
          "text": [
            "Appending to myfile.txt\n"
          ]
        }
      ],
      "source": [
        "%%writefile myfile.txt\n",
        "this is line 1\n",
        "this is line 2\n",
        "this is line 3\n",
        "this is line 4\n",
        "this is line 5\n",
        "this is line 6"
      ]
    },
    {
      "cell_type": "markdown",
      "source": [
        "To avoid overwritten use:\n",
        "\n",
        "%%writefile -a myfile.txt"
      ],
      "metadata": {
        "id": "sKRvDbYXXjMf"
      }
    },
    {
      "cell_type": "markdown",
      "source": [
        "## Simple Text File"
      ],
      "metadata": {
        "id": "92xjK7tEXubp"
      }
    },
    {
      "cell_type": "code",
      "source": [
        "!pwd"
      ],
      "metadata": {
        "colab": {
          "base_uri": "https://localhost:8080/"
        },
        "id": "k44eI8UWXvGN",
        "outputId": "02dee324-d949-448a-98cd-983e1f684120"
      },
      "execution_count": 10,
      "outputs": [
        {
          "output_type": "stream",
          "name": "stdout",
          "text": [
            "/content\n"
          ]
        }
      ]
    },
    {
      "cell_type": "code",
      "source": [
        "# relative path:\n",
        "f = open(\"myfile.txt\")"
      ],
      "metadata": {
        "id": "JS00EDJ0XzGK"
      },
      "execution_count": 12,
      "outputs": []
    },
    {
      "cell_type": "markdown",
      "source": [
        "Other alternative ways of using relative path:"
      ],
      "metadata": {
        "id": "8BBei5MLYELZ"
      }
    },
    {
      "cell_type": "code",
      "source": [
        "f = open(\"./myfile.txt\")"
      ],
      "metadata": {
        "id": "puoj8hXgYCEJ"
      },
      "execution_count": 17,
      "outputs": []
    },
    {
      "cell_type": "code",
      "source": [
        "f = open(\"/content/myfile.txt\")"
      ],
      "metadata": {
        "id": "Hz9zyTvZYE3L"
      },
      "execution_count": 14,
      "outputs": []
    },
    {
      "cell_type": "markdown",
      "source": [
        "Why not using full path?\n",
        "\n",
        "- using full path is not safe!!\n",
        "- we normally write code to distribute it to others! so the path should be compatible with their directories!\n",
        "\n",
        "`f` is called file handler. It is an object."
      ],
      "metadata": {
        "id": "FDCUkxaOYSQz"
      }
    },
    {
      "cell_type": "code",
      "source": [
        "f.read()"
      ],
      "metadata": {
        "colab": {
          "base_uri": "https://localhost:8080/",
          "height": 52
        },
        "id": "qlWLe8AOYPH2",
        "outputId": "77951fe6-64ba-4e5b-9ba5-0494ea24dbc8"
      },
      "execution_count": 18,
      "outputs": [
        {
          "output_type": "execute_result",
          "data": {
            "text/plain": [
              "'this is line 2\\nthis is line 2\\nthis is line 3\\nthis is line 4\\nthis is line 5\\nthis is line 6\\nthis is line 1\\nthis is line 2\\nthis is line 3\\nthis is line 4\\nthis is line 5\\nthis is line 6\\nend\\n'"
            ],
            "application/vnd.google.colaboratory.intrinsic+json": {
              "type": "string"
            }
          },
          "metadata": {},
          "execution_count": 18
        }
      ]
    },
    {
      "cell_type": "code",
      "source": [
        "f.read()"
      ],
      "metadata": {
        "colab": {
          "base_uri": "https://localhost:8080/",
          "height": 35
        },
        "id": "T7j5OFpaYYFN",
        "outputId": "bb8f3954-95ca-4c62-c65f-7c1c221a6cfb"
      },
      "execution_count": 25,
      "outputs": [
        {
          "output_type": "execute_result",
          "data": {
            "text/plain": [
              "''"
            ],
            "application/vnd.google.colaboratory.intrinsic+json": {
              "type": "string"
            }
          },
          "metadata": {},
          "execution_count": 25
        }
      ]
    },
    {
      "cell_type": "markdown",
      "source": [
        "Why the second time reading of `f`, i.e., `f.read()`, shows empty?\n",
        "\n",
        "After reading f, the cursor places at the end of the text document. Now, how can we bring the cursor back? or in general at some specific place? Here is the solution:"
      ],
      "metadata": {
        "id": "yXwYmbWwYhiA"
      }
    },
    {
      "cell_type": "code",
      "source": [
        "# move the cursor with seek\n",
        "f.seek(0)"
      ],
      "metadata": {
        "colab": {
          "base_uri": "https://localhost:8080/"
        },
        "id": "eFcL0uaQYfSP",
        "outputId": "f046c4c4-d1b4-4407-fd3b-0ef6eb806058"
      },
      "execution_count": 23,
      "outputs": [
        {
          "output_type": "execute_result",
          "data": {
            "text/plain": [
              "0"
            ]
          },
          "metadata": {},
          "execution_count": 23
        }
      ]
    },
    {
      "cell_type": "code",
      "source": [
        "print(f.read())"
      ],
      "metadata": {
        "colab": {
          "base_uri": "https://localhost:8080/"
        },
        "id": "LiD6xFhGYm2c",
        "outputId": "f55cb33f-81b3-42b1-c72e-91d257ec5a60"
      },
      "execution_count": null,
      "outputs": [
        {
          "output_type": "stream",
          "name": "stdout",
          "text": [
            "this is line 1\n",
            "this is line 2\n",
            "this is line 3\n",
            "this is line 4\n",
            "this is line 5\n",
            "this is line 6\n",
            "\n"
          ]
        }
      ]
    },
    {
      "cell_type": "code",
      "source": [
        "# move the cursor\n",
        "f.seek(3)"
      ],
      "metadata": {
        "colab": {
          "base_uri": "https://localhost:8080/"
        },
        "id": "vjo__ihMYpFY",
        "outputId": "59d3d807-5b6f-44d2-f589-2028f02bfef0"
      },
      "execution_count": null,
      "outputs": [
        {
          "output_type": "execute_result",
          "data": {
            "text/plain": [
              "3"
            ]
          },
          "metadata": {},
          "execution_count": 21
        }
      ]
    },
    {
      "cell_type": "code",
      "source": [
        "print(f.read())"
      ],
      "metadata": {
        "colab": {
          "base_uri": "https://localhost:8080/"
        },
        "id": "C7Zt7n7cYrVN",
        "outputId": "12b4f9eb-9b1d-46d9-ae4b-5f526f874bf2"
      },
      "execution_count": null,
      "outputs": [
        {
          "output_type": "stream",
          "name": "stdout",
          "text": [
            "s is line 1\n",
            "this is line 2\n",
            "this is line 3\n",
            "this is line 4\n",
            "this is line 5\n",
            "this is line 6\n",
            "\n"
          ]
        }
      ]
    },
    {
      "cell_type": "markdown",
      "source": [
        "To avoid the cursor issues mentioned above, we can first write the content of `f` into a variable, and then call this variable as many times as we wish:"
      ],
      "metadata": {
        "id": "CEy265P1Yw3r"
      }
    },
    {
      "cell_type": "code",
      "source": [
        "f.seek(0)\n",
        "content = f.read()"
      ],
      "metadata": {
        "id": "r4zhasvkYtwC"
      },
      "execution_count": null,
      "outputs": []
    },
    {
      "cell_type": "code",
      "source": [
        "content"
      ],
      "metadata": {
        "colab": {
          "base_uri": "https://localhost:8080/",
          "height": 36
        },
        "id": "LujI0PxKY5uw",
        "outputId": "a2b56cbe-9abf-41d1-b549-394987a6ad52"
      },
      "execution_count": null,
      "outputs": [
        {
          "output_type": "execute_result",
          "data": {
            "text/plain": [
              "'this is line 1\\nthis is line 2\\nthis is line 3\\nthis is line 4\\nthis is line 5\\nthis is line 6\\n'"
            ],
            "application/vnd.google.colaboratory.intrinsic+json": {
              "type": "string"
            }
          },
          "metadata": {},
          "execution_count": 24
        }
      ]
    },
    {
      "cell_type": "code",
      "source": [
        "content"
      ],
      "metadata": {
        "colab": {
          "base_uri": "https://localhost:8080/",
          "height": 36
        },
        "id": "7gaynW_vY5n1",
        "outputId": "1fbde6a4-563d-4f9a-a2fb-ccfae7ee865d"
      },
      "execution_count": null,
      "outputs": [
        {
          "output_type": "execute_result",
          "data": {
            "text/plain": [
              "'this is line 1\\nthis is line 2\\nthis is line 3\\nthis is line 4\\nthis is line 5\\nthis is line 6\\n'"
            ],
            "application/vnd.google.colaboratory.intrinsic+json": {
              "type": "string"
            }
          },
          "metadata": {},
          "execution_count": 25
        }
      ]
    },
    {
      "cell_type": "markdown",
      "source": [
        "## Read Lines"
      ],
      "metadata": {
        "id": "r1-D9MDNY78x"
      }
    },
    {
      "cell_type": "code",
      "source": [
        "f = open(\"myfile.txt\")"
      ],
      "metadata": {
        "id": "XD0siRMuY6Qa"
      },
      "execution_count": null,
      "outputs": []
    },
    {
      "cell_type": "code",
      "source": [
        "f.readline()"
      ],
      "metadata": {
        "colab": {
          "base_uri": "https://localhost:8080/",
          "height": 36
        },
        "id": "siT1WbwwY-lM",
        "outputId": "2bb8ccfa-7482-42d6-9222-6ed941b788b8"
      },
      "execution_count": null,
      "outputs": [
        {
          "output_type": "execute_result",
          "data": {
            "text/plain": [
              "'this is line 1\\n'"
            ],
            "application/vnd.google.colaboratory.intrinsic+json": {
              "type": "string"
            }
          },
          "metadata": {},
          "execution_count": 31
        }
      ]
    },
    {
      "cell_type": "code",
      "source": [
        "f.readlines()\n",
        "# the output is a list"
      ],
      "metadata": {
        "colab": {
          "base_uri": "https://localhost:8080/"
        },
        "id": "BJbo0CbMY_34",
        "outputId": "c09cdd1c-8cba-41ee-973a-a17e57321b15"
      },
      "execution_count": null,
      "outputs": [
        {
          "output_type": "execute_result",
          "data": {
            "text/plain": [
              "['this is line 2\\n',\n",
              " 'this is line 3\\n',\n",
              " 'this is line 4\\n',\n",
              " 'this is line 5\\n',\n",
              " 'this is line 6\\n']"
            ]
          },
          "metadata": {},
          "execution_count": 32
        }
      ]
    },
    {
      "cell_type": "code",
      "source": [
        "f.seek(0)\n",
        "for line in f.readlines():\n",
        "    print(line.strip())"
      ],
      "metadata": {
        "colab": {
          "base_uri": "https://localhost:8080/"
        },
        "id": "rEyRe9yEZDyv",
        "outputId": "36bd2892-4c9d-4498-bef7-f39647744f0d"
      },
      "execution_count": null,
      "outputs": [
        {
          "output_type": "stream",
          "name": "stdout",
          "text": [
            "this is line 1\n",
            "this is line 2\n",
            "this is line 3\n",
            "this is line 4\n",
            "this is line 5\n",
            "this is line 6\n"
          ]
        }
      ]
    },
    {
      "cell_type": "code",
      "source": [
        "\"   Test \\n\\n\\n  \".strip()"
      ],
      "metadata": {
        "colab": {
          "base_uri": "https://localhost:8080/",
          "height": 36
        },
        "id": "-2s1CzVtZLPP",
        "outputId": "5205f124-a61c-41e8-b907-e93a64e0e17c"
      },
      "execution_count": null,
      "outputs": [
        {
          "output_type": "execute_result",
          "data": {
            "text/plain": [
              "'Test'"
            ],
            "application/vnd.google.colaboratory.intrinsic+json": {
              "type": "string"
            }
          },
          "metadata": {},
          "execution_count": 38
        }
      ]
    },
    {
      "cell_type": "markdown",
      "source": [
        "## Close File\n",
        "\n",
        "for safety! Maybe you want to delete it somewhere else! and being open, would not let you delete it!"
      ],
      "metadata": {
        "id": "Qe7wZz-vZU9o"
      }
    },
    {
      "cell_type": "code",
      "source": [
        "f.close()"
      ],
      "metadata": {
        "id": "Nbk4AtyoZNmp"
      },
      "execution_count": null,
      "outputs": []
    },
    {
      "cell_type": "code",
      "source": [
        "f.read()"
      ],
      "metadata": {
        "colab": {
          "base_uri": "https://localhost:8080/",
          "height": 141
        },
        "id": "6wxxOrsvZXj-",
        "outputId": "f3284989-85ce-4af1-b7b8-fee8a68f6f40"
      },
      "execution_count": null,
      "outputs": [
        {
          "output_type": "error",
          "ename": "ValueError",
          "evalue": "I/O operation on closed file.",
          "traceback": [
            "\u001b[0;31m---------------------------------------------------------------------------\u001b[0m",
            "\u001b[0;31mValueError\u001b[0m                                Traceback (most recent call last)",
            "\u001b[0;32m<ipython-input-41-571e9fb02258>\u001b[0m in \u001b[0;36m<cell line: 0>\u001b[0;34m()\u001b[0m\n\u001b[0;32m----> 1\u001b[0;31m \u001b[0mf\u001b[0m\u001b[0;34m.\u001b[0m\u001b[0mread\u001b[0m\u001b[0;34m(\u001b[0m\u001b[0;34m)\u001b[0m\u001b[0;34m\u001b[0m\u001b[0;34m\u001b[0m\u001b[0m\n\u001b[0m",
            "\u001b[0;31mValueError\u001b[0m: I/O operation on closed file."
          ]
        }
      ]
    },
    {
      "cell_type": "markdown",
      "source": [
        "`with` statement\n",
        "\n",
        "When you're manipulating a file, there are two ways that you can use to ensure that a file is closed properly, even when encountering an error. The first way is to close the file manualy.\n",
        "\n",
        "The second way is by with statement that closes the file automatically."
      ],
      "metadata": {
        "id": "dCIgNSbJZkbk"
      }
    },
    {
      "cell_type": "code",
      "source": [],
      "metadata": {
        "id": "yYax-8xMZbFL"
      },
      "execution_count": null,
      "outputs": []
    }
  ]
}