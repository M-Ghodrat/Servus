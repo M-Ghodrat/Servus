{
  "nbformat": 4,
  "nbformat_minor": 0,
  "metadata": {
    "colab": {
      "provenance": [],
      "authorship_tag": "ABX9TyNnptERd7Bc6IJILdCZa0bn",
      "include_colab_link": true
    },
    "kernelspec": {
      "name": "python3",
      "display_name": "Python 3"
    },
    "language_info": {
      "name": "python"
    }
  },
  "cells": [
    {
      "cell_type": "markdown",
      "metadata": {
        "id": "view-in-github",
        "colab_type": "text"
      },
      "source": [
        "<a href=\"https://colab.research.google.com/github/M-Ghodrat/Servus/blob/main/05_IO_Operations.ipynb\" target=\"_parent\"><img src=\"https://colab.research.google.com/assets/colab-badge.svg\" alt=\"Open In Colab\"/></a>"
      ]
    },
    {
      "cell_type": "code",
      "execution_count": 15,
      "metadata": {
        "colab": {
          "base_uri": "https://localhost:8080/"
        },
        "id": "mIpn_CXNXURt",
        "outputId": "d1464d32-2321-4b08-c513-c9c314c83f50"
      },
      "outputs": [
        {
          "output_type": "stream",
          "name": "stdout",
          "text": [
            "Overwriting myfile.txt\n"
          ]
        }
      ],
      "source": [
        "%%writefile myfile.txt\n",
        "this is line 1\n",
        "this is line 2\n",
        "this is line 3\n",
        "this is line 4\n",
        "this is line 5\n",
        "this is line 6"
      ]
    },
    {
      "cell_type": "markdown",
      "source": [
        "To avoid overwritten use:\n",
        "\n",
        "%%writefile -a myfile.txt"
      ],
      "metadata": {
        "id": "sKRvDbYXXjMf"
      }
    },
    {
      "cell_type": "markdown",
      "source": [
        "## Simple Text File"
      ],
      "metadata": {
        "id": "92xjK7tEXubp"
      }
    },
    {
      "cell_type": "code",
      "source": [
        "!pwd"
      ],
      "metadata": {
        "colab": {
          "base_uri": "https://localhost:8080/"
        },
        "id": "k44eI8UWXvGN",
        "outputId": "adfff51e-6d39-4c17-b022-c2d6fefa3a0f"
      },
      "execution_count": 8,
      "outputs": [
        {
          "output_type": "stream",
          "name": "stdout",
          "text": [
            "/content\n"
          ]
        }
      ]
    },
    {
      "cell_type": "code",
      "source": [
        "# relative path:\n",
        "f = open(\"myfile.txt\")"
      ],
      "metadata": {
        "id": "JS00EDJ0XzGK"
      },
      "execution_count": 10,
      "outputs": []
    },
    {
      "cell_type": "markdown",
      "source": [
        "Other alternative ways of using relative path:"
      ],
      "metadata": {
        "id": "8BBei5MLYELZ"
      }
    },
    {
      "cell_type": "code",
      "source": [
        "f = open(\"./myfile.txt\")"
      ],
      "metadata": {
        "id": "puoj8hXgYCEJ"
      },
      "execution_count": 16,
      "outputs": []
    },
    {
      "cell_type": "code",
      "source": [
        "f = open(\"/content/myfile.txt\")"
      ],
      "metadata": {
        "id": "Hz9zyTvZYE3L"
      },
      "execution_count": 11,
      "outputs": []
    },
    {
      "cell_type": "markdown",
      "source": [
        "Why not using full path?\n",
        "\n",
        "- using full path is not safe!!\n",
        "- we normally write code to distribute it to others! so the path should be compatible with their directories!\n",
        "\n",
        "`f` is called file handler. It is an object."
      ],
      "metadata": {
        "id": "FDCUkxaOYSQz"
      }
    },
    {
      "cell_type": "code",
      "source": [
        "f.read()"
      ],
      "metadata": {
        "colab": {
          "base_uri": "https://localhost:8080/",
          "height": 53
        },
        "id": "qlWLe8AOYPH2",
        "outputId": "3e079367-1f09-4ee5-94e9-af4c6c8babaf"
      },
      "execution_count": 17,
      "outputs": [
        {
          "output_type": "execute_result",
          "data": {
            "text/plain": [
              "'this is line 1\\nthis is line 2\\nthis is line 3\\nthis is line 4\\nthis is line 5\\nthis is line 6\\n'"
            ],
            "application/vnd.google.colaboratory.intrinsic+json": {
              "type": "string"
            }
          },
          "metadata": {},
          "execution_count": 17
        }
      ]
    },
    {
      "cell_type": "code",
      "source": [
        "f.read()"
      ],
      "metadata": {
        "colab": {
          "base_uri": "https://localhost:8080/",
          "height": 36
        },
        "id": "T7j5OFpaYYFN",
        "outputId": "7ae11acc-a279-45b6-f4a3-63698b747a88"
      },
      "execution_count": 18,
      "outputs": [
        {
          "output_type": "execute_result",
          "data": {
            "text/plain": [
              "''"
            ],
            "application/vnd.google.colaboratory.intrinsic+json": {
              "type": "string"
            }
          },
          "metadata": {},
          "execution_count": 18
        }
      ]
    },
    {
      "cell_type": "markdown",
      "source": [
        "Why the second time reading of `f`, i.e., `f.read()`, shows empty?\n",
        "\n",
        "After reading f, the cursor places at the end of the text document. Now, how can we bring the cursor back? or in general at some specific place? Here is the solution:"
      ],
      "metadata": {
        "id": "yXwYmbWwYhiA"
      }
    },
    {
      "cell_type": "code",
      "source": [
        "# move the cursor with seek\n",
        "f.seek(0)"
      ],
      "metadata": {
        "colab": {
          "base_uri": "https://localhost:8080/"
        },
        "id": "eFcL0uaQYfSP",
        "outputId": "ea034d5b-79a6-4f23-dbd8-f95ed7f5e894"
      },
      "execution_count": 19,
      "outputs": [
        {
          "output_type": "execute_result",
          "data": {
            "text/plain": [
              "0"
            ]
          },
          "metadata": {},
          "execution_count": 19
        }
      ]
    },
    {
      "cell_type": "code",
      "source": [
        "print(f.read())"
      ],
      "metadata": {
        "colab": {
          "base_uri": "https://localhost:8080/"
        },
        "id": "LiD6xFhGYm2c",
        "outputId": "f55cb33f-81b3-42b1-c72e-91d257ec5a60"
      },
      "execution_count": 20,
      "outputs": [
        {
          "output_type": "stream",
          "name": "stdout",
          "text": [
            "this is line 1\n",
            "this is line 2\n",
            "this is line 3\n",
            "this is line 4\n",
            "this is line 5\n",
            "this is line 6\n",
            "\n"
          ]
        }
      ]
    },
    {
      "cell_type": "code",
      "source": [
        "# move the cursor\n",
        "f.seek(3)"
      ],
      "metadata": {
        "colab": {
          "base_uri": "https://localhost:8080/"
        },
        "id": "vjo__ihMYpFY",
        "outputId": "59d3d807-5b6f-44d2-f589-2028f02bfef0"
      },
      "execution_count": 21,
      "outputs": [
        {
          "output_type": "execute_result",
          "data": {
            "text/plain": [
              "3"
            ]
          },
          "metadata": {},
          "execution_count": 21
        }
      ]
    },
    {
      "cell_type": "code",
      "source": [
        "print(f.read())"
      ],
      "metadata": {
        "colab": {
          "base_uri": "https://localhost:8080/"
        },
        "id": "C7Zt7n7cYrVN",
        "outputId": "12b4f9eb-9b1d-46d9-ae4b-5f526f874bf2"
      },
      "execution_count": 22,
      "outputs": [
        {
          "output_type": "stream",
          "name": "stdout",
          "text": [
            "s is line 1\n",
            "this is line 2\n",
            "this is line 3\n",
            "this is line 4\n",
            "this is line 5\n",
            "this is line 6\n",
            "\n"
          ]
        }
      ]
    },
    {
      "cell_type": "markdown",
      "source": [
        "To avoid the cursor issues mentioned above, we can first write the content of `f` into a variable, and then call this variable as many times as we wish:"
      ],
      "metadata": {
        "id": "CEy265P1Yw3r"
      }
    },
    {
      "cell_type": "code",
      "source": [
        "f.seek(0)\n",
        "content = f.read()"
      ],
      "metadata": {
        "id": "r4zhasvkYtwC"
      },
      "execution_count": 23,
      "outputs": []
    },
    {
      "cell_type": "code",
      "source": [
        "content"
      ],
      "metadata": {
        "colab": {
          "base_uri": "https://localhost:8080/",
          "height": 53
        },
        "id": "LujI0PxKY5uw",
        "outputId": "a2b56cbe-9abf-41d1-b549-394987a6ad52"
      },
      "execution_count": 24,
      "outputs": [
        {
          "output_type": "execute_result",
          "data": {
            "text/plain": [
              "'this is line 1\\nthis is line 2\\nthis is line 3\\nthis is line 4\\nthis is line 5\\nthis is line 6\\n'"
            ],
            "application/vnd.google.colaboratory.intrinsic+json": {
              "type": "string"
            }
          },
          "metadata": {},
          "execution_count": 24
        }
      ]
    },
    {
      "cell_type": "code",
      "source": [
        "content"
      ],
      "metadata": {
        "colab": {
          "base_uri": "https://localhost:8080/",
          "height": 53
        },
        "id": "7gaynW_vY5n1",
        "outputId": "1fbde6a4-563d-4f9a-a2fb-ccfae7ee865d"
      },
      "execution_count": 25,
      "outputs": [
        {
          "output_type": "execute_result",
          "data": {
            "text/plain": [
              "'this is line 1\\nthis is line 2\\nthis is line 3\\nthis is line 4\\nthis is line 5\\nthis is line 6\\n'"
            ],
            "application/vnd.google.colaboratory.intrinsic+json": {
              "type": "string"
            }
          },
          "metadata": {},
          "execution_count": 25
        }
      ]
    },
    {
      "cell_type": "markdown",
      "source": [
        "## Read Lines"
      ],
      "metadata": {
        "id": "r1-D9MDNY78x"
      }
    },
    {
      "cell_type": "code",
      "source": [
        "f = open(\"myfile.txt\")"
      ],
      "metadata": {
        "id": "XD0siRMuY6Qa"
      },
      "execution_count": 30,
      "outputs": []
    },
    {
      "cell_type": "code",
      "source": [
        "f.readline()"
      ],
      "metadata": {
        "colab": {
          "base_uri": "https://localhost:8080/",
          "height": 36
        },
        "id": "siT1WbwwY-lM",
        "outputId": "2bb8ccfa-7482-42d6-9222-6ed941b788b8"
      },
      "execution_count": 31,
      "outputs": [
        {
          "output_type": "execute_result",
          "data": {
            "text/plain": [
              "'this is line 1\\n'"
            ],
            "application/vnd.google.colaboratory.intrinsic+json": {
              "type": "string"
            }
          },
          "metadata": {},
          "execution_count": 31
        }
      ]
    },
    {
      "cell_type": "code",
      "source": [
        "f.readlines()\n",
        "# the output is a list"
      ],
      "metadata": {
        "colab": {
          "base_uri": "https://localhost:8080/"
        },
        "id": "BJbo0CbMY_34",
        "outputId": "c09cdd1c-8cba-41ee-973a-a17e57321b15"
      },
      "execution_count": 32,
      "outputs": [
        {
          "output_type": "execute_result",
          "data": {
            "text/plain": [
              "['this is line 2\\n',\n",
              " 'this is line 3\\n',\n",
              " 'this is line 4\\n',\n",
              " 'this is line 5\\n',\n",
              " 'this is line 6\\n']"
            ]
          },
          "metadata": {},
          "execution_count": 32
        }
      ]
    },
    {
      "cell_type": "code",
      "source": [
        "f.seek(0)\n",
        "for line in f.readlines():\n",
        "    print(line.strip())"
      ],
      "metadata": {
        "colab": {
          "base_uri": "https://localhost:8080/"
        },
        "id": "rEyRe9yEZDyv",
        "outputId": "36bd2892-4c9d-4498-bef7-f39647744f0d"
      },
      "execution_count": 33,
      "outputs": [
        {
          "output_type": "stream",
          "name": "stdout",
          "text": [
            "this is line 1\n",
            "this is line 2\n",
            "this is line 3\n",
            "this is line 4\n",
            "this is line 5\n",
            "this is line 6\n"
          ]
        }
      ]
    },
    {
      "cell_type": "code",
      "source": [
        "\"   Test \\n\\n\\n  \".strip()"
      ],
      "metadata": {
        "colab": {
          "base_uri": "https://localhost:8080/",
          "height": 36
        },
        "id": "-2s1CzVtZLPP",
        "outputId": "5205f124-a61c-41e8-b907-e93a64e0e17c"
      },
      "execution_count": 38,
      "outputs": [
        {
          "output_type": "execute_result",
          "data": {
            "text/plain": [
              "'Test'"
            ],
            "application/vnd.google.colaboratory.intrinsic+json": {
              "type": "string"
            }
          },
          "metadata": {},
          "execution_count": 38
        }
      ]
    },
    {
      "cell_type": "markdown",
      "source": [
        "## Close File\n",
        "\n",
        "for safety! Maybe you want to delete it somewhere else! and being open, would not let you delete it!"
      ],
      "metadata": {
        "id": "Qe7wZz-vZU9o"
      }
    },
    {
      "cell_type": "code",
      "source": [
        "f.close()"
      ],
      "metadata": {
        "id": "Nbk4AtyoZNmp"
      },
      "execution_count": 40,
      "outputs": []
    },
    {
      "cell_type": "code",
      "source": [
        "f.read()"
      ],
      "metadata": {
        "colab": {
          "base_uri": "https://localhost:8080/",
          "height": 141
        },
        "id": "6wxxOrsvZXj-",
        "outputId": "f3284989-85ce-4af1-b7b8-fee8a68f6f40"
      },
      "execution_count": 41,
      "outputs": [
        {
          "output_type": "error",
          "ename": "ValueError",
          "evalue": "I/O operation on closed file.",
          "traceback": [
            "\u001b[0;31m---------------------------------------------------------------------------\u001b[0m",
            "\u001b[0;31mValueError\u001b[0m                                Traceback (most recent call last)",
            "\u001b[0;32m<ipython-input-41-571e9fb02258>\u001b[0m in \u001b[0;36m<cell line: 0>\u001b[0;34m()\u001b[0m\n\u001b[0;32m----> 1\u001b[0;31m \u001b[0mf\u001b[0m\u001b[0;34m.\u001b[0m\u001b[0mread\u001b[0m\u001b[0;34m(\u001b[0m\u001b[0;34m)\u001b[0m\u001b[0;34m\u001b[0m\u001b[0;34m\u001b[0m\u001b[0m\n\u001b[0m",
            "\u001b[0;31mValueError\u001b[0m: I/O operation on closed file."
          ]
        }
      ]
    },
    {
      "cell_type": "markdown",
      "source": [
        "`with` statement\n",
        "\n",
        "When you're manipulating a file, there are two ways that you can use to ensure that a file is closed properly, even when encountering an error. The first way is to close the file manualy.\n",
        "\n",
        "The second way is by with statement that closes the file automatically."
      ],
      "metadata": {
        "id": "dCIgNSbJZkbk"
      }
    },
    {
      "cell_type": "code",
      "source": [
        "with open('myfile.txt') as f:\n",
        "    print(f.read())\n",
        "\n",
        "# here f is closed! so automatically flushes!"
      ],
      "metadata": {
        "colab": {
          "base_uri": "https://localhost:8080/"
        },
        "id": "yYax-8xMZbFL",
        "outputId": "de1c917b-28b8-4629-c564-3d99fede646f"
      },
      "execution_count": 42,
      "outputs": [
        {
          "output_type": "stream",
          "name": "stdout",
          "text": [
            "this is line 1\n",
            "this is line 2\n",
            "this is line 3\n",
            "this is line 4\n",
            "this is line 5\n",
            "this is line 6\n",
            "\n"
          ]
        }
      ]
    },
    {
      "cell_type": "markdown",
      "source": [
        "equal to:"
      ],
      "metadata": {
        "id": "2ARt0ro8Z68E"
      }
    },
    {
      "cell_type": "code",
      "source": [
        "f = open(\"myfile.txt\")\n",
        "print(f.read())\n",
        "f.close()"
      ],
      "metadata": {
        "colab": {
          "base_uri": "https://localhost:8080/"
        },
        "id": "ibq8y2scZt9j",
        "outputId": "2177a8dd-c1f9-4883-eb3a-7e17163e094e"
      },
      "execution_count": 43,
      "outputs": [
        {
          "output_type": "stream",
          "name": "stdout",
          "text": [
            "this is line 1\n",
            "this is line 2\n",
            "this is line 3\n",
            "this is line 4\n",
            "this is line 5\n",
            "this is line 6\n",
            "\n"
          ]
        }
      ]
    },
    {
      "cell_type": "code",
      "source": [
        "with open(\"myfile.txt\") as f:\n",
        "    content = f.read()"
      ],
      "metadata": {
        "id": "sQ61O8lzZ8f6"
      },
      "execution_count": 44,
      "outputs": []
    },
    {
      "cell_type": "code",
      "source": [
        "content"
      ],
      "metadata": {
        "colab": {
          "base_uri": "https://localhost:8080/",
          "height": 53
        },
        "id": "y9T2oI_NZ--z",
        "outputId": "0e3af91e-2f6a-439e-df1f-bb521b91fe77"
      },
      "execution_count": 45,
      "outputs": [
        {
          "output_type": "execute_result",
          "data": {
            "text/plain": [
              "'this is line 1\\nthis is line 2\\nthis is line 3\\nthis is line 4\\nthis is line 5\\nthis is line 6\\n'"
            ],
            "application/vnd.google.colaboratory.intrinsic+json": {
              "type": "string"
            }
          },
          "metadata": {},
          "execution_count": 45
        }
      ]
    },
    {
      "cell_type": "markdown",
      "source": [
        "The above is not a good method for large files!\n",
        "\n",
        "So what's the solution? see below:"
      ],
      "metadata": {
        "id": "MID_lNx9bZWK"
      }
    },
    {
      "cell_type": "code",
      "source": [
        "myfile = open('myfile.txt')\n",
        "\n",
        "for line in myfile:\n",
        "    print(line)"
      ],
      "metadata": {
        "colab": {
          "base_uri": "https://localhost:8080/"
        },
        "id": "SfFk2XnMbZ9z",
        "outputId": "5abf9468-3833-42c8-c8c9-9bdd5edeb00a"
      },
      "execution_count": 53,
      "outputs": [
        {
          "output_type": "stream",
          "name": "stdout",
          "text": [
            "this is line 1\n",
            "\n",
            "this is line 2\n",
            "\n",
            "this is line 3\n",
            "\n",
            "this is line 4\n",
            "\n",
            "this is line 5\n",
            "\n",
            "this is line 6\n",
            "\n"
          ]
        }
      ]
    },
    {
      "cell_type": "markdown",
      "source": [
        "The above is also not best way if we have a big file which is written in 1 line!\n",
        "\n",
        "safest way: read chunk chunk!"
      ],
      "metadata": {
        "id": "lRtsWeg-aPCI"
      }
    },
    {
      "cell_type": "markdown",
      "source": [
        "### Read Line by Line\n",
        "\n",
        "An **iterable** object is returned by `open()` function while opening a file. This final way of reading in a file line-by-line includes iterating over a file object in a for loop. Doing this we are taking advantage of a built-in Python function that allows us to iterate over the file object implicitly using a for loop in a combination with using the iterable object. This approach takes fewer lines of code, which is always the best practice worthy of following."
      ],
      "metadata": {
        "id": "n9huKmyJaVQQ"
      }
    },
    {
      "cell_type": "code",
      "source": [
        "line = True\n",
        "with open(\"myfile.txt\") as f:\n",
        "    while line:\n",
        "        line = f.readline()\n",
        "        print(line)"
      ],
      "metadata": {
        "id": "-j4W2zAlaRGH"
      },
      "execution_count": null,
      "outputs": []
    },
    {
      "cell_type": "markdown",
      "source": [
        "Note: whatever is not (0, None, False, ' ') is True in Python! like `line` in above code!\n",
        "\n"
      ],
      "metadata": {
        "id": "3m-Ho2NYbqET"
      }
    },
    {
      "cell_type": "code",
      "source": [
        "if 0:\n",
        "    print(\"Hello World 1\")\n",
        "if None:\n",
        "    print(\"Hello World 2\")\n",
        "if False:\n",
        "    print(\"Hello World 3\")\n",
        "if '':\n",
        "    print(\"Hello World 4\")\n",
        "if 1:\n",
        "    print(\"Hello World 5\")\n",
        "if 'a':\n",
        "    print(\"Hello World 6\")\n",
        "if True:\n",
        "    print(\"Hello World 7\")"
      ],
      "metadata": {
        "id": "d5rT0tmhbr6K"
      },
      "execution_count": null,
      "outputs": []
    },
    {
      "cell_type": "markdown",
      "source": [
        "## Write File\n",
        "\n",
        "## Overwrite\n",
        "\n",
        "**Hint:** After writing function name, press `shift`+`tab` to see the options."
      ],
      "metadata": {
        "id": "kBHklCE9by7g"
      }
    },
    {
      "cell_type": "code",
      "source": [
        "# whenever you opoen in \"w\" mode, it will clear old data and overwrite it!\n",
        "myfile_w = open(\"myfile.txt\", mode=\"w\") # keyword(named) arguement\n",
        "myfile_w = open(\"myfile.txt\", \"w\") # positional arguement"
      ],
      "metadata": {
        "id": "egXebf8qb4HB"
      },
      "execution_count": 88,
      "outputs": []
    },
    {
      "cell_type": "code",
      "source": [
        "myfile_w.write(\"This is new line 1\\n\")\n",
        "# del myfile_w"
      ],
      "metadata": {
        "colab": {
          "base_uri": "https://localhost:8080/"
        },
        "id": "KxNfJoklb79N",
        "outputId": "87c7f0b7-c4f1-4e74-9d93-a28cade4f3cc"
      },
      "execution_count": 89,
      "outputs": [
        {
          "output_type": "execute_result",
          "data": {
            "text/plain": [
              "19"
            ]
          },
          "metadata": {},
          "execution_count": 89
        }
      ]
    },
    {
      "cell_type": "code",
      "source": [
        "myfile_w.writelines([\"this is new line 2\\n\", \"this is new line 3\\n\"])"
      ],
      "metadata": {
        "id": "p8oiowgob76S"
      },
      "execution_count": 90,
      "outputs": []
    },
    {
      "cell_type": "code",
      "source": [
        "# contents are not flushed to disk yet\n",
        "myfile_r = open(\"myfile.txt\")\n",
        "myfile_r.read()"
      ],
      "metadata": {
        "colab": {
          "base_uri": "https://localhost:8080/",
          "height": 36
        },
        "id": "6oOgkOOVb73p",
        "outputId": "dd39bdd3-166d-4eb2-d8b8-01eef3022d61"
      },
      "execution_count": 82,
      "outputs": [
        {
          "output_type": "execute_result",
          "data": {
            "text/plain": [
              "''"
            ],
            "application/vnd.google.colaboratory.intrinsic+json": {
              "type": "string"
            }
          },
          "metadata": {},
          "execution_count": 82
        }
      ]
    },
    {
      "cell_type": "code",
      "source": [
        "# flush the content\n",
        "myfile_w.flush()"
      ],
      "metadata": {
        "id": "qrvnLDPFb71L"
      },
      "execution_count": 91,
      "outputs": []
    },
    {
      "cell_type": "markdown",
      "source": [
        "Why it is not done automatically? since frequent flushing may cause disk blow-up and hence manual flushing is used to limit the number of read and write on hard disk! So we have to do it manually whenever it is necessary. Also, it is not a good idea to flush just once at the end of our programming, since the information on RAM may lose due to an accidental shut down, etc."
      ],
      "metadata": {
        "id": "M4Xey0T4cEtH"
      }
    },
    {
      "cell_type": "code",
      "source": [
        "myfile_r = open(\"myfile.txt\")\n",
        "myfile_r.read()"
      ],
      "metadata": {
        "colab": {
          "base_uri": "https://localhost:8080/",
          "height": 36
        },
        "id": "utcmYQ0Ib7td",
        "outputId": "cc5cd396-8996-4901-f45e-4986b594b68f"
      },
      "execution_count": 84,
      "outputs": [
        {
          "output_type": "execute_result",
          "data": {
            "text/plain": [
              "'This is new line 1\\nthis is new line 2\\nthis is new line 3\\n'"
            ],
            "application/vnd.google.colaboratory.intrinsic+json": {
              "type": "string"
            }
          },
          "metadata": {},
          "execution_count": 84
        }
      ]
    },
    {
      "cell_type": "code",
      "source": [
        "myfile_w.seek(0)\n",
        "myfile_w.write(\"this will replace line 1\")\n",
        "myfile_w.flush()"
      ],
      "metadata": {
        "id": "k3rmL1FhcJLk"
      },
      "execution_count": 92,
      "outputs": []
    },
    {
      "cell_type": "code",
      "source": [
        "myfile_r.seek(0)\n",
        "myfile_r.read()"
      ],
      "metadata": {
        "colab": {
          "base_uri": "https://localhost:8080/",
          "height": 36
        },
        "id": "jNZG1OrlcJIV",
        "outputId": "1e22acb8-d647-4b52-992b-27ed9cb09a3c"
      },
      "execution_count": 86,
      "outputs": [
        {
          "output_type": "execute_result",
          "data": {
            "text/plain": [
              "'this will replace line 1is new line 2\\nthis is new line 3\\n'"
            ],
            "application/vnd.google.colaboratory.intrinsic+json": {
              "type": "string"
            }
          },
          "metadata": {},
          "execution_count": 86
        }
      ]
    },
    {
      "cell_type": "code",
      "source": [
        "# if you close, it automatically flush!\n",
        "myfile.close()"
      ],
      "metadata": {
        "id": "83DtqV6WcJFs"
      },
      "execution_count": 93,
      "outputs": []
    },
    {
      "cell_type": "markdown",
      "source": [
        "## Write if not exists"
      ],
      "metadata": {
        "id": "5yxNPQxhcPls"
      }
    },
    {
      "cell_type": "code",
      "source": [
        "myfile_w = open(\"myfile.txt\", \"x\")"
      ],
      "metadata": {
        "colab": {
          "base_uri": "https://localhost:8080/",
          "height": 141
        },
        "id": "kyf8DpzdcR72",
        "outputId": "c9b7d9e7-40c6-448f-f988-9aa93292860b"
      },
      "execution_count": 94,
      "outputs": [
        {
          "output_type": "error",
          "ename": "FileExistsError",
          "evalue": "[Errno 17] File exists: 'myfile.txt'",
          "traceback": [
            "\u001b[0;31m---------------------------------------------------------------------------\u001b[0m",
            "\u001b[0;31mFileExistsError\u001b[0m                           Traceback (most recent call last)",
            "\u001b[0;32m<ipython-input-94-1f0cee2f4c1a>\u001b[0m in \u001b[0;36m<cell line: 0>\u001b[0;34m()\u001b[0m\n\u001b[0;32m----> 1\u001b[0;31m \u001b[0mmyfile_w\u001b[0m \u001b[0;34m=\u001b[0m \u001b[0mopen\u001b[0m\u001b[0;34m(\u001b[0m\u001b[0;34m\"myfile.txt\"\u001b[0m\u001b[0;34m,\u001b[0m \u001b[0;34m\"x\"\u001b[0m\u001b[0;34m)\u001b[0m\u001b[0;34m\u001b[0m\u001b[0;34m\u001b[0m\u001b[0m\n\u001b[0m",
            "\u001b[0;31mFileExistsError\u001b[0m: [Errno 17] File exists: 'myfile.txt'"
          ]
        }
      ]
    },
    {
      "cell_type": "markdown",
      "source": [
        "## Append"
      ],
      "metadata": {
        "id": "Ay-yi4CncVbp"
      }
    },
    {
      "cell_type": "code",
      "source": [
        "myfile_a = open(\"myfile.txt\", \"a\")"
      ],
      "metadata": {
        "id": "fBFUHOlwcR_P"
      },
      "execution_count": 95,
      "outputs": []
    },
    {
      "cell_type": "code",
      "source": [
        "myfile_a.write(\"This is going to be appended!\")"
      ],
      "metadata": {
        "colab": {
          "base_uri": "https://localhost:8080/"
        },
        "id": "okFzHhg-cSCG",
        "outputId": "927bfc2d-0343-4543-aa8e-10b89aca9e50"
      },
      "execution_count": 96,
      "outputs": [
        {
          "output_type": "execute_result",
          "data": {
            "text/plain": [
              "29"
            ]
          },
          "metadata": {},
          "execution_count": 96
        }
      ]
    },
    {
      "cell_type": "code",
      "source": [
        "# content not flushed yet\n",
        "myfile_r = open(\"myfile.txt\")\n",
        "myfile_r.read()"
      ],
      "metadata": {
        "colab": {
          "base_uri": "https://localhost:8080/",
          "height": 36
        },
        "id": "vYfXASKtcSEf",
        "outputId": "5465e17a-b8b2-47a8-ec0a-669c5dfffcb5"
      },
      "execution_count": 97,
      "outputs": [
        {
          "output_type": "execute_result",
          "data": {
            "text/plain": [
              "'this will replace line 1is new line 2\\nthis is new line 3\\n'"
            ],
            "application/vnd.google.colaboratory.intrinsic+json": {
              "type": "string"
            }
          },
          "metadata": {},
          "execution_count": 97
        }
      ]
    },
    {
      "cell_type": "code",
      "source": [
        "myfile_a.flush()"
      ],
      "metadata": {
        "id": "tvgAumlMcbKc"
      },
      "execution_count": 98,
      "outputs": []
    },
    {
      "cell_type": "code",
      "source": [
        "myfile_r.seek(0)\n",
        "myfile_r.read()"
      ],
      "metadata": {
        "colab": {
          "base_uri": "https://localhost:8080/",
          "height": 53
        },
        "id": "N70h8tZBcbHf",
        "outputId": "11dc794e-f4bc-40a9-8a04-1ed48b75dc12"
      },
      "execution_count": 99,
      "outputs": [
        {
          "output_type": "execute_result",
          "data": {
            "text/plain": [
              "'this will replace line 1is new line 2\\nthis is new line 3\\nThis is going to be appended!'"
            ],
            "application/vnd.google.colaboratory.intrinsic+json": {
              "type": "string"
            }
          },
          "metadata": {},
          "execution_count": 99
        }
      ]
    },
    {
      "cell_type": "markdown",
      "source": [
        "## Summary\n",
        "\n",
        "| Character | Meaning                                                                 |\n",
        "|-----------|-------------------------------------------------------------------------|\n",
        "| `r`       | Open for reading (default)                                              |\n",
        "| `w`       | Open for writing, truncating the file first                             |\n",
        "| `x`       | Create a new file and open it for writing                               |\n",
        "| `a`       | Open for writing, appending to the end of the file if it exists         |\n",
        "| `b`       | Binary mode                                                             |\n",
        "| `t`       | Text mode (default)                                                     |\n",
        "| `+`       | Open a disk file for updating (reading and writing)                     |\n",
        "| `U`       | Universal newline mode (deprecated)                                     |"
      ],
      "metadata": {
        "id": "z3LlGM6_cyEx"
      }
    }
  ]
}