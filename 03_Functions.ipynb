{
  "nbformat": 4,
  "nbformat_minor": 0,
  "metadata": {
    "colab": {
      "provenance": [],
      "authorship_tag": "ABX9TyPsWUQA+KQoVTFR9CTpLSsM",
      "include_colab_link": true
    },
    "kernelspec": {
      "name": "python3",
      "display_name": "Python 3"
    },
    "language_info": {
      "name": "python"
    }
  },
  "cells": [
    {
      "cell_type": "markdown",
      "metadata": {
        "id": "view-in-github",
        "colab_type": "text"
      },
      "source": [
        "<a href=\"https://colab.research.google.com/github/M-Ghodrat/Servus/blob/main/03_Functions.ipynb\" target=\"_parent\"><img src=\"https://colab.research.google.com/assets/colab-badge.svg\" alt=\"Open In Colab\"/></a>"
      ]
    },
    {
      "cell_type": "markdown",
      "source": [
        "### Structure of a function:\n",
        "\n",
        "```python\n",
        "def func(input): # input to function can be ANYTHING even another function!\n",
        "    # code\n",
        "    return output\n",
        "```\n",
        "\n",
        "Watch the space in funtion environment!"
      ],
      "metadata": {
        "id": "KT3V95deCUDe"
      }
    },
    {
      "cell_type": "code",
      "source": [
        "def my_func(name, num):\n",
        "  num = num + 1\n",
        "  print(name)\n",
        "  print(num)\n",
        "  return num"
      ],
      "metadata": {
        "id": "y7z_9MX_yNvN"
      },
      "execution_count": 20,
      "outputs": []
    },
    {
      "cell_type": "code",
      "source": [
        "var = my_func(\"Mohsen\", 10)"
      ],
      "metadata": {
        "colab": {
          "base_uri": "https://localhost:8080/"
        },
        "id": "Q7LM3w4YyQeC",
        "outputId": "403678d5-8360-4635-8445-703eea2d71be"
      },
      "execution_count": 21,
      "outputs": [
        {
          "output_type": "stream",
          "name": "stdout",
          "text": [
            "Mohsen\n",
            "11\n"
          ]
        }
      ]
    },
    {
      "cell_type": "code",
      "source": [
        "var"
      ],
      "metadata": {
        "colab": {
          "base_uri": "https://localhost:8080/"
        },
        "id": "kA4uI3pHympS",
        "outputId": "ebf138ac-ab4a-412f-bc7e-bdd07ff71df0"
      },
      "execution_count": 23,
      "outputs": [
        {
          "output_type": "execute_result",
          "data": {
            "text/plain": [
              "11"
            ]
          },
          "metadata": {},
          "execution_count": 23
        }
      ]
    },
    {
      "cell_type": "code",
      "source": [
        "def my_func(name, num):\n",
        "  return f\"Hello {name}\", num"
      ],
      "metadata": {
        "id": "fXmlcm370Jf3"
      },
      "execution_count": null,
      "outputs": []
    },
    {
      "cell_type": "code",
      "source": [
        "output = my_func(\"Mohsen\", 10)"
      ],
      "metadata": {
        "id": "S1ZtMwJ10dvn"
      },
      "execution_count": null,
      "outputs": []
    },
    {
      "cell_type": "code",
      "source": [
        "output"
      ],
      "metadata": {
        "colab": {
          "base_uri": "https://localhost:8080/"
        },
        "id": "6T0Lb6MW1PLB",
        "outputId": "f0e29209-d0d3-47f2-c9c0-0a5ba45ddbf5"
      },
      "execution_count": null,
      "outputs": [
        {
          "output_type": "execute_result",
          "data": {
            "text/plain": [
              "('Hello Mohsen', 10)"
            ]
          },
          "metadata": {},
          "execution_count": 27
        }
      ]
    },
    {
      "cell_type": "code",
      "source": [
        "def my_func(name, num):\n",
        "  return f\"Hello {name}\"\n",
        "  return num"
      ],
      "metadata": {
        "id": "ejsS_pC7178b"
      },
      "execution_count": null,
      "outputs": []
    },
    {
      "cell_type": "code",
      "source": [
        "output = my_func(\"Mohsen\", 10)\n",
        "output"
      ],
      "metadata": {
        "colab": {
          "base_uri": "https://localhost:8080/",
          "height": 35
        },
        "id": "hvF_ptDx1_HY",
        "outputId": "0321e77b-32cc-417f-a2ca-bb3821b7e5f7"
      },
      "execution_count": null,
      "outputs": [
        {
          "output_type": "execute_result",
          "data": {
            "text/plain": [
              "'Hello Mohsen'"
            ],
            "application/vnd.google.colaboratory.intrinsic+json": {
              "type": "string"
            }
          },
          "metadata": {},
          "execution_count": 29
        }
      ]
    },
    {
      "cell_type": "code",
      "source": [
        "def foo1():\n",
        "  return \"Hi\"\n",
        "\n",
        "def foo2():\n",
        "  print(\"Hi\")"
      ],
      "metadata": {
        "id": "G-UWNAMi4MwZ"
      },
      "execution_count": null,
      "outputs": []
    },
    {
      "cell_type": "code",
      "source": [
        "out1 = foo1()\n",
        "type(out1)"
      ],
      "metadata": {
        "colab": {
          "base_uri": "https://localhost:8080/"
        },
        "id": "VqaWh8_J4OSG",
        "outputId": "45341121-f765-4e00-fcee-d7181293589c"
      },
      "execution_count": null,
      "outputs": [
        {
          "output_type": "execute_result",
          "data": {
            "text/plain": [
              "str"
            ]
          },
          "metadata": {},
          "execution_count": 48
        }
      ]
    },
    {
      "cell_type": "code",
      "source": [
        "out2 = foo2()\n",
        "type(out2)"
      ],
      "metadata": {
        "colab": {
          "base_uri": "https://localhost:8080/"
        },
        "id": "YLaQi4Wu4Tbh",
        "outputId": "c8ef24cb-eb40-4162-a708-ad3228b8b51a"
      },
      "execution_count": null,
      "outputs": [
        {
          "output_type": "stream",
          "name": "stdout",
          "text": [
            "Hi\n"
          ]
        },
        {
          "output_type": "execute_result",
          "data": {
            "text/plain": [
              "NoneType"
            ]
          },
          "metadata": {},
          "execution_count": 49
        }
      ]
    },
    {
      "cell_type": "code",
      "source": [
        "def multiply10(num):\n",
        "  return num*10\n",
        "\n",
        "def foo(func, num):\n",
        "  return func(num)\n",
        "\n",
        "foo(multiply10, 7)"
      ],
      "metadata": {
        "colab": {
          "base_uri": "https://localhost:8080/"
        },
        "id": "uFNLQAhN2muB",
        "outputId": "df839625-c5a8-402b-fce0-e063767556a7"
      },
      "execution_count": null,
      "outputs": [
        {
          "output_type": "execute_result",
          "data": {
            "text/plain": [
              "70"
            ]
          },
          "metadata": {},
          "execution_count": 33
        }
      ]
    },
    {
      "cell_type": "code",
      "execution_count": null,
      "metadata": {
        "id": "GoQt-2C9CC2G"
      },
      "outputs": [],
      "source": [
        "def sum1(a, b):\n",
        "  c = a + b + 8\n",
        "  return c"
      ]
    },
    {
      "cell_type": "code",
      "source": [
        "sum1(2, 1)"
      ],
      "metadata": {
        "colab": {
          "base_uri": "https://localhost:8080/"
        },
        "id": "c_0ZHCpfCi4S",
        "outputId": "4ab04eea-cf55-446d-aed5-596c2bfb31c7"
      },
      "execution_count": null,
      "outputs": [
        {
          "output_type": "execute_result",
          "data": {
            "text/plain": [
              "11"
            ]
          },
          "metadata": {},
          "execution_count": 36
        }
      ]
    },
    {
      "cell_type": "code",
      "source": [
        "x = 2\n",
        "y = 1\n",
        "sum1(x, y)"
      ],
      "metadata": {
        "colab": {
          "base_uri": "https://localhost:8080/"
        },
        "id": "FUbcK984CllF",
        "outputId": "882cd84c-160b-4c9b-f7df-fa27043f0f47"
      },
      "execution_count": null,
      "outputs": [
        {
          "output_type": "execute_result",
          "data": {
            "text/plain": [
              "11"
            ]
          },
          "metadata": {},
          "execution_count": 37
        }
      ]
    },
    {
      "cell_type": "markdown",
      "source": [
        "**Note:** a,b,c are defined locally (within function environment)"
      ],
      "metadata": {
        "id": "abQkjY4ECs_Q"
      }
    },
    {
      "cell_type": "code",
      "source": [
        "a"
      ],
      "metadata": {
        "colab": {
          "base_uri": "https://localhost:8080/",
          "height": 141
        },
        "id": "ltFd5lKCCvZI",
        "outputId": "c0ef3157-0493-461a-8d56-d22f37ddf151"
      },
      "execution_count": null,
      "outputs": [
        {
          "output_type": "error",
          "ename": "NameError",
          "evalue": "name 'a' is not defined",
          "traceback": [
            "\u001b[0;31m---------------------------------------------------------------------------\u001b[0m",
            "\u001b[0;31mNameError\u001b[0m                                 Traceback (most recent call last)",
            "\u001b[0;32m<ipython-input-40-3f786850e387>\u001b[0m in \u001b[0;36m<cell line: 0>\u001b[0;34m()\u001b[0m\n\u001b[0;32m----> 1\u001b[0;31m \u001b[0ma\u001b[0m\u001b[0;34m\u001b[0m\u001b[0;34m\u001b[0m\u001b[0m\n\u001b[0m",
            "\u001b[0;31mNameError\u001b[0m: name 'a' is not defined"
          ]
        }
      ]
    },
    {
      "cell_type": "code",
      "source": [
        "def diff(a, b, power):\n",
        "    return (a - b) ** power"
      ],
      "metadata": {
        "id": "7KNsPqOECv2B"
      },
      "execution_count": 26,
      "outputs": []
    },
    {
      "cell_type": "markdown",
      "source": [
        "### Positional variables/arguments\n",
        "\n",
        "Pass the arguments through their positions. Thus: Order DOES matter"
      ],
      "metadata": {
        "id": "EIqVKS-gC2aW"
      }
    },
    {
      "cell_type": "code",
      "source": [
        "print(diff(5, 2, 8))\n",
        "print(diff(8, 2, 5))"
      ],
      "metadata": {
        "colab": {
          "base_uri": "https://localhost:8080/"
        },
        "id": "CLYcb6y-C3nL",
        "outputId": "cc719398-b688-47d6-92f3-82f1c15ed425"
      },
      "execution_count": 27,
      "outputs": [
        {
          "output_type": "stream",
          "name": "stdout",
          "text": [
            "6561\n",
            "7776\n"
          ]
        }
      ]
    },
    {
      "cell_type": "markdown",
      "source": [
        "### Named variables/arguments\n",
        "\n",
        "Pass the arguments through their names. Thus: Order does NOT matter"
      ],
      "metadata": {
        "id": "ZI4Q14GrC9pP"
      }
    },
    {
      "cell_type": "code",
      "source": [
        "print(diff(a=5, b=2, power=8))\n",
        "print(diff(power=8, b=2, a=5))"
      ],
      "metadata": {
        "colab": {
          "base_uri": "https://localhost:8080/"
        },
        "id": "nlF2RB1wC_6W",
        "outputId": "1f0a41f9-a1e4-4e14-8938-36c0bf374430"
      },
      "execution_count": 28,
      "outputs": [
        {
          "output_type": "stream",
          "name": "stdout",
          "text": [
            "6561\n",
            "6561\n"
          ]
        }
      ]
    },
    {
      "cell_type": "markdown",
      "source": [
        "### Partial variables/arguments\n",
        "\n",
        "The positional variables should come first!"
      ],
      "metadata": {
        "id": "xJ2qr73rDJOg"
      }
    },
    {
      "cell_type": "code",
      "source": [
        "print(diff(5, b=2, power=8))\n",
        "print(diff(5, power=8, b=2))"
      ],
      "metadata": {
        "colab": {
          "base_uri": "https://localhost:8080/"
        },
        "id": "xvkh7bmSDMHn",
        "outputId": "dd5ade4a-bf31-4521-b71f-a27915f9d94e"
      },
      "execution_count": 33,
      "outputs": [
        {
          "output_type": "stream",
          "name": "stdout",
          "text": [
            "6561\n",
            "6561\n"
          ]
        }
      ]
    },
    {
      "cell_type": "code",
      "source": [
        "diff(a=5, b=2, 8)"
      ],
      "metadata": {
        "colab": {
          "base_uri": "https://localhost:8080/",
          "height": 106
        },
        "id": "9-ah4dCjDNsl",
        "outputId": "a754dae1-423d-491c-e3a3-6ff7ec4dfaca"
      },
      "execution_count": null,
      "outputs": [
        {
          "output_type": "error",
          "ename": "SyntaxError",
          "evalue": "positional argument follows keyword argument (<ipython-input-55-ff7baf0296e3>, line 1)",
          "traceback": [
            "\u001b[0;36m  File \u001b[0;32m\"<ipython-input-55-ff7baf0296e3>\"\u001b[0;36m, line \u001b[0;32m1\u001b[0m\n\u001b[0;31m    diff(a=5, b=2, 8)\u001b[0m\n\u001b[0m                    ^\u001b[0m\n\u001b[0;31mSyntaxError\u001b[0m\u001b[0;31m:\u001b[0m positional argument follows keyword argument\n"
          ]
        }
      ]
    },
    {
      "cell_type": "code",
      "source": [
        "def change_list(mylist, index, value):\n",
        "    mylist[index] = value\n",
        "    return mylist\n",
        "\n",
        "change_list(mylist=[0,1,2,3,4], index=-1, value=9999)"
      ],
      "metadata": {
        "colab": {
          "base_uri": "https://localhost:8080/"
        },
        "id": "gaVzyq9CDnFv",
        "outputId": "578adfc8-4a9c-45cb-b2b2-276f508e4645"
      },
      "execution_count": null,
      "outputs": [
        {
          "output_type": "execute_result",
          "data": {
            "text/plain": [
              "[0, 1, 2, 3, 9999]"
            ]
          },
          "metadata": {},
          "execution_count": 56
        }
      ]
    },
    {
      "cell_type": "markdown",
      "source": [
        "### Default Value"
      ],
      "metadata": {
        "id": "3prOmdXxD1j1"
      }
    },
    {
      "cell_type": "code",
      "source": [
        "def sum1(a=1, b=3):\n",
        "    return a + b\n",
        "\n",
        "print(sum1(2, 7))\n",
        "print(sum1(2))\n",
        "print(sum1())"
      ],
      "metadata": {
        "colab": {
          "base_uri": "https://localhost:8080/"
        },
        "id": "4ZcyKJGrDnXH",
        "outputId": "5608f254-aa67-4c96-8443-f71386cd2e1e"
      },
      "execution_count": 35,
      "outputs": [
        {
          "output_type": "stream",
          "name": "stdout",
          "text": [
            "9\n",
            "5\n",
            "4\n"
          ]
        }
      ]
    },
    {
      "cell_type": "code",
      "source": [
        "sum1(b=2)"
      ],
      "metadata": {
        "colab": {
          "base_uri": "https://localhost:8080/"
        },
        "id": "q5X7QZm16oRY",
        "outputId": "c1589cda-58e3-4ec8-db71-b6b4a84fbce5"
      },
      "execution_count": null,
      "outputs": [
        {
          "output_type": "execute_result",
          "data": {
            "text/plain": [
              "3"
            ]
          },
          "metadata": {},
          "execution_count": 64
        }
      ]
    },
    {
      "cell_type": "markdown",
      "source": [
        "`None` value is used to make a variable optional!"
      ],
      "metadata": {
        "id": "UTEGEujxEBjx"
      }
    },
    {
      "cell_type": "code",
      "source": [
        "def sum1(a=1, b=3, c=None):\n",
        "\n",
        "    output = a + b\n",
        "    if c:\n",
        "        output = output + c\n",
        "\n",
        "    return output\n",
        "\n",
        "sum1(1, 2)\n",
        "sum1(1, 2, 3)"
      ],
      "metadata": {
        "colab": {
          "base_uri": "https://localhost:8080/"
        },
        "id": "KMWpnpCJEDui",
        "outputId": "699d5771-8e0e-4c00-e1d6-9422f4faae8d"
      },
      "execution_count": 36,
      "outputs": [
        {
          "output_type": "execute_result",
          "data": {
            "text/plain": [
              "6"
            ]
          },
          "metadata": {},
          "execution_count": 36
        }
      ]
    },
    {
      "cell_type": "markdown",
      "source": [
        "### Infinite positional"
      ],
      "metadata": {
        "id": "JwEYBpyhEM6G"
      }
    },
    {
      "cell_type": "code",
      "source": [
        "summation = 0\n",
        "for num in [1,2,3,4,5,6,100]:\n",
        "  summation += num\n",
        "summation"
      ],
      "metadata": {
        "colab": {
          "base_uri": "https://localhost:8080/"
        },
        "id": "_JFwtUoc1tPN",
        "outputId": "ed208880-d35d-49e2-e540-373fc57f7e01"
      },
      "execution_count": 45,
      "outputs": [
        {
          "output_type": "execute_result",
          "data": {
            "text/plain": [
              "121"
            ]
          },
          "metadata": {},
          "execution_count": 45
        }
      ]
    },
    {
      "cell_type": "code",
      "source": [
        "def sum1(*args):\n",
        "    summation = 0\n",
        "    for num in args:\n",
        "        summation += num\n",
        "    return summation\n",
        "\n",
        "sum1(1), sum1(1,2), sum1(1,2,3,4)"
      ],
      "metadata": {
        "colab": {
          "base_uri": "https://localhost:8080/"
        },
        "id": "o7-OrRRNEEDw",
        "outputId": "6d90af4c-3a69-48b3-fe76-9ed2302c56df"
      },
      "execution_count": 47,
      "outputs": [
        {
          "output_type": "execute_result",
          "data": {
            "text/plain": [
              "(1, 3, 10)"
            ]
          },
          "metadata": {},
          "execution_count": 47
        }
      ]
    },
    {
      "cell_type": "code",
      "source": [
        "sum1(*(1,2,3,4)) # --> sum1(1,2,3,4)"
      ],
      "metadata": {
        "colab": {
          "base_uri": "https://localhost:8080/"
        },
        "id": "oAeKL5myEd1G",
        "outputId": "9d08b148-d27f-45d9-e264-af438a9396c5"
      },
      "execution_count": 48,
      "outputs": [
        {
          "output_type": "execute_result",
          "data": {
            "text/plain": [
              "10"
            ]
          },
          "metadata": {},
          "execution_count": 48
        }
      ]
    },
    {
      "cell_type": "code",
      "source": [
        "sum1(*[1,2,3,4])"
      ],
      "metadata": {
        "colab": {
          "base_uri": "https://localhost:8080/"
        },
        "id": "tpXO7ESUHh_E",
        "outputId": "76cb786c-20aa-4320-d761-af462b313baa"
      },
      "execution_count": null,
      "outputs": [
        {
          "output_type": "execute_result",
          "data": {
            "text/plain": [
              "10"
            ]
          },
          "metadata": {},
          "execution_count": 46
        }
      ]
    },
    {
      "cell_type": "code",
      "source": [
        "sum1(*{1,2,3,4})"
      ],
      "metadata": {
        "colab": {
          "base_uri": "https://localhost:8080/"
        },
        "id": "EYW3oSdQHlKL",
        "outputId": "8e3c3567-acfe-4bc2-8276-0c85b2b0cdcc"
      },
      "execution_count": null,
      "outputs": [
        {
          "output_type": "execute_result",
          "data": {
            "text/plain": [
              "10"
            ]
          },
          "metadata": {},
          "execution_count": 47
        }
      ]
    },
    {
      "cell_type": "code",
      "source": [
        "sum1(*{1:10, 2:20, 3:30, 4:40})"
      ],
      "metadata": {
        "colab": {
          "base_uri": "https://localhost:8080/"
        },
        "id": "bMZnip79HlU7",
        "outputId": "1b55df86-4d42-4712-8bfd-6aeda500ebfe"
      },
      "execution_count": 49,
      "outputs": [
        {
          "output_type": "execute_result",
          "data": {
            "text/plain": [
              "10"
            ]
          },
          "metadata": {},
          "execution_count": 49
        }
      ]
    },
    {
      "cell_type": "markdown",
      "source": [
        "Notice the difference: (?)"
      ],
      "metadata": {
        "id": "NWFbciKhIGgY"
      }
    },
    {
      "cell_type": "code",
      "source": [
        "def foo(*args):\n",
        "  return args[0]"
      ],
      "metadata": {
        "id": "HwFMHmw9Ie6y"
      },
      "execution_count": 51,
      "outputs": []
    },
    {
      "cell_type": "code",
      "source": [
        "foo(1,2,3,4)"
      ],
      "metadata": {
        "colab": {
          "base_uri": "https://localhost:8080/"
        },
        "id": "aoSsJRjEJCnA",
        "outputId": "1014e39d-e789-465b-9a3f-736a9694a7f4"
      },
      "execution_count": 52,
      "outputs": [
        {
          "output_type": "execute_result",
          "data": {
            "text/plain": [
              "1"
            ]
          },
          "metadata": {},
          "execution_count": 52
        }
      ]
    },
    {
      "cell_type": "code",
      "source": [
        "foo(*(1,2,3,4))"
      ],
      "metadata": {
        "colab": {
          "base_uri": "https://localhost:8080/"
        },
        "id": "oQ2TF5uPIELI",
        "outputId": "f3876990-09c0-4806-c149-9da12abea4d7"
      },
      "execution_count": null,
      "outputs": [
        {
          "output_type": "execute_result",
          "data": {
            "text/plain": [
              "1"
            ]
          },
          "metadata": {},
          "execution_count": 64
        }
      ]
    },
    {
      "cell_type": "code",
      "source": [
        "foo((1,2,3,4))"
      ],
      "metadata": {
        "colab": {
          "base_uri": "https://localhost:8080/"
        },
        "id": "X2nDFfBmIK2S",
        "outputId": "d42277a9-757c-43bc-9def-35c02a778812"
      },
      "execution_count": null,
      "outputs": [
        {
          "output_type": "execute_result",
          "data": {
            "text/plain": [
              "(1, 2, 3, 4)"
            ]
          },
          "metadata": {},
          "execution_count": 65
        }
      ]
    },
    {
      "cell_type": "markdown",
      "source": [
        "### Infinite named (keyword)"
      ],
      "metadata": {
        "id": "z0TAmMFrExwK"
      }
    },
    {
      "cell_type": "code",
      "source": [
        "def func(**kwargs):\n",
        "  print(fname, lname)"
      ],
      "metadata": {
        "id": "vAkEVj2i4Uiu"
      },
      "execution_count": 53,
      "outputs": []
    },
    {
      "cell_type": "code",
      "source": [
        "func(\"Mohsen\", \"Ghodrat\")"
      ],
      "metadata": {
        "colab": {
          "base_uri": "https://localhost:8080/"
        },
        "id": "wm_jXN0g4kON",
        "outputId": "dc56b605-933a-486c-b1d5-d0ba43cf272c"
      },
      "execution_count": 54,
      "outputs": [
        {
          "output_type": "stream",
          "name": "stdout",
          "text": [
            "Mohsen Ghodrat\n"
          ]
        }
      ]
    },
    {
      "cell_type": "code",
      "source": [
        "func(\"Ghodrat\", \"Mohsen\")"
      ],
      "metadata": {
        "colab": {
          "base_uri": "https://localhost:8080/"
        },
        "id": "egZh-Gm245Iz",
        "outputId": "663879b7-14f5-40f0-fa5c-df3109679adb"
      },
      "execution_count": 57,
      "outputs": [
        {
          "output_type": "stream",
          "name": "stdout",
          "text": [
            "Ghodrat Mohsen\n"
          ]
        }
      ]
    },
    {
      "cell_type": "code",
      "source": [
        "func(fname=\"Mohsen\", lname=\"Ghodrat\")"
      ],
      "metadata": {
        "colab": {
          "base_uri": "https://localhost:8080/"
        },
        "id": "Ynu_5Swg4oAy",
        "outputId": "be87f31f-dd65-4fd0-a2af-39b59b7b2cb5"
      },
      "execution_count": 59,
      "outputs": [
        {
          "output_type": "stream",
          "name": "stdout",
          "text": [
            "Mohsen Ghodrat\n"
          ]
        }
      ]
    },
    {
      "cell_type": "code",
      "source": [
        "func(lname=\"Ghodrat\", fname=\"Mohsen\")"
      ],
      "metadata": {
        "colab": {
          "base_uri": "https://localhost:8080/"
        },
        "id": "pIPgmE0v40aq",
        "outputId": "b1f9ef03-f30e-4a7d-a323-396bb2a8a6b2"
      },
      "execution_count": 56,
      "outputs": [
        {
          "output_type": "stream",
          "name": "stdout",
          "text": [
            "Mohsen Ghodrat\n"
          ]
        }
      ]
    },
    {
      "cell_type": "code",
      "source": [
        "my_dict = {'fname':\"Mohsen\", 'lname':\"Ghodrat\"}\n",
        "my_dict['lname']"
      ],
      "metadata": {
        "colab": {
          "base_uri": "https://localhost:8080/",
          "height": 35
        },
        "id": "C1d54Ci66WB8",
        "outputId": "fae338a1-da8e-44b1-f692-07177a6320c4"
      },
      "execution_count": 63,
      "outputs": [
        {
          "output_type": "execute_result",
          "data": {
            "text/plain": [
              "'Ghodrat'"
            ],
            "application/vnd.google.colaboratory.intrinsic+json": {
              "type": "string"
            }
          },
          "metadata": {},
          "execution_count": 63
        }
      ]
    },
    {
      "cell_type": "code",
      "source": [
        "def func(**kwargs):\n",
        "    print(kwargs['fname'] + ' ' + kwargs['lname'])"
      ],
      "metadata": {
        "id": "ytLTSfgyEqKW"
      },
      "execution_count": 65,
      "outputs": []
    },
    {
      "cell_type": "code",
      "source": [
        "func(fname = \"Mohsen\", lname = \"Ghodrat\")"
      ],
      "metadata": {
        "colab": {
          "base_uri": "https://localhost:8080/"
        },
        "id": "zjXZWFYt61v9",
        "outputId": "bc33c9d7-fac7-4c44-a969-b9e3d147e32b"
      },
      "execution_count": 70,
      "outputs": [
        {
          "output_type": "stream",
          "name": "stdout",
          "text": [
            "Mohsen Ghodrat\n"
          ]
        }
      ]
    },
    {
      "cell_type": "code",
      "source": [
        "dict(fname = 'Mohsen', lname = 'Ghodrat')"
      ],
      "metadata": {
        "colab": {
          "base_uri": "https://localhost:8080/"
        },
        "id": "to8cNzneE-4r",
        "outputId": "c0a6ad25-c18f-4fb3-9aef-ef0c76766613"
      },
      "execution_count": null,
      "outputs": [
        {
          "output_type": "execute_result",
          "data": {
            "text/plain": [
              "{'fname': 'Mohsen', 'lname': 'Ghodrat'}"
            ]
          },
          "metadata": {},
          "execution_count": 29
        }
      ]
    },
    {
      "cell_type": "code",
      "source": [
        "func(**{'fname': 'Mohsen', 'lname': 'Ghodrat'})"
      ],
      "metadata": {
        "colab": {
          "base_uri": "https://localhost:8080/"
        },
        "id": "-1FXzygGFx9Y",
        "outputId": "beaaab53-7395-41bd-9174-32ebdfba6788"
      },
      "execution_count": null,
      "outputs": [
        {
          "output_type": "stream",
          "name": "stdout",
          "text": [
            "Mohsen Ghodrat\n"
          ]
        }
      ]
    },
    {
      "cell_type": "markdown",
      "source": [
        "**Argument unpacking:**\n",
        "1. `**` and `*` act as unpackers for keyword and positional arguments respectively\n",
        "2. keyword arguments are like keywords of a dictionary, by putting `**` before a dictionary we actually tell python to unpack the dictionary and get the keywords from it."
      ],
      "metadata": {
        "id": "b06gD4i0GGZ3"
      }
    },
    {
      "cell_type": "code",
      "source": [
        "def foo(x,y):\n",
        "    print(x+y)\n",
        "\n",
        "foo(1,2)\n",
        "foo(x=1,y=2)\n",
        "foo(*(1,2))\n",
        "foo(**{'x':1, 'y':2})"
      ],
      "metadata": {
        "colab": {
          "base_uri": "https://localhost:8080/"
        },
        "id": "_meUas8SGT5D",
        "outputId": "ecb67bd2-4125-4a02-9ea3-e1a1cb9c6106"
      },
      "execution_count": 76,
      "outputs": [
        {
          "output_type": "stream",
          "name": "stdout",
          "text": [
            "3\n",
            "3\n",
            "3\n",
            "3\n"
          ]
        }
      ]
    },
    {
      "cell_type": "code",
      "source": [
        "def foo2(x,y,*z):\n",
        "  print(z)\n",
        "\n",
        "foo2(1, 2, *(2,3))\n",
        "foo2(1, 2, *[2,3])\n",
        "foo2(1,2, 2,3)"
      ],
      "metadata": {
        "colab": {
          "base_uri": "https://localhost:8080/"
        },
        "id": "8eTyThf9GVvq",
        "outputId": "1cc536aa-412a-42e1-ffb4-2a6b6a323b97"
      },
      "execution_count": null,
      "outputs": [
        {
          "output_type": "stream",
          "name": "stdout",
          "text": [
            "(2, 3)\n",
            "(2, 3)\n",
            "(2, 3)\n"
          ]
        }
      ]
    },
    {
      "cell_type": "code",
      "source": [
        "def foo3(x, y=4, **z):\n",
        "  print(z)"
      ],
      "metadata": {
        "id": "Vz9xM1x6GboK"
      },
      "execution_count": 77,
      "outputs": []
    },
    {
      "cell_type": "code",
      "source": [
        "foo3(1,3, a=1, b=2, c=[3,4])"
      ],
      "metadata": {
        "colab": {
          "base_uri": "https://localhost:8080/"
        },
        "id": "b83LGsXx9IIY",
        "outputId": "7ba03a1e-48de-42f5-e561-7f52cd0df765"
      },
      "execution_count": 86,
      "outputs": [
        {
          "output_type": "stream",
          "name": "stdout",
          "text": [
            "{'a': 1, 'b': 2, 'c': [3, 4]}\n"
          ]
        }
      ]
    },
    {
      "cell_type": "code",
      "source": [
        "d = {'a':1, 'b':2, 'c':[3,4]}"
      ],
      "metadata": {
        "id": "bjoFKN4HGdZ8"
      },
      "execution_count": 87,
      "outputs": []
    },
    {
      "cell_type": "code",
      "source": [
        "foo3(1,3, **d)\n",
        "foo3(1,3, a=1, b=2, c=[3,4]) # we can either give the keyword arguments or use ** as an unpacker to get the keywords instead"
      ],
      "metadata": {
        "colab": {
          "base_uri": "https://localhost:8080/"
        },
        "id": "3wv6XeyIGd4u",
        "outputId": "22b982bd-d463-4cc9-fdcd-863202eb97ef"
      },
      "execution_count": 88,
      "outputs": [
        {
          "output_type": "stream",
          "name": "stdout",
          "text": [
            "{'a': 1, 'b': 2, 'c': [3, 4]}\n",
            "{'a': 1, 'b': 2, 'c': [3, 4]}\n"
          ]
        }
      ]
    },
    {
      "cell_type": "code",
      "source": [
        "def myfunc(*args, **kwargs):\n",
        "    print(args, kwargs)\n",
        "\n",
        "l = (1, 2, 3)\n",
        "d = {'a':1, 'b':2, 'c':3}"
      ],
      "metadata": {
        "id": "OLxu4IZOGqww"
      },
      "execution_count": 89,
      "outputs": []
    },
    {
      "cell_type": "code",
      "source": [
        "myfunc(1,2,3,a=1,b=2,c=3)"
      ],
      "metadata": {
        "colab": {
          "base_uri": "https://localhost:8080/"
        },
        "id": "CAAAWLBx-CCQ",
        "outputId": "5cbddf64-e775-4d47-fde4-1fffc9139996"
      },
      "execution_count": 96,
      "outputs": [
        {
          "output_type": "stream",
          "name": "stdout",
          "text": [
            "() {'a': 1, 'b': 2, 'c': 3}\n"
          ]
        }
      ]
    },
    {
      "cell_type": "code",
      "source": [
        "myfunc(*l)"
      ],
      "metadata": {
        "colab": {
          "base_uri": "https://localhost:8080/"
        },
        "id": "tX5WCEzNG7QM",
        "outputId": "3623623e-a33d-4572-bf96-db35ed567b9c"
      },
      "execution_count": 95,
      "outputs": [
        {
          "output_type": "stream",
          "name": "stdout",
          "text": [
            "(1, 2, 3) {}\n"
          ]
        }
      ]
    },
    {
      "cell_type": "code",
      "source": [
        "myfunc(**d)"
      ],
      "metadata": {
        "colab": {
          "base_uri": "https://localhost:8080/"
        },
        "id": "qI16WMICG74n",
        "outputId": "914c090f-c8d0-4ceb-caec-fe7f7892f93a"
      },
      "execution_count": 8,
      "outputs": [
        {
          "output_type": "stream",
          "name": "stdout",
          "text": [
            "() {'a': 1, 'b': 2, 'c': 3}\n"
          ]
        }
      ]
    },
    {
      "cell_type": "code",
      "source": [
        "myfunc(*d) # since by default dictionary will be iterated on items"
      ],
      "metadata": {
        "colab": {
          "base_uri": "https://localhost:8080/"
        },
        "id": "xN8IbiNkG9c6",
        "outputId": "6a7bad7f-630d-45d0-d9b9-41b78a2cd69c"
      },
      "execution_count": 9,
      "outputs": [
        {
          "output_type": "stream",
          "name": "stdout",
          "text": [
            "('a', 'b', 'c') {}\n"
          ]
        }
      ]
    },
    {
      "cell_type": "code",
      "source": [
        "myfunc(1,2,*l,3,4,*l,e=10,f=12,**d,g=15)"
      ],
      "metadata": {
        "id": "Dd9tAZb_HEik",
        "colab": {
          "base_uri": "https://localhost:8080/"
        },
        "outputId": "b2a1e9f3-d59f-4f7d-d157-938ff995c35c"
      },
      "execution_count": 10,
      "outputs": [
        {
          "output_type": "stream",
          "name": "stdout",
          "text": [
            "(1, 2, 1, 2, 3, 3, 4, 1, 2, 3) {'e': 10, 'f': 12, 'a': 1, 'b': 2, 'c': 3, 'g': 15}\n"
          ]
        }
      ]
    },
    {
      "cell_type": "markdown",
      "source": [
        "## Pass-by-value VS pass-by-reference"
      ],
      "metadata": {
        "id": "rsyLvgh-JNad"
      }
    },
    {
      "cell_type": "markdown",
      "source": [
        "### Pass by value:"
      ],
      "metadata": {
        "id": "itC6TDsRJPwB"
      }
    },
    {
      "cell_type": "code",
      "source": [
        "def change(new_name):\n",
        "    new_name = \"Jack\"\n",
        "    return new_name"
      ],
      "metadata": {
        "id": "5HG4Pg8iJPaT"
      },
      "execution_count": null,
      "outputs": []
    },
    {
      "cell_type": "code",
      "source": [
        "my_name = \"Mohsen\"\n",
        "change(my_name)"
      ],
      "metadata": {
        "colab": {
          "base_uri": "https://localhost:8080/",
          "height": 35
        },
        "id": "RuN4l7H0Jb0G",
        "outputId": "d5c06ac5-b72c-4536-9d3c-315988f55a58"
      },
      "execution_count": null,
      "outputs": [
        {
          "output_type": "execute_result",
          "data": {
            "text/plain": [
              "'Jack'"
            ],
            "application/vnd.google.colaboratory.intrinsic+json": {
              "type": "string"
            }
          },
          "metadata": {},
          "execution_count": 73
        }
      ]
    },
    {
      "cell_type": "code",
      "source": [
        "my_name"
      ],
      "metadata": {
        "colab": {
          "base_uri": "https://localhost:8080/",
          "height": 35
        },
        "id": "UAQANOodJjeo",
        "outputId": "0edc516c-93dd-4838-e286-5cb5a249d87d"
      },
      "execution_count": null,
      "outputs": [
        {
          "output_type": "execute_result",
          "data": {
            "text/plain": [
              "'Mohsen'"
            ],
            "application/vnd.google.colaboratory.intrinsic+json": {
              "type": "string"
            }
          },
          "metadata": {},
          "execution_count": 74
        }
      ]
    },
    {
      "cell_type": "markdown",
      "source": [
        "Also note that variables in the function scope are defined locally."
      ],
      "metadata": {
        "id": "X_1uWXtdJ3QQ"
      }
    },
    {
      "cell_type": "code",
      "source": [
        "new_name"
      ],
      "metadata": {
        "colab": {
          "base_uri": "https://localhost:8080/",
          "height": 141
        },
        "id": "ovKWVE_UJy0_",
        "outputId": "af751821-e78a-494b-aade-5e419028f058"
      },
      "execution_count": null,
      "outputs": [
        {
          "output_type": "error",
          "ename": "NameError",
          "evalue": "name 'new_name' is not defined",
          "traceback": [
            "\u001b[0;31m---------------------------------------------------------------------------\u001b[0m",
            "\u001b[0;31mNameError\u001b[0m                                 Traceback (most recent call last)",
            "\u001b[0;32m<ipython-input-75-9d86db7a2999>\u001b[0m in \u001b[0;36m<cell line: 0>\u001b[0;34m()\u001b[0m\n\u001b[0;32m----> 1\u001b[0;31m \u001b[0mnew_name\u001b[0m\u001b[0;34m\u001b[0m\u001b[0;34m\u001b[0m\u001b[0m\n\u001b[0m",
            "\u001b[0;31mNameError\u001b[0m: name 'new_name' is not defined"
          ]
        }
      ]
    },
    {
      "cell_type": "markdown",
      "source": [
        "## Pass by reference:"
      ],
      "metadata": {
        "id": "CI-ddyvPJ_HM"
      }
    },
    {
      "cell_type": "code",
      "source": [
        "def change_list(mylist):\n",
        "    mylist[0] = 999\n",
        "    return mylist"
      ],
      "metadata": {
        "id": "YdJ9iWhmKBUj"
      },
      "execution_count": null,
      "outputs": []
    },
    {
      "cell_type": "code",
      "source": [
        "old_list = [1, 2, 3, 4, 5]\n",
        "change_list(old_list)"
      ],
      "metadata": {
        "colab": {
          "base_uri": "https://localhost:8080/"
        },
        "id": "fF4MidHkKDn6",
        "outputId": "fe1e37d6-4666-4e91-c706-6c2192e8f6c8"
      },
      "execution_count": null,
      "outputs": [
        {
          "output_type": "execute_result",
          "data": {
            "text/plain": [
              "[999, 2, 3, 4, 5]"
            ]
          },
          "metadata": {},
          "execution_count": 77
        }
      ]
    },
    {
      "cell_type": "code",
      "source": [
        "old_list"
      ],
      "metadata": {
        "colab": {
          "base_uri": "https://localhost:8080/"
        },
        "id": "0gPElL6yKFkf",
        "outputId": "885b2d41-f4a8-49d7-f98f-72f3c9ee4dbb"
      },
      "execution_count": null,
      "outputs": [
        {
          "output_type": "execute_result",
          "data": {
            "text/plain": [
              "[999, 2, 3, 4, 5]"
            ]
          },
          "metadata": {},
          "execution_count": 78
        }
      ]
    },
    {
      "cell_type": "markdown",
      "source": [
        "Solution to keep the input to functioin unchanged:"
      ],
      "metadata": {
        "id": "tph5Zk78KNw6"
      }
    },
    {
      "cell_type": "code",
      "source": [
        "def change(mylist):\n",
        "    new_list = mylist.copy()\n",
        "    new_list[0] = 999999\n",
        "    return new_list\n",
        "\n",
        "list_1 = [1,2,3]\n",
        "list_2 = change(list_1)\n",
        "\n",
        "print(list_1, list_2)"
      ],
      "metadata": {
        "id": "2N8dfVsnKOUa"
      },
      "execution_count": null,
      "outputs": []
    }
  ]
}