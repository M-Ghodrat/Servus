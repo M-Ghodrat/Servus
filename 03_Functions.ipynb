{
  "nbformat": 4,
  "nbformat_minor": 0,
  "metadata": {
    "colab": {
      "provenance": [],
      "authorship_tag": "ABX9TyNnGl0kqywl3/17VB2iq81z",
      "include_colab_link": true
    },
    "kernelspec": {
      "name": "python3",
      "display_name": "Python 3"
    },
    "language_info": {
      "name": "python"
    }
  },
  "cells": [
    {
      "cell_type": "markdown",
      "metadata": {
        "id": "view-in-github",
        "colab_type": "text"
      },
      "source": [
        "<a href=\"https://colab.research.google.com/github/M-Ghodrat/Servus/blob/main/03_Functions.ipynb\" target=\"_parent\"><img src=\"https://colab.research.google.com/assets/colab-badge.svg\" alt=\"Open In Colab\"/></a>"
      ]
    },
    {
      "cell_type": "markdown",
      "source": [
        "### Structure of a function:\n",
        "\n",
        "```python\n",
        "def func(input): # input to function can be ANYTHING even another function!\n",
        "    # code\n",
        "    return output\n",
        "```\n",
        "\n",
        "Watch the space in funtion environment!"
      ],
      "metadata": {
        "id": "KT3V95deCUDe"
      }
    },
    {
      "cell_type": "code",
      "execution_count": 1,
      "metadata": {
        "id": "GoQt-2C9CC2G"
      },
      "outputs": [],
      "source": [
        "def sum1(a, b):\n",
        "    c = a + b + 8\n",
        "    return c"
      ]
    },
    {
      "cell_type": "code",
      "source": [
        "sum1(2, 1)"
      ],
      "metadata": {
        "colab": {
          "base_uri": "https://localhost:8080/"
        },
        "id": "c_0ZHCpfCi4S",
        "outputId": "2f3beecb-4751-45a4-81fc-952f01522ab3"
      },
      "execution_count": 2,
      "outputs": [
        {
          "output_type": "execute_result",
          "data": {
            "text/plain": [
              "11"
            ]
          },
          "metadata": {},
          "execution_count": 2
        }
      ]
    },
    {
      "cell_type": "code",
      "source": [
        "x = 2\n",
        "y = 1\n",
        "sum1(x, y)"
      ],
      "metadata": {
        "id": "FUbcK984CllF"
      },
      "execution_count": null,
      "outputs": []
    },
    {
      "cell_type": "markdown",
      "source": [
        "**Note:** a,b,care defined locally (within function environment)"
      ],
      "metadata": {
        "id": "abQkjY4ECs_Q"
      }
    },
    {
      "cell_type": "code",
      "source": [
        "a"
      ],
      "metadata": {
        "colab": {
          "base_uri": "https://localhost:8080/",
          "height": 141
        },
        "id": "ltFd5lKCCvZI",
        "outputId": "41cb1512-e356-4f40-9727-e88436ea4a12"
      },
      "execution_count": 3,
      "outputs": [
        {
          "output_type": "error",
          "ename": "NameError",
          "evalue": "name 'a' is not defined",
          "traceback": [
            "\u001b[0;31m---------------------------------------------------------------------------\u001b[0m",
            "\u001b[0;31mNameError\u001b[0m                                 Traceback (most recent call last)",
            "\u001b[0;32m<ipython-input-3-3f786850e387>\u001b[0m in \u001b[0;36m<cell line: 0>\u001b[0;34m()\u001b[0m\n\u001b[0;32m----> 1\u001b[0;31m \u001b[0ma\u001b[0m\u001b[0;34m\u001b[0m\u001b[0;34m\u001b[0m\u001b[0m\n\u001b[0m",
            "\u001b[0;31mNameError\u001b[0m: name 'a' is not defined"
          ]
        }
      ]
    },
    {
      "cell_type": "code",
      "source": [
        "def diff(a, b, power):\n",
        "    return (a - b) ** power"
      ],
      "metadata": {
        "id": "7KNsPqOECv2B"
      },
      "execution_count": 5,
      "outputs": []
    },
    {
      "cell_type": "markdown",
      "source": [
        "### Positional variables/arguments\n",
        "\n",
        "Pass the arguments through their positions. Thus: Order DOES matter"
      ],
      "metadata": {
        "id": "EIqVKS-gC2aW"
      }
    },
    {
      "cell_type": "code",
      "source": [
        "print(diff(5, 2, 8))\n",
        "print(diff(8, 2, 5))"
      ],
      "metadata": {
        "colab": {
          "base_uri": "https://localhost:8080/"
        },
        "id": "CLYcb6y-C3nL",
        "outputId": "3092d924-496a-40d3-c132-53ac789d166b"
      },
      "execution_count": 6,
      "outputs": [
        {
          "output_type": "stream",
          "name": "stdout",
          "text": [
            "6561\n",
            "7776\n"
          ]
        }
      ]
    },
    {
      "cell_type": "markdown",
      "source": [
        "### Named variables/arguments\n",
        "\n",
        "Pass the arguments through their names. Thus: Order does NOT matter"
      ],
      "metadata": {
        "id": "ZI4Q14GrC9pP"
      }
    },
    {
      "cell_type": "code",
      "source": [
        "x = 5\n",
        "y = 2\n",
        "power = 8\n",
        "print(diff(a=x, b=y, power=power))\n",
        "print(diff(power=power, b=y, a=x))"
      ],
      "metadata": {
        "colab": {
          "base_uri": "https://localhost:8080/"
        },
        "id": "nlF2RB1wC_6W",
        "outputId": "01cf895c-94c7-4bc4-efdd-e04173481509"
      },
      "execution_count": 7,
      "outputs": [
        {
          "output_type": "stream",
          "name": "stdout",
          "text": [
            "6561\n",
            "6561\n"
          ]
        }
      ]
    },
    {
      "cell_type": "markdown",
      "source": [
        "### Partial variables/arguments\n",
        "\n",
        "The positional variables should come first!"
      ],
      "metadata": {
        "id": "xJ2qr73rDJOg"
      }
    },
    {
      "cell_type": "code",
      "source": [
        "y = 2\n",
        "power = 8\n",
        "diff(5, b=y, power=power)"
      ],
      "metadata": {
        "colab": {
          "base_uri": "https://localhost:8080/"
        },
        "id": "xvkh7bmSDMHn",
        "outputId": "159d5e48-3a3a-4794-cfc1-17731fa1fa0f"
      },
      "execution_count": 8,
      "outputs": [
        {
          "output_type": "execute_result",
          "data": {
            "text/plain": [
              "6561"
            ]
          },
          "metadata": {},
          "execution_count": 8
        }
      ]
    },
    {
      "cell_type": "code",
      "source": [
        "x = 5\n",
        "y = 2\n",
        "diff(a=x, b=y, 8)"
      ],
      "metadata": {
        "colab": {
          "base_uri": "https://localhost:8080/",
          "height": 106
        },
        "id": "9-ah4dCjDNsl",
        "outputId": "582729db-2bf7-4055-bc89-e1c163acc216"
      },
      "execution_count": 9,
      "outputs": [
        {
          "output_type": "error",
          "ename": "SyntaxError",
          "evalue": "positional argument follows keyword argument (<ipython-input-9-cf0542ca7ef2>, line 3)",
          "traceback": [
            "\u001b[0;36m  File \u001b[0;32m\"<ipython-input-9-cf0542ca7ef2>\"\u001b[0;36m, line \u001b[0;32m3\u001b[0m\n\u001b[0;31m    diff(a=x, b=y, 8)\u001b[0m\n\u001b[0m                    ^\u001b[0m\n\u001b[0;31mSyntaxError\u001b[0m\u001b[0;31m:\u001b[0m positional argument follows keyword argument\n"
          ]
        }
      ]
    },
    {
      "cell_type": "code",
      "source": [
        "def change_list(mylist, index, value):\n",
        "    mylist[index] = value\n",
        "    return mylist\n",
        "\n",
        "change_list(mylist=[0,1,2,3,4], index=-1, value=9999)"
      ],
      "metadata": {
        "colab": {
          "base_uri": "https://localhost:8080/"
        },
        "id": "gaVzyq9CDnFv",
        "outputId": "04ee4a7f-0c82-4f4c-c056-f061d969bb47"
      },
      "execution_count": 10,
      "outputs": [
        {
          "output_type": "execute_result",
          "data": {
            "text/plain": [
              "[0, 1, 2, 3, 9999]"
            ]
          },
          "metadata": {},
          "execution_count": 10
        }
      ]
    },
    {
      "cell_type": "markdown",
      "source": [
        "### Default Value"
      ],
      "metadata": {
        "id": "3prOmdXxD1j1"
      }
    },
    {
      "cell_type": "code",
      "source": [
        "def sum1(a=1, b=3):\n",
        "    return a + b\n",
        "\n",
        "print(sum1())\n",
        "print(sum1(2))\n",
        "print(sum1(2, 7))"
      ],
      "metadata": {
        "colab": {
          "base_uri": "https://localhost:8080/"
        },
        "id": "4ZcyKJGrDnXH",
        "outputId": "db034caa-efad-41b4-e0b2-af1e731f3924"
      },
      "execution_count": 11,
      "outputs": [
        {
          "output_type": "stream",
          "name": "stdout",
          "text": [
            "4\n",
            "5\n",
            "9\n"
          ]
        }
      ]
    },
    {
      "cell_type": "markdown",
      "source": [
        "`None` value is used to make a variable optional!"
      ],
      "metadata": {
        "id": "UTEGEujxEBjx"
      }
    },
    {
      "cell_type": "code",
      "source": [
        "def sum1(a=1, b=3, c=None):\n",
        "\n",
        "    output = a + b\n",
        "    if c:\n",
        "        output = output + c\n",
        "\n",
        "    return output\n",
        "\n",
        "sum1(1, 2, 5)"
      ],
      "metadata": {
        "colab": {
          "base_uri": "https://localhost:8080/"
        },
        "id": "KMWpnpCJEDui",
        "outputId": "02ea6a65-938d-4806-b4a9-abf071bfe7dd"
      },
      "execution_count": 12,
      "outputs": [
        {
          "output_type": "execute_result",
          "data": {
            "text/plain": [
              "8"
            ]
          },
          "metadata": {},
          "execution_count": 12
        }
      ]
    },
    {
      "cell_type": "markdown",
      "source": [
        "### Infinite positional"
      ],
      "metadata": {
        "id": "JwEYBpyhEM6G"
      }
    },
    {
      "cell_type": "code",
      "source": [
        "def sum1(*args):\n",
        "    summation = 0\n",
        "    for num in args:\n",
        "        summation += num\n",
        "    return summation\n",
        "\n",
        "sum1(1), sum1(1,2), sum1(1,2,3,4)"
      ],
      "metadata": {
        "colab": {
          "base_uri": "https://localhost:8080/"
        },
        "id": "o7-OrRRNEEDw",
        "outputId": "4a0f9295-54e0-4edb-9289-ecdab9f98108"
      },
      "execution_count": 61,
      "outputs": [
        {
          "output_type": "execute_result",
          "data": {
            "text/plain": [
              "(1, 3, 10)"
            ]
          },
          "metadata": {},
          "execution_count": 61
        }
      ]
    },
    {
      "cell_type": "code",
      "source": [
        "sum1(*(1,2,3,4))"
      ],
      "metadata": {
        "colab": {
          "base_uri": "https://localhost:8080/"
        },
        "id": "oAeKL5myEd1G",
        "outputId": "a8bec559-702d-4e3d-e487-b86f51d6fe77"
      },
      "execution_count": 22,
      "outputs": [
        {
          "output_type": "execute_result",
          "data": {
            "text/plain": [
              "1"
            ]
          },
          "metadata": {},
          "execution_count": 22
        }
      ]
    },
    {
      "cell_type": "code",
      "source": [
        "sum1(*[1,2,3,4])"
      ],
      "metadata": {
        "colab": {
          "base_uri": "https://localhost:8080/"
        },
        "id": "tpXO7ESUHh_E",
        "outputId": "76cb786c-20aa-4320-d761-af462b313baa"
      },
      "execution_count": 46,
      "outputs": [
        {
          "output_type": "execute_result",
          "data": {
            "text/plain": [
              "10"
            ]
          },
          "metadata": {},
          "execution_count": 46
        }
      ]
    },
    {
      "cell_type": "code",
      "source": [
        "sum1(*{1,2,3,4})"
      ],
      "metadata": {
        "colab": {
          "base_uri": "https://localhost:8080/"
        },
        "id": "EYW3oSdQHlKL",
        "outputId": "8e3c3567-acfe-4bc2-8276-0c85b2b0cdcc"
      },
      "execution_count": 47,
      "outputs": [
        {
          "output_type": "execute_result",
          "data": {
            "text/plain": [
              "10"
            ]
          },
          "metadata": {},
          "execution_count": 47
        }
      ]
    },
    {
      "cell_type": "code",
      "source": [
        "sum1(*{1:10, 2:20, 3:30, 4:40})"
      ],
      "metadata": {
        "colab": {
          "base_uri": "https://localhost:8080/"
        },
        "id": "bMZnip79HlU7",
        "outputId": "9d091261-9281-4e46-e1a7-467a56219e02"
      },
      "execution_count": 48,
      "outputs": [
        {
          "output_type": "execute_result",
          "data": {
            "text/plain": [
              "10"
            ]
          },
          "metadata": {},
          "execution_count": 48
        }
      ]
    },
    {
      "cell_type": "markdown",
      "source": [
        "Notice the difference: (?)"
      ],
      "metadata": {
        "id": "NWFbciKhIGgY"
      }
    },
    {
      "cell_type": "code",
      "source": [
        "def foo(*args):\n",
        "  return args[0]"
      ],
      "metadata": {
        "id": "HwFMHmw9Ie6y"
      },
      "execution_count": 63,
      "outputs": []
    },
    {
      "cell_type": "code",
      "source": [
        "foo(1,2,3,4)"
      ],
      "metadata": {
        "colab": {
          "base_uri": "https://localhost:8080/"
        },
        "id": "aoSsJRjEJCnA",
        "outputId": "d14d6bc2-d63d-4fd9-8584-bcb04946a7e7"
      },
      "execution_count": 66,
      "outputs": [
        {
          "output_type": "execute_result",
          "data": {
            "text/plain": [
              "1"
            ]
          },
          "metadata": {},
          "execution_count": 66
        }
      ]
    },
    {
      "cell_type": "code",
      "source": [
        "foo(*(1,2,3,4))"
      ],
      "metadata": {
        "colab": {
          "base_uri": "https://localhost:8080/"
        },
        "id": "oQ2TF5uPIELI",
        "outputId": "f3876990-09c0-4806-c149-9da12abea4d7"
      },
      "execution_count": 64,
      "outputs": [
        {
          "output_type": "execute_result",
          "data": {
            "text/plain": [
              "1"
            ]
          },
          "metadata": {},
          "execution_count": 64
        }
      ]
    },
    {
      "cell_type": "code",
      "source": [
        "foo((1,2,3,4))"
      ],
      "metadata": {
        "colab": {
          "base_uri": "https://localhost:8080/"
        },
        "id": "X2nDFfBmIK2S",
        "outputId": "d42277a9-757c-43bc-9def-35c02a778812"
      },
      "execution_count": 65,
      "outputs": [
        {
          "output_type": "execute_result",
          "data": {
            "text/plain": [
              "(1, 2, 3, 4)"
            ]
          },
          "metadata": {},
          "execution_count": 65
        }
      ]
    },
    {
      "cell_type": "markdown",
      "source": [
        "### Infinite named (keyword)"
      ],
      "metadata": {
        "id": "z0TAmMFrExwK"
      }
    },
    {
      "cell_type": "code",
      "source": [
        "def func(**kwargs):\n",
        "    print(kwargs['fname'] + ' ' + kwargs['lname'])\n",
        "\n",
        "func(fname = 'Mohsen', lname = 'Ghodrat')"
      ],
      "metadata": {
        "colab": {
          "base_uri": "https://localhost:8080/"
        },
        "id": "ytLTSfgyEqKW",
        "outputId": "6b7c2871-685e-451d-bde7-e7b611bfe234"
      },
      "execution_count": 28,
      "outputs": [
        {
          "output_type": "stream",
          "name": "stdout",
          "text": [
            "Mohsen Ghodrat\n"
          ]
        }
      ]
    },
    {
      "cell_type": "code",
      "source": [
        "dict(fname = 'Mohsen', lname = 'Ghodrat')"
      ],
      "metadata": {
        "colab": {
          "base_uri": "https://localhost:8080/"
        },
        "id": "to8cNzneE-4r",
        "outputId": "c0a6ad25-c18f-4fb3-9aef-ef0c76766613"
      },
      "execution_count": 29,
      "outputs": [
        {
          "output_type": "execute_result",
          "data": {
            "text/plain": [
              "{'fname': 'Mohsen', 'lname': 'Ghodrat'}"
            ]
          },
          "metadata": {},
          "execution_count": 29
        }
      ]
    },
    {
      "cell_type": "code",
      "source": [
        "func(**{'fname': 'Mohsen', 'lname': 'Ghodrat'})"
      ],
      "metadata": {
        "colab": {
          "base_uri": "https://localhost:8080/"
        },
        "id": "-1FXzygGFx9Y",
        "outputId": "beaaab53-7395-41bd-9174-32ebdfba6788"
      },
      "execution_count": 30,
      "outputs": [
        {
          "output_type": "stream",
          "name": "stdout",
          "text": [
            "Mohsen Ghodrat\n"
          ]
        }
      ]
    },
    {
      "cell_type": "markdown",
      "source": [
        "**Argument unpacking:**\n",
        "1. `**` and `*` act as unpackers for keyword and positional arguments respectively\n",
        "2. keyword arguments are like keywords of a dictionary, by putting `**` before a dictionary we actually tell python to unpack the dictionary and get the keywords from it."
      ],
      "metadata": {
        "id": "b06gD4i0GGZ3"
      }
    },
    {
      "cell_type": "code",
      "source": [
        "def foo(x,y):\n",
        "    print(x+y)\n",
        "\n",
        "foo(1,2)\n",
        "foo(*(1,2))"
      ],
      "metadata": {
        "colab": {
          "base_uri": "https://localhost:8080/"
        },
        "id": "_meUas8SGT5D",
        "outputId": "622596ff-5a69-4e0a-f792-a460993aab53"
      },
      "execution_count": 31,
      "outputs": [
        {
          "output_type": "stream",
          "name": "stdout",
          "text": [
            "3\n",
            "3\n"
          ]
        }
      ]
    },
    {
      "cell_type": "code",
      "source": [
        "def foo2(x,y, *z):\n",
        "  print(z)\n",
        "\n",
        "foo2(1, 2, *(2,3))\n",
        "foo2(1, 2, *[2,3])\n",
        "foo2(1,2, 2,3)"
      ],
      "metadata": {
        "colab": {
          "base_uri": "https://localhost:8080/"
        },
        "id": "8eTyThf9GVvq",
        "outputId": "1cc536aa-412a-42e1-ffb4-2a6b6a323b97"
      },
      "execution_count": 32,
      "outputs": [
        {
          "output_type": "stream",
          "name": "stdout",
          "text": [
            "(2, 3)\n",
            "(2, 3)\n",
            "(2, 3)\n"
          ]
        }
      ]
    },
    {
      "cell_type": "code",
      "source": [
        "def foo3(x, y=4, **z):\n",
        "  print(z)"
      ],
      "metadata": {
        "id": "Vz9xM1x6GboK"
      },
      "execution_count": 37,
      "outputs": []
    },
    {
      "cell_type": "code",
      "source": [
        "d = {'a':1, 'b':2, 'c':[3,4]}"
      ],
      "metadata": {
        "id": "bjoFKN4HGdZ8"
      },
      "execution_count": 38,
      "outputs": []
    },
    {
      "cell_type": "code",
      "source": [
        "foo3(1,3, **d)\n",
        "foo3(1,3, a=1, b=2, c=[3,4]) # we can either give the keyword arguments or use ** as an unpacker to get the keywords instead"
      ],
      "metadata": {
        "colab": {
          "base_uri": "https://localhost:8080/"
        },
        "id": "3wv6XeyIGd4u",
        "outputId": "c210b17c-cb12-43bf-ebe9-b739c9cd6ee3"
      },
      "execution_count": 40,
      "outputs": [
        {
          "output_type": "stream",
          "name": "stdout",
          "text": [
            "{'a': 1, 'b': 2, 'c': [3, 4]}\n",
            "{'a': 1, 'b': 2, 'c': [3, 4]}\n"
          ]
        }
      ]
    },
    {
      "cell_type": "code",
      "source": [
        "def myfunc(*args, **kwargs):\n",
        "    print(args, kwargs)\n",
        "\n",
        "l = (1, 2, 3)\n",
        "d = {'a':1, 'b':2, 'c':3}"
      ],
      "metadata": {
        "id": "OLxu4IZOGqww"
      },
      "execution_count": 41,
      "outputs": []
    },
    {
      "cell_type": "code",
      "source": [
        "myfunc(*l)"
      ],
      "metadata": {
        "colab": {
          "base_uri": "https://localhost:8080/"
        },
        "id": "tX5WCEzNG7QM",
        "outputId": "8b63f2c0-e3c5-4a9d-ffdf-20930b29be3c"
      },
      "execution_count": 42,
      "outputs": [
        {
          "output_type": "stream",
          "name": "stdout",
          "text": [
            "(1, 2, 3) {}\n"
          ]
        }
      ]
    },
    {
      "cell_type": "code",
      "source": [
        "myfunc(**d)"
      ],
      "metadata": {
        "colab": {
          "base_uri": "https://localhost:8080/"
        },
        "id": "qI16WMICG74n",
        "outputId": "ac6d7a1b-db28-43d6-fba1-d1191c0cc491"
      },
      "execution_count": 43,
      "outputs": [
        {
          "output_type": "stream",
          "name": "stdout",
          "text": [
            "() {'a': 1, 'b': 2, 'c': 3}\n"
          ]
        }
      ]
    },
    {
      "cell_type": "code",
      "source": [
        "myfunc(*d) # since by default dictionary will be iterated on items"
      ],
      "metadata": {
        "colab": {
          "base_uri": "https://localhost:8080/"
        },
        "id": "xN8IbiNkG9c6",
        "outputId": "382332e9-d83d-4ad9-9766-38249013edbb"
      },
      "execution_count": 45,
      "outputs": [
        {
          "output_type": "stream",
          "name": "stdout",
          "text": [
            "('a', 'b', 'c') {}\n"
          ]
        }
      ]
    },
    {
      "cell_type": "code",
      "source": [
        "myfunc(1,2,*l,3,4,*l,e=10,f=12,**d,g=15)"
      ],
      "metadata": {
        "id": "Dd9tAZb_HEik"
      },
      "execution_count": null,
      "outputs": []
    },
    {
      "cell_type": "markdown",
      "source": [
        "## Pass-by-value VS pass-by-reference"
      ],
      "metadata": {
        "id": "rsyLvgh-JNad"
      }
    },
    {
      "cell_type": "markdown",
      "source": [
        "### Pass by value:"
      ],
      "metadata": {
        "id": "itC6TDsRJPwB"
      }
    },
    {
      "cell_type": "code",
      "source": [
        "def change(new_name):\n",
        "    new_name = \"Jack\"\n",
        "    return new_name"
      ],
      "metadata": {
        "id": "5HG4Pg8iJPaT"
      },
      "execution_count": 69,
      "outputs": []
    },
    {
      "cell_type": "code",
      "source": [
        "my_name = \"Mohsen\"\n",
        "change(my_name)"
      ],
      "metadata": {
        "colab": {
          "base_uri": "https://localhost:8080/",
          "height": 35
        },
        "id": "RuN4l7H0Jb0G",
        "outputId": "d5c06ac5-b72c-4536-9d3c-315988f55a58"
      },
      "execution_count": 73,
      "outputs": [
        {
          "output_type": "execute_result",
          "data": {
            "text/plain": [
              "'Jack'"
            ],
            "application/vnd.google.colaboratory.intrinsic+json": {
              "type": "string"
            }
          },
          "metadata": {},
          "execution_count": 73
        }
      ]
    },
    {
      "cell_type": "code",
      "source": [
        "my_name"
      ],
      "metadata": {
        "colab": {
          "base_uri": "https://localhost:8080/",
          "height": 35
        },
        "id": "UAQANOodJjeo",
        "outputId": "0edc516c-93dd-4838-e286-5cb5a249d87d"
      },
      "execution_count": 74,
      "outputs": [
        {
          "output_type": "execute_result",
          "data": {
            "text/plain": [
              "'Mohsen'"
            ],
            "application/vnd.google.colaboratory.intrinsic+json": {
              "type": "string"
            }
          },
          "metadata": {},
          "execution_count": 74
        }
      ]
    },
    {
      "cell_type": "markdown",
      "source": [
        "Also note that variables in the function scope are defined locally."
      ],
      "metadata": {
        "id": "X_1uWXtdJ3QQ"
      }
    },
    {
      "cell_type": "code",
      "source": [
        "new_name"
      ],
      "metadata": {
        "colab": {
          "base_uri": "https://localhost:8080/",
          "height": 141
        },
        "id": "ovKWVE_UJy0_",
        "outputId": "af751821-e78a-494b-aade-5e419028f058"
      },
      "execution_count": 75,
      "outputs": [
        {
          "output_type": "error",
          "ename": "NameError",
          "evalue": "name 'new_name' is not defined",
          "traceback": [
            "\u001b[0;31m---------------------------------------------------------------------------\u001b[0m",
            "\u001b[0;31mNameError\u001b[0m                                 Traceback (most recent call last)",
            "\u001b[0;32m<ipython-input-75-9d86db7a2999>\u001b[0m in \u001b[0;36m<cell line: 0>\u001b[0;34m()\u001b[0m\n\u001b[0;32m----> 1\u001b[0;31m \u001b[0mnew_name\u001b[0m\u001b[0;34m\u001b[0m\u001b[0;34m\u001b[0m\u001b[0m\n\u001b[0m",
            "\u001b[0;31mNameError\u001b[0m: name 'new_name' is not defined"
          ]
        }
      ]
    },
    {
      "cell_type": "markdown",
      "source": [
        "## Pass by reference:"
      ],
      "metadata": {
        "id": "CI-ddyvPJ_HM"
      }
    },
    {
      "cell_type": "code",
      "source": [
        "def change_list(mylist):\n",
        "    mylist[0] = 999\n",
        "    return mylist"
      ],
      "metadata": {
        "id": "YdJ9iWhmKBUj"
      },
      "execution_count": 76,
      "outputs": []
    },
    {
      "cell_type": "code",
      "source": [
        "old_list = [1, 2, 3, 4, 5]\n",
        "change_list(old_list)"
      ],
      "metadata": {
        "colab": {
          "base_uri": "https://localhost:8080/"
        },
        "id": "fF4MidHkKDn6",
        "outputId": "fe1e37d6-4666-4e91-c706-6c2192e8f6c8"
      },
      "execution_count": 77,
      "outputs": [
        {
          "output_type": "execute_result",
          "data": {
            "text/plain": [
              "[999, 2, 3, 4, 5]"
            ]
          },
          "metadata": {},
          "execution_count": 77
        }
      ]
    },
    {
      "cell_type": "code",
      "source": [
        "old_list"
      ],
      "metadata": {
        "colab": {
          "base_uri": "https://localhost:8080/"
        },
        "id": "0gPElL6yKFkf",
        "outputId": "885b2d41-f4a8-49d7-f98f-72f3c9ee4dbb"
      },
      "execution_count": 78,
      "outputs": [
        {
          "output_type": "execute_result",
          "data": {
            "text/plain": [
              "[999, 2, 3, 4, 5]"
            ]
          },
          "metadata": {},
          "execution_count": 78
        }
      ]
    },
    {
      "cell_type": "markdown",
      "source": [
        "Solution to keep the input to functioin unchanged:"
      ],
      "metadata": {
        "id": "tph5Zk78KNw6"
      }
    },
    {
      "cell_type": "code",
      "source": [
        "def change(mylist):\n",
        "    new_list = mylist.copy()\n",
        "    new_list[0] = 999999\n",
        "    return new_list\n",
        "\n",
        "list_1 = [1,2,3]\n",
        "list_2 = change(list_1)\n",
        "\n",
        "print(list_1, list_2)"
      ],
      "metadata": {
        "id": "2N8dfVsnKOUa"
      },
      "execution_count": null,
      "outputs": []
    }
  ]
}