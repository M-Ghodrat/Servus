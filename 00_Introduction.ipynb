{
  "nbformat": 4,
  "nbformat_minor": 0,
  "metadata": {
    "colab": {
      "provenance": [],
      "authorship_tag": "ABX9TyO55X8Fr74+CUiSZp2UBECV",
      "include_colab_link": true
    },
    "kernelspec": {
      "name": "python3",
      "display_name": "Python 3"
    },
    "language_info": {
      "name": "python"
    }
  },
  "cells": [
    {
      "cell_type": "markdown",
      "metadata": {
        "id": "view-in-github",
        "colab_type": "text"
      },
      "source": [
        "<a href=\"https://colab.research.google.com/github/M-Ghodrat/Servus/blob/main/00_Introduction.ipynb\" target=\"_parent\"><img src=\"https://colab.research.google.com/assets/colab-badge.svg\" alt=\"Open In Colab\"/></a>"
      ]
    },
    {
      "cell_type": "markdown",
      "source": [
        "# Introduction\n",
        "- Python was created in 1990 by [Guido van Rossum](https://en.wikipedia.org/wiki/Guido_van_Rossum).\n",
        "- Python 3 released in 2008.\n",
        "- Specifically designed as an easy to use language.\n",
        "- High focus on readability of code.\n",
        "\n",
        "# Why Python\n",
        "- Why choose python?\n",
        "  - Designed for clear, logical code that is easy to read and learn.\n",
        "  - Lots of existing libraries and framework written in Python allowing users to apply Python to a wide variety of tasks.\n",
        "  - Focuses on optimizing developer time, rather than a computer's processing time.\n",
        "  - Great [documentation](https://docs.python.org/3/) online.\n",
        "\n",
        "# What can you do with python?\n",
        "- Automate Simple tasks.\n",
        "  - Searching for file and editing them.\n",
        "  - Scraping information from a website.\n",
        "  - Reading and editing excel files.\n",
        "  - Work with PDFs.\n",
        "  - Automate emails and text messages.\n",
        "  - Fill out Form.\n",
        "- Data science and machine learning.\n",
        "  - Analyze large data files.\n",
        "  - Create visualizations.\n",
        "  - Perform machine learning tasks.\n",
        "  - Create and run predictive algorithms.\n",
        "- Create websites.\n",
        "  - Use web frameworks such as Django and Flask to handle the backend of a website and user data.\n",
        "  - Create interactive dashboards for users.\n",
        "\n",
        "# Running Python Code\n",
        "- There are several ways to run Python code.\n",
        "- First let's discuss the various options for development environments. There are 3 main types of environments:\n",
        "  - Text Editors\n",
        "  - Full IDEs\n",
        "  - Notebook Environments\n",
        "\n",
        "__Note__: Development environments are a personal choice highly dependent on personal preference.\n",
        "\n",
        "\n",
        "### 1. Text Editors\n",
        "- General editors for any text files.\n",
        "- Work with a variety of file types.\n",
        "- Can be customized with plugins and add-ons.\n",
        "- Keep in mind, most are not desinged with only Python in mind.\n",
        "- Most popular: VSCode, Submile Text, and Atom.\n",
        "\n",
        "\n",
        "### 2. Full IDEs\n",
        "- Development environments designed specifically for Python.\n",
        "- Larger Programs\n",
        "- Only community editions are free.\n",
        "- Designed specifically for Python, lots of extra functionality.\n",
        "- Most popular: PyCharm and Spyder.\n",
        "\n",
        "\n",
        "### 3. Notebook Environments\n",
        "- Great for learning.\n",
        "- See input and output next to each other.\n",
        "- Support in-line markdown notes, visualization, videos, and more.\n",
        "- Special file formats that are not .py.\n",
        "- Most popular: Jupyter Notebook, Colab Notebook."
      ],
      "metadata": {
        "id": "rl7ESaf7xPw4"
      }
    },
    {
      "cell_type": "code",
      "source": [],
      "metadata": {
        "id": "fU8_cEFjV8O_"
      },
      "execution_count": null,
      "outputs": []
    }
  ]
}