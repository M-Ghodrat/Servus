{
  "nbformat": 4,
  "nbformat_minor": 0,
  "metadata": {
    "colab": {
      "provenance": [],
      "authorship_tag": "ABX9TyOxWH4xOXVIleGazRpFjIl7",
      "include_colab_link": true
    },
    "kernelspec": {
      "name": "python3",
      "display_name": "Python 3"
    },
    "language_info": {
      "name": "python"
    }
  },
  "cells": [
    {
      "cell_type": "markdown",
      "metadata": {
        "id": "view-in-github",
        "colab_type": "text"
      },
      "source": [
        "<a href=\"https://colab.research.google.com/github/M-Ghodrat/Servus/blob/main/04_Opertors_and_Statements.ipynb\" target=\"_parent\"><img src=\"https://colab.research.google.com/assets/colab-badge.svg\" alt=\"Open In Colab\"/></a>"
      ]
    },
    {
      "cell_type": "markdown",
      "source": [
        "# Operators"
      ],
      "metadata": {
        "id": "bLHdkci8neB6"
      }
    },
    {
      "cell_type": "code",
      "execution_count": null,
      "metadata": {
        "id": "qOs3L-p-nZ7H"
      },
      "outputs": [],
      "source": [
        "x = 5\n",
        "x < 2"
      ]
    },
    {
      "cell_type": "code",
      "source": [
        "x // 2"
      ],
      "metadata": {
        "id": "T6aWMb2ZnlQ8"
      },
      "execution_count": null,
      "outputs": []
    },
    {
      "cell_type": "code",
      "source": [
        "\n",
        "x % 2"
      ],
      "metadata": {
        "id": "cQ89vXThnlOM"
      },
      "execution_count": null,
      "outputs": []
    },
    {
      "cell_type": "code",
      "source": [
        "x != 5"
      ],
      "metadata": {
        "id": "ysw_gn8LnlK4"
      },
      "execution_count": null,
      "outputs": []
    },
    {
      "cell_type": "code",
      "source": [
        "x == 2"
      ],
      "metadata": {
        "id": "tdny3IUVnlIC"
      },
      "execution_count": null,
      "outputs": []
    },
    {
      "cell_type": "code",
      "source": [
        "x == 2 or x == 3"
      ],
      "metadata": {
        "id": "ncG2aXCinlFN"
      },
      "execution_count": null,
      "outputs": []
    },
    {
      "cell_type": "code",
      "source": [
        "x == 2 and x == 3"
      ],
      "metadata": {
        "id": "LOjvk1yhnlCi"
      },
      "execution_count": null,
      "outputs": []
    },
    {
      "cell_type": "code",
      "source": [
        "True or False"
      ],
      "metadata": {
        "id": "zywUJLl9nk_2"
      },
      "execution_count": null,
      "outputs": []
    },
    {
      "cell_type": "code",
      "source": [
        "True and False"
      ],
      "metadata": {
        "id": "ZsQS1MJDnk9K"
      },
      "execution_count": null,
      "outputs": []
    },
    {
      "cell_type": "code",
      "source": [
        "not(x == 2)"
      ],
      "metadata": {
        "id": "fU1T39sHnk6n"
      },
      "execution_count": null,
      "outputs": []
    },
    {
      "cell_type": "code",
      "source": [
        "not x == 2"
      ],
      "metadata": {
        "id": "AYY7rDQLnk30"
      },
      "execution_count": null,
      "outputs": []
    },
    {
      "cell_type": "markdown",
      "source": [
        "\n",
        "Priority of operations in python?\n",
        "\n",
        "```python\n",
        "x and y or x and z\n",
        "```"
      ],
      "metadata": {
        "id": "bLwIueYQoQam"
      }
    },
    {
      "cell_type": "markdown",
      "source": [
        "# Statements:\n",
        "\n",
        "`if`\n",
        "\n",
        "Syntax of an `if` statement:\n",
        "\n",
        "<img src=\"https://raw.githubusercontent.com/M-Ghodrat/Servus/86fc54036db176480d9e134944a8158ac6f4242a/images/if-statement.PNG\" height=\"200\">"
      ],
      "metadata": {
        "id": "HN_rFg91oXHH"
      }
    },
    {
      "cell_type": "code",
      "source": [
        "name = \"Mohsen\""
      ],
      "metadata": {
        "id": "FNN4hlGmnk05"
      },
      "execution_count": null,
      "outputs": []
    },
    {
      "cell_type": "code",
      "source": [
        "if name == \"Mohsen\":\n",
        "    print(\"yes\")\n",
        "elif name == \"Jack\":\n",
        "    print(\"name is Jack\")\n",
        "else:\n",
        "    print(\"I don't know\")"
      ],
      "metadata": {
        "id": "uvGEcwaMnkyO"
      },
      "execution_count": null,
      "outputs": []
    },
    {
      "cell_type": "code",
      "source": [
        "x = 15\n",
        "if x == 5:\n",
        "    pass\n",
        "else:\n",
        "    print(\"x not 5\")"
      ],
      "metadata": {
        "id": "E4TE4bJcnkvi"
      },
      "execution_count": null,
      "outputs": []
    },
    {
      "cell_type": "code",
      "source": [
        "x = 5\n",
        "if x != 5:\n",
        "    print(\"x is not equal to 5\")\n",
        "else:\n",
        "    print(\"x is equal to 5\")"
      ],
      "metadata": {
        "id": "4EWbNExKnks2"
      },
      "execution_count": null,
      "outputs": []
    },
    {
      "cell_type": "markdown",
      "source": [
        "for Loop\n",
        "Syntax of a for loop:\n",
        "\n",
        "<img src=\"https://raw.githubusercontent.com/M-Ghodrat/Servus/f6163882ee52f09cd1a589caa0352c90491c4f4b/images/for-loop.PNG\" height=\"200\">\n"
      ],
      "metadata": {
        "id": "hm8oQ_HjpMJn"
      }
    },
    {
      "cell_type": "code",
      "source": [
        "mylist = [1 ,2 ,3 ,4 ,5]\n",
        "for num in mylist:\n",
        "    print(num)"
      ],
      "metadata": {
        "colab": {
          "base_uri": "https://localhost:8080/"
        },
        "id": "ghxySgifnkpr",
        "outputId": "13fe2bb5-a098-42d9-a916-5e1094f15ab5"
      },
      "execution_count": 3,
      "outputs": [
        {
          "output_type": "stream",
          "name": "stdout",
          "text": [
            "1\n"
          ]
        }
      ]
    },
    {
      "cell_type": "markdown",
      "source": [
        "**Note:** print has a built-in \"\\n\""
      ],
      "metadata": {
        "id": "eE8aP7xArPLl"
      }
    },
    {
      "cell_type": "code",
      "source": [
        "mylist = [\"apple\", \"orange\", \"banana\"]\n",
        "for fruit in mylist:\n",
        "    print(fruit, end=\"--\")"
      ],
      "metadata": {
        "id": "6RZo63VxnknA"
      },
      "execution_count": null,
      "outputs": []
    },
    {
      "cell_type": "code",
      "source": [
        "mytuple = (1 ,2 ,3 ,4 ,5)\n",
        "for num in mytuple:\n",
        "    print(num)"
      ],
      "metadata": {
        "id": "OaxSYcpOrUGO"
      },
      "execution_count": null,
      "outputs": []
    },
    {
      "cell_type": "code",
      "source": [
        "mydic = {1:\"one\" ,2:\"two\" ,3:\"three\" ,4:\"four\" ,5:\"five\"}\n",
        "\n",
        "print(mydic.keys())\n",
        "print(mydic.values())\n",
        "print(mydic.items())"
      ],
      "metadata": {
        "id": "lpbmsPSnrVju"
      },
      "execution_count": null,
      "outputs": []
    },
    {
      "cell_type": "markdown",
      "source": [
        "when iteration on dictionary, the defualt iteration is on \"keys\""
      ],
      "metadata": {
        "id": "IwD5R4mLrZvo"
      }
    },
    {
      "cell_type": "code",
      "source": [
        "for num in mydic:\n",
        "    print(num)"
      ],
      "metadata": {
        "id": "S84Vj7GSrXvo"
      },
      "execution_count": null,
      "outputs": []
    },
    {
      "cell_type": "code",
      "source": [
        "for num in mydic.values():\n",
        "    print(num)"
      ],
      "metadata": {
        "id": "C6pkHDhQrgc0"
      },
      "execution_count": null,
      "outputs": []
    },
    {
      "cell_type": "code",
      "source": [
        "for char in \"python\":\n",
        "    print(char)"
      ],
      "metadata": {
        "id": "-wgBZ61briZC"
      },
      "execution_count": null,
      "outputs": []
    },
    {
      "cell_type": "code",
      "source": [
        "for char in \"python\":\n",
        "    print(char)"
      ],
      "metadata": {
        "id": "CB3iG85krtBJ"
      },
      "execution_count": null,
      "outputs": []
    },
    {
      "cell_type": "code",
      "source": [
        "for char in \"python is god\".split():\n",
        "    print(char)"
      ],
      "metadata": {
        "id": "URek2XG1ruQX"
      },
      "execution_count": null,
      "outputs": []
    },
    {
      "cell_type": "code",
      "source": [
        "for char in list(\"python\"):\n",
        "    print(char)"
      ],
      "metadata": {
        "id": "yYqg-nRurwmb"
      },
      "execution_count": null,
      "outputs": []
    },
    {
      "cell_type": "code",
      "source": [
        "for i in range(10):\n",
        "    i = i-1\n",
        "    print(i)"
      ],
      "metadata": {
        "id": "4ycSjcq6rzsi"
      },
      "execution_count": null,
      "outputs": []
    },
    {
      "cell_type": "markdown",
      "source": [
        "example of an infinite loop with for:"
      ],
      "metadata": {
        "id": "4LrkPDPwr74I"
      }
    },
    {
      "cell_type": "code",
      "source": [
        "mylist = [1, 2, 3, 4]\n",
        "for i in mylist:\n",
        "    mylist.append(4)\n",
        "    print(i)"
      ],
      "metadata": {
        "id": "ohvM7iNer9yq"
      },
      "execution_count": null,
      "outputs": []
    }
  ]
}