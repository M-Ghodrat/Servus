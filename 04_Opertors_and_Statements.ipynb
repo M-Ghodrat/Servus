{
  "nbformat": 4,
  "nbformat_minor": 0,
  "metadata": {
    "colab": {
      "provenance": [],
      "authorship_tag": "ABX9TyNrE7gMgf3/tQYMkvC/0QbW",
      "include_colab_link": true
    },
    "kernelspec": {
      "name": "python3",
      "display_name": "Python 3"
    },
    "language_info": {
      "name": "python"
    }
  },
  "cells": [
    {
      "cell_type": "markdown",
      "metadata": {
        "id": "view-in-github",
        "colab_type": "text"
      },
      "source": [
        "<a href=\"https://colab.research.google.com/github/M-Ghodrat/Servus/blob/main/04_Opertors_and_Statements.ipynb\" target=\"_parent\"><img src=\"https://colab.research.google.com/assets/colab-badge.svg\" alt=\"Open In Colab\"/></a>"
      ]
    },
    {
      "cell_type": "markdown",
      "source": [
        "# Operators"
      ],
      "metadata": {
        "id": "bLHdkci8neB6"
      }
    },
    {
      "cell_type": "code",
      "execution_count": 8,
      "metadata": {
        "id": "qOs3L-p-nZ7H",
        "colab": {
          "base_uri": "https://localhost:8080/"
        },
        "outputId": "4b6bb402-8d82-4a48-fcbf-1f74e0328d0d"
      },
      "outputs": [
        {
          "output_type": "execute_result",
          "data": {
            "text/plain": [
              "False"
            ]
          },
          "metadata": {},
          "execution_count": 8
        }
      ],
      "source": [
        "x = 5\n",
        "x < 2"
      ]
    },
    {
      "cell_type": "code",
      "source": [
        "x * 2"
      ],
      "metadata": {
        "colab": {
          "base_uri": "https://localhost:8080/"
        },
        "id": "-YooX6qY5u2I",
        "outputId": "26dd2a15-ae1a-461b-ec31-2d8b180b4cd1"
      },
      "execution_count": 9,
      "outputs": [
        {
          "output_type": "execute_result",
          "data": {
            "text/plain": [
              "10"
            ]
          },
          "metadata": {},
          "execution_count": 9
        }
      ]
    },
    {
      "cell_type": "code",
      "source": [
        "x / 2"
      ],
      "metadata": {
        "colab": {
          "base_uri": "https://localhost:8080/"
        },
        "id": "bKLKy3015wQj",
        "outputId": "18b1ad28-2f91-4c88-87e5-ab1e11ed083f"
      },
      "execution_count": 10,
      "outputs": [
        {
          "output_type": "execute_result",
          "data": {
            "text/plain": [
              "2.5"
            ]
          },
          "metadata": {},
          "execution_count": 10
        }
      ]
    },
    {
      "cell_type": "code",
      "source": [
        "x % 2"
      ],
      "metadata": {
        "colab": {
          "base_uri": "https://localhost:8080/"
        },
        "id": "Zyg2kW7e5wN5",
        "outputId": "311ea27c-2ad2-4864-fed0-9dd97449c1e7"
      },
      "execution_count": 12,
      "outputs": [
        {
          "output_type": "execute_result",
          "data": {
            "text/plain": [
              "1"
            ]
          },
          "metadata": {},
          "execution_count": 12
        }
      ]
    },
    {
      "cell_type": "code",
      "source": [
        "x // 2"
      ],
      "metadata": {
        "colab": {
          "base_uri": "https://localhost:8080/"
        },
        "id": "Xejdnm6Y5wLX",
        "outputId": "74d43839-fa5a-4e9b-f0f6-fe88c1991a67"
      },
      "execution_count": 13,
      "outputs": [
        {
          "output_type": "execute_result",
          "data": {
            "text/plain": [
              "2"
            ]
          },
          "metadata": {},
          "execution_count": 13
        }
      ]
    },
    {
      "cell_type": "code",
      "source": [
        "x != 5"
      ],
      "metadata": {
        "id": "ysw_gn8LnlK4",
        "colab": {
          "base_uri": "https://localhost:8080/"
        },
        "outputId": "fe68b955-c4ef-44aa-b808-510f893abe86"
      },
      "execution_count": 14,
      "outputs": [
        {
          "output_type": "execute_result",
          "data": {
            "text/plain": [
              "False"
            ]
          },
          "metadata": {},
          "execution_count": 14
        }
      ]
    },
    {
      "cell_type": "code",
      "source": [
        "x == 2"
      ],
      "metadata": {
        "id": "tdny3IUVnlIC",
        "colab": {
          "base_uri": "https://localhost:8080/"
        },
        "outputId": "4496666b-961b-43fd-a03a-8db23b9a2dc5"
      },
      "execution_count": 15,
      "outputs": [
        {
          "output_type": "execute_result",
          "data": {
            "text/plain": [
              "False"
            ]
          },
          "metadata": {},
          "execution_count": 15
        }
      ]
    },
    {
      "cell_type": "code",
      "source": [
        "x == 2 or x == 5"
      ],
      "metadata": {
        "id": "ncG2aXCinlFN",
        "colab": {
          "base_uri": "https://localhost:8080/"
        },
        "outputId": "8aea3269-a485-4b33-eb32-b9a25797013a"
      },
      "execution_count": 17,
      "outputs": [
        {
          "output_type": "execute_result",
          "data": {
            "text/plain": [
              "True"
            ]
          },
          "metadata": {},
          "execution_count": 17
        }
      ]
    },
    {
      "cell_type": "code",
      "source": [
        "x == 5 and x >= 5"
      ],
      "metadata": {
        "id": "LOjvk1yhnlCi",
        "colab": {
          "base_uri": "https://localhost:8080/"
        },
        "outputId": "ad263b82-18e7-4ecf-891f-55a110db5ec9"
      },
      "execution_count": 20,
      "outputs": [
        {
          "output_type": "execute_result",
          "data": {
            "text/plain": [
              "True"
            ]
          },
          "metadata": {},
          "execution_count": 20
        }
      ]
    },
    {
      "cell_type": "code",
      "source": [
        "True or False or True"
      ],
      "metadata": {
        "id": "zywUJLl9nk_2",
        "colab": {
          "base_uri": "https://localhost:8080/"
        },
        "outputId": "627d149b-5e4b-4e38-f84a-cd11b3dda51a"
      },
      "execution_count": 23,
      "outputs": [
        {
          "output_type": "execute_result",
          "data": {
            "text/plain": [
              "True"
            ]
          },
          "metadata": {},
          "execution_count": 23
        }
      ]
    },
    {
      "cell_type": "code",
      "source": [
        "True and False"
      ],
      "metadata": {
        "id": "ZsQS1MJDnk9K",
        "colab": {
          "base_uri": "https://localhost:8080/"
        },
        "outputId": "a6276dc6-3187-4a9b-c226-58c3b9c46814"
      },
      "execution_count": 22,
      "outputs": [
        {
          "output_type": "execute_result",
          "data": {
            "text/plain": [
              "False"
            ]
          },
          "metadata": {},
          "execution_count": 22
        }
      ]
    },
    {
      "cell_type": "code",
      "source": [
        "not(x == 2)"
      ],
      "metadata": {
        "id": "fU1T39sHnk6n",
        "colab": {
          "base_uri": "https://localhost:8080/"
        },
        "outputId": "f7bd1d11-6ba8-4d85-e7d0-50c579ec2a0a"
      },
      "execution_count": 24,
      "outputs": [
        {
          "output_type": "execute_result",
          "data": {
            "text/plain": [
              "True"
            ]
          },
          "metadata": {},
          "execution_count": 24
        }
      ]
    },
    {
      "cell_type": "code",
      "source": [
        "not x == 2"
      ],
      "metadata": {
        "id": "AYY7rDQLnk30",
        "colab": {
          "base_uri": "https://localhost:8080/"
        },
        "outputId": "38a047ac-363e-45f7-f2bf-5baddc6c3590"
      },
      "execution_count": 25,
      "outputs": [
        {
          "output_type": "execute_result",
          "data": {
            "text/plain": [
              "True"
            ]
          },
          "metadata": {},
          "execution_count": 25
        }
      ]
    },
    {
      "cell_type": "markdown",
      "source": [
        "\n",
        "Priority of operations in python?\n",
        "\n",
        "```python\n",
        "x and y or x and z\n",
        "```"
      ],
      "metadata": {
        "id": "bLwIueYQoQam"
      }
    },
    {
      "cell_type": "markdown",
      "source": [
        "# Statements:\n",
        "\n",
        "`if`\n",
        "\n",
        "Syntax of an `if` statement:\n",
        "\n",
        "<img src=\"https://raw.githubusercontent.com/M-Ghodrat/Servus/86fc54036db176480d9e134944a8158ac6f4242a/images/if-statement.PNG\" height=\"200\">"
      ],
      "metadata": {
        "id": "HN_rFg91oXHH"
      }
    },
    {
      "cell_type": "code",
      "source": [
        "name = \"Zack\""
      ],
      "metadata": {
        "id": "FNN4hlGmnk05"
      },
      "execution_count": 41,
      "outputs": []
    },
    {
      "cell_type": "code",
      "source": [
        "if name == \"Mohsen\":\n",
        "    print(\"My name is Mohsen\")\n",
        "elif name == \"Jack\":\n",
        "    print(\"name is Jack\")\n",
        "elif name == \"Zack\":\n",
        "    print(\"Zack is my name\")\n",
        "else:\n",
        "    print(\"I don't know\")"
      ],
      "metadata": {
        "id": "uvGEcwaMnkyO",
        "colab": {
          "base_uri": "https://localhost:8080/"
        },
        "outputId": "3d26182e-7644-4497-8f66-d281f906bd73"
      },
      "execution_count": 44,
      "outputs": [
        {
          "output_type": "stream",
          "name": "stdout",
          "text": [
            "Zack is my name\n"
          ]
        }
      ]
    },
    {
      "cell_type": "code",
      "source": [
        "name = \"Mohsen\"\n",
        "if name == \"Mohsen\":\n",
        "    print(\"My name is Mohsen\")\n",
        "elif name == \"Mohsen\":\n",
        "    print(\"Zack is my name\")"
      ],
      "metadata": {
        "colab": {
          "base_uri": "https://localhost:8080/"
        },
        "id": "gtUpANbm77tV",
        "outputId": "362ceb8c-3c93-4009-8fa6-cd4fab09f9f4"
      },
      "execution_count": 46,
      "outputs": [
        {
          "output_type": "stream",
          "name": "stdout",
          "text": [
            "My name is Mohsen\n"
          ]
        }
      ]
    },
    {
      "cell_type": "code",
      "source": [
        "if name == \"Mohsen\":\n",
        "    print(\"My name is Mohsen\")\n",
        "if name == \"Mohsen\":\n",
        "    print(\"Zack is my name\")"
      ],
      "metadata": {
        "colab": {
          "base_uri": "https://localhost:8080/"
        },
        "id": "P_8XL-fK8G2b",
        "outputId": "0edd5a5d-e0be-4cb1-b2c6-3e7591e7f10c"
      },
      "execution_count": 47,
      "outputs": [
        {
          "output_type": "stream",
          "name": "stdout",
          "text": [
            "My name is Mohsen\n",
            "Zack is my name\n"
          ]
        }
      ]
    },
    {
      "cell_type": "code",
      "source": [
        "x = 5\n",
        "if x == 5:\n",
        "    pass\n",
        "else:\n",
        "    print(\"x not 5\")"
      ],
      "metadata": {
        "id": "E4TE4bJcnkvi"
      },
      "execution_count": 49,
      "outputs": []
    },
    {
      "cell_type": "code",
      "source": [
        "x = 5\n",
        "if x != 5:\n",
        "    print(\"x is not equal to 5\")\n",
        "else:\n",
        "    print(\"x is equal to 5\")"
      ],
      "metadata": {
        "id": "4EWbNExKnks2",
        "colab": {
          "base_uri": "https://localhost:8080/"
        },
        "outputId": "c3318502-af4c-4f30-96b3-078482b5ce95"
      },
      "execution_count": 50,
      "outputs": [
        {
          "output_type": "stream",
          "name": "stdout",
          "text": [
            "x is equal to 5\n"
          ]
        }
      ]
    },
    {
      "cell_type": "markdown",
      "source": [
        "# Loops:\n",
        "\n",
        "`for`\n",
        "\n",
        "Syntax of a `for` loop:\n",
        "\n",
        "<img src=\"https://raw.githubusercontent.com/M-Ghodrat/Servus/f6163882ee52f09cd1a589caa0352c90491c4f4b/images/for-loop.PNG\" height=\"200\">\n"
      ],
      "metadata": {
        "id": "hm8oQ_HjpMJn"
      }
    },
    {
      "cell_type": "code",
      "source": [
        "for var in [1,2,3,4,5]:\n",
        "  print(var)\n",
        "else:\n",
        "  print(\"End\")"
      ],
      "metadata": {
        "id": "4eumZaVN-vLY"
      },
      "execution_count": null,
      "outputs": []
    },
    {
      "cell_type": "code",
      "source": [
        "for var in {1:10, 2:20, 3:30, 4:40, 5:50}:\n",
        "  print(var)\n",
        "else:\n",
        "  print(\"End\")"
      ],
      "metadata": {
        "colab": {
          "base_uri": "https://localhost:8080/"
        },
        "id": "hovtGu1u9LWq",
        "outputId": "da1e1a67-4b84-4793-f0d0-f52bf82f8ae0"
      },
      "execution_count": 63,
      "outputs": [
        {
          "output_type": "stream",
          "name": "stdout",
          "text": [
            "1\n",
            "2\n",
            "3\n",
            "4\n",
            "5\n",
            "End\n"
          ]
        }
      ]
    },
    {
      "cell_type": "code",
      "source": [
        "for var in \"Hello\":\n",
        "  print(var)\n",
        "else:\n",
        "  print(\"End\")"
      ],
      "metadata": {
        "colab": {
          "base_uri": "https://localhost:8080/"
        },
        "id": "c3WXc-cA-ykT",
        "outputId": "002b40f4-dadb-4432-bfd7-086ebd8965df"
      },
      "execution_count": 64,
      "outputs": [
        {
          "output_type": "stream",
          "name": "stdout",
          "text": [
            "H\n",
            "e\n",
            "l\n",
            "l\n",
            "o\n",
            "End\n"
          ]
        }
      ]
    },
    {
      "cell_type": "code",
      "source": [
        "mylist = [1, 2, 3, 4, 5]\n",
        "for num in mylist:\n",
        "    print(num*3)"
      ],
      "metadata": {
        "colab": {
          "base_uri": "https://localhost:8080/"
        },
        "id": "ghxySgifnkpr",
        "outputId": "2c277a9f-e2c8-4a98-b1e2-0967766dbca1"
      },
      "execution_count": 66,
      "outputs": [
        {
          "output_type": "stream",
          "name": "stdout",
          "text": [
            "3\n",
            "6\n",
            "9\n",
            "12\n",
            "15\n"
          ]
        }
      ]
    },
    {
      "cell_type": "code",
      "source": [
        "[1,2,3,4,5]+[1,2,3,4,5]+[1,2,3,4,5]"
      ],
      "metadata": {
        "colab": {
          "base_uri": "https://localhost:8080/"
        },
        "id": "zaJIdrgX_Dfe",
        "outputId": "0c6f7182-3a3d-4b9f-963c-f319c23c9f17"
      },
      "execution_count": 68,
      "outputs": [
        {
          "output_type": "execute_result",
          "data": {
            "text/plain": [
              "[1, 2, 3, 4, 5, 1, 2, 3, 4, 5, 1, 2, 3, 4, 5]"
            ]
          },
          "metadata": {},
          "execution_count": 68
        }
      ]
    },
    {
      "cell_type": "code",
      "source": [
        "[1,2,3,4,5]*3"
      ],
      "metadata": {
        "colab": {
          "base_uri": "https://localhost:8080/"
        },
        "id": "nhzbtDGg_RDr",
        "outputId": "f309de5c-4286-460e-ee0a-6e15bed030ce"
      },
      "execution_count": 69,
      "outputs": [
        {
          "output_type": "execute_result",
          "data": {
            "text/plain": [
              "[1, 2, 3, 4, 5, 1, 2, 3, 4, 5, 1, 2, 3, 4, 5]"
            ]
          },
          "metadata": {},
          "execution_count": 69
        }
      ]
    },
    {
      "cell_type": "code",
      "source": [
        "mylist = [1, 2, 3, 4, 5]\n",
        "new_list = []\n",
        "for num in mylist:\n",
        "    new_list.append(num*3)\n",
        "new_list"
      ],
      "metadata": {
        "colab": {
          "base_uri": "https://localhost:8080/"
        },
        "id": "8b6hz3aR_XXY",
        "outputId": "c347e00a-e355-422a-f05a-355e5291ee64"
      },
      "execution_count": 71,
      "outputs": [
        {
          "output_type": "execute_result",
          "data": {
            "text/plain": [
              "[3, 6, 9, 12, 15]"
            ]
          },
          "metadata": {},
          "execution_count": 71
        }
      ]
    },
    {
      "cell_type": "code",
      "source": [
        "print(\"Hi\")\n",
        "print(\"Hi\")"
      ],
      "metadata": {
        "colab": {
          "base_uri": "https://localhost:8080/"
        },
        "id": "w54IZvLe_1Yd",
        "outputId": "88c7214d-d1ee-44c4-bc23-4f20e4a8cf87"
      },
      "execution_count": 73,
      "outputs": [
        {
          "output_type": "stream",
          "name": "stdout",
          "text": [
            "Hi\n",
            "Hi\n"
          ]
        }
      ]
    },
    {
      "cell_type": "markdown",
      "source": [
        "**Note:** print has a built-in \"\\n\""
      ],
      "metadata": {
        "id": "eE8aP7xArPLl"
      }
    },
    {
      "cell_type": "code",
      "source": [
        "mylist = [\"apple\", \"orange\", \"banana\"]\n",
        "for fruit in mylist:\n",
        "    print(fruit, end=\"--\")"
      ],
      "metadata": {
        "id": "6RZo63VxnknA",
        "colab": {
          "base_uri": "https://localhost:8080/"
        },
        "outputId": "f0338100-6aea-4d60-80ba-bcd71f8857ce"
      },
      "execution_count": 75,
      "outputs": [
        {
          "output_type": "stream",
          "name": "stdout",
          "text": [
            "apple--orange--banana--"
          ]
        }
      ]
    },
    {
      "cell_type": "code",
      "source": [
        "mytuple = (1, 2, 3, 4, 5)\n",
        "for num in mytuple:\n",
        "    print(num)"
      ],
      "metadata": {
        "id": "OaxSYcpOrUGO",
        "colab": {
          "base_uri": "https://localhost:8080/"
        },
        "outputId": "d228b154-3528-4ace-c584-b42f9726ad39"
      },
      "execution_count": 76,
      "outputs": [
        {
          "output_type": "stream",
          "name": "stdout",
          "text": [
            "1\n",
            "2\n",
            "3\n",
            "4\n",
            "5\n"
          ]
        }
      ]
    },
    {
      "cell_type": "code",
      "source": [
        "mydic = {1:\"one\", 2:\"two\", 3:\"three\", 4:\"four\", 5:\"five\"}\n",
        "\n",
        "print(mydic.keys())\n",
        "print(mydic.values())\n",
        "print(mydic.items())"
      ],
      "metadata": {
        "id": "lpbmsPSnrVju",
        "colab": {
          "base_uri": "https://localhost:8080/"
        },
        "outputId": "ffe58073-95ce-4eb2-f3d9-35a0fd946a0f"
      },
      "execution_count": 77,
      "outputs": [
        {
          "output_type": "stream",
          "name": "stdout",
          "text": [
            "dict_keys([1, 2, 3, 4, 5])\n",
            "dict_values(['one', 'two', 'three', 'four', 'five'])\n",
            "dict_items([(1, 'one'), (2, 'two'), (3, 'three'), (4, 'four'), (5, 'five')])\n"
          ]
        }
      ]
    },
    {
      "cell_type": "markdown",
      "source": [
        "when iteration on dictionary, the defualt iteration is on \"keys\""
      ],
      "metadata": {
        "id": "IwD5R4mLrZvo"
      }
    },
    {
      "cell_type": "code",
      "source": [
        "for num in mydic:\n",
        "    print(num)"
      ],
      "metadata": {
        "id": "S84Vj7GSrXvo",
        "colab": {
          "base_uri": "https://localhost:8080/"
        },
        "outputId": "4ef5f88b-42cb-4360-86e6-6a42f6da009c"
      },
      "execution_count": 78,
      "outputs": [
        {
          "output_type": "stream",
          "name": "stdout",
          "text": [
            "1\n",
            "2\n",
            "3\n",
            "4\n",
            "5\n"
          ]
        }
      ]
    },
    {
      "cell_type": "code",
      "source": [
        "for num in mydic.values():\n",
        "    print(num)"
      ],
      "metadata": {
        "id": "C6pkHDhQrgc0",
        "colab": {
          "base_uri": "https://localhost:8080/"
        },
        "outputId": "0f2e2cfb-7042-463e-a509-e8f861093d16"
      },
      "execution_count": 79,
      "outputs": [
        {
          "output_type": "stream",
          "name": "stdout",
          "text": [
            "one\n",
            "two\n",
            "three\n",
            "four\n",
            "five\n"
          ]
        }
      ]
    },
    {
      "cell_type": "code",
      "source": [
        "new_list = []\n",
        "for num in mydic.items():\n",
        "  # print(num[0], num[1])\n",
        "  new_list.append([num[0],num[1]])\n",
        "new_list"
      ],
      "metadata": {
        "colab": {
          "base_uri": "https://localhost:8080/"
        },
        "id": "PjaZgF2PA74E",
        "outputId": "8693de73-774b-4aa0-bfed-f0182f2d9237"
      },
      "execution_count": 86,
      "outputs": [
        {
          "output_type": "execute_result",
          "data": {
            "text/plain": [
              "[[1, 'one'], [2, 'two'], [3, 'three'], [4, 'four'], [5, 'five']]"
            ]
          },
          "metadata": {},
          "execution_count": 86
        }
      ]
    },
    {
      "cell_type": "code",
      "source": [],
      "metadata": {
        "id": "dR_R6DMGBmJO"
      },
      "execution_count": null,
      "outputs": []
    },
    {
      "cell_type": "code",
      "source": [
        "for char in \"python\":\n",
        "    print(char)"
      ],
      "metadata": {
        "id": "-wgBZ61briZC"
      },
      "execution_count": null,
      "outputs": []
    },
    {
      "cell_type": "code",
      "source": [
        "for char in \"python\":\n",
        "    print(char)"
      ],
      "metadata": {
        "id": "CB3iG85krtBJ"
      },
      "execution_count": null,
      "outputs": []
    },
    {
      "cell_type": "code",
      "source": [
        "for char in \"python is god\".split():\n",
        "    print(char)"
      ],
      "metadata": {
        "id": "URek2XG1ruQX"
      },
      "execution_count": null,
      "outputs": []
    },
    {
      "cell_type": "code",
      "source": [
        "for char in list(\"python\"):\n",
        "    print(char)"
      ],
      "metadata": {
        "id": "yYqg-nRurwmb"
      },
      "execution_count": null,
      "outputs": []
    },
    {
      "cell_type": "code",
      "source": [
        "for i in range(10):\n",
        "    i = i-1\n",
        "    print(i)"
      ],
      "metadata": {
        "id": "4ycSjcq6rzsi"
      },
      "execution_count": null,
      "outputs": []
    },
    {
      "cell_type": "markdown",
      "source": [
        "example of an infinite loop with for:"
      ],
      "metadata": {
        "id": "4LrkPDPwr74I"
      }
    },
    {
      "cell_type": "code",
      "source": [
        "mylist = [1, 2, 3, 4]\n",
        "for i in mylist:\n",
        "    mylist.append(4)\n",
        "    print(i)"
      ],
      "metadata": {
        "id": "ohvM7iNer9yq"
      },
      "execution_count": null,
      "outputs": []
    },
    {
      "cell_type": "markdown",
      "source": [
        "Unpacking of tuples:"
      ],
      "metadata": {
        "id": "wygDnpki97fi"
      }
    },
    {
      "cell_type": "code",
      "source": [
        "mylist = [(1, 1), (2, 8), (3, 27), (4, 64)]\n",
        "for num, power_3 in mylist:\n",
        "    print(num, power_3)"
      ],
      "metadata": {
        "id": "Gnzzq2wI98qi"
      },
      "execution_count": null,
      "outputs": []
    },
    {
      "cell_type": "code",
      "source": [
        "for num1, _ in mylist:\n",
        "    print(num1)"
      ],
      "metadata": {
        "id": "SBz7PP0f-BJT"
      },
      "execution_count": null,
      "outputs": []
    },
    {
      "cell_type": "markdown",
      "source": [
        "Without unpacking:"
      ],
      "metadata": {
        "id": "I9D_sExj-Dtj"
      }
    },
    {
      "cell_type": "code",
      "source": [
        "mylist = [(1, 1), (2, 8), (3, 27), (4, 64)]\n",
        "for item in mylist:\n",
        "    print(item, item[0], item[1])"
      ],
      "metadata": {
        "id": "QcOE202U-JiK"
      },
      "execution_count": null,
      "outputs": []
    },
    {
      "cell_type": "markdown",
      "source": [
        "`while`\n",
        "\n",
        "Syntax of a `while` loop:"
      ],
      "metadata": {
        "id": "uVgnusU3-QDR"
      }
    },
    {
      "cell_type": "code",
      "source": [
        "x = 5\n",
        "while x > 0:\n",
        "    print(x)\n",
        "    x = x - 1\n",
        "else: # when it comes out of loop\n",
        "    print(\"loop finished\")\n",
        ""
      ],
      "metadata": {
        "id": "JxHD57lq-Rps"
      },
      "execution_count": null,
      "outputs": []
    },
    {
      "cell_type": "markdown",
      "source": [
        "**Note:**\n",
        "\n",
        "if there is a `break`, `else` is not executed.\n",
        "\n",
        "`else` is only executed when the loop finishes successfully.\n",
        "\n",
        "**Better to say:** `else` is only executed when the loop condition is violated! (no matter we have `break` or not!) So when we use `break`, normally if `break` happens, we come out of the loop without the loop condition being violated! so like the following example, the code continues to the `else`: section but since the condition of loop is not violated, the statement of `else` won't run!"
      ],
      "metadata": {
        "id": "g2vkER5b-mOI"
      }
    },
    {
      "cell_type": "code",
      "source": [
        "x = 5\n",
        "while x > 0:\n",
        "    print(x)\n",
        "    x = x - 1\n",
        "\n",
        "    if x == 1:\n",
        "        break\n",
        "else:\n",
        "    print('loop finished')"
      ],
      "metadata": {
        "id": "l4DtS7Hm-2tp"
      },
      "execution_count": null,
      "outputs": []
    },
    {
      "cell_type": "markdown",
      "source": [
        "`break`, `continue` and `pass`"
      ],
      "metadata": {
        "id": "w3FCL4Wk-_WD"
      }
    },
    {
      "cell_type": "code",
      "source": [
        "# break a loop\n",
        "customers = [\"Jack\", \"Mohsen\", \"Dave\", \"John\"]\n",
        "for name in customers:\n",
        "\n",
        "    if name == \"Mohsen\":\n",
        "        print(name)\n",
        "        print(\"found it\")\n",
        "        break\n",
        "    else:\n",
        "        print(\"name not found yet! -->\", name)"
      ],
      "metadata": {
        "id": "pORuHjjM_Bsr"
      },
      "execution_count": null,
      "outputs": []
    },
    {
      "cell_type": "markdown",
      "source": [
        "In nested loopd, `break` works for the current loop:"
      ],
      "metadata": {
        "id": "0FTBedJV_cwT"
      }
    },
    {
      "cell_type": "code",
      "source": [
        "for i in range(5):\n",
        "    for j in range(10):\n",
        "        print(\"j -->\", j)\n",
        "        if j % 2 ==0:\n",
        "            break\n",
        "\n",
        "    print(\"i ==>\", i)"
      ],
      "metadata": {
        "id": "lUgA27nD_dWs"
      },
      "execution_count": null,
      "outputs": []
    },
    {
      "cell_type": "code",
      "source": [
        "# pass for later: To avoid error (felan hal nadaram benvisam!)\n",
        "condition = True\n",
        "if condition:\n",
        "    pass\n",
        "else:\n",
        "    # code here"
      ],
      "metadata": {
        "id": "T0E6zT6Z_jTK"
      },
      "execution_count": null,
      "outputs": []
    },
    {
      "cell_type": "markdown",
      "source": [
        "error without `pass`:"
      ],
      "metadata": {
        "id": "PYYLKjU0_leR"
      }
    },
    {
      "cell_type": "code",
      "source": [
        "condition = True\n",
        "if condition:\n",
        "\n",
        "else:\n",
        "    # code here"
      ],
      "metadata": {
        "id": "i2cfST6k_m0i"
      },
      "execution_count": null,
      "outputs": []
    },
    {
      "cell_type": "code",
      "source": [
        "# continue\n",
        "for item in range(10):\n",
        "    if item % 2 == 0:\n",
        "        continue # means: go to the next iteration\n",
        "\n",
        "    print(item)"
      ],
      "metadata": {
        "id": "qKOalVbJ_9PW"
      },
      "execution_count": null,
      "outputs": []
    },
    {
      "cell_type": "markdown",
      "source": [
        "`continue`, `break` are just used in loops, but `pass` can be used everywhere (`if`, `loop`, ...)"
      ],
      "metadata": {
        "id": "RK5a5wzo_-I3"
      }
    },
    {
      "cell_type": "markdown",
      "source": [
        "`enumerate`"
      ],
      "metadata": {
        "id": "p4iMiIPxAIKT"
      }
    },
    {
      "cell_type": "code",
      "source": [
        "word = 'abcdefghij'\n",
        "\n",
        "for index, char in enumerate(word):\n",
        "    print(index, char)"
      ],
      "metadata": {
        "id": "rBHJ0U03_6xu"
      },
      "execution_count": null,
      "outputs": []
    },
    {
      "cell_type": "markdown",
      "source": [
        "This is similar to:"
      ],
      "metadata": {
        "id": "Gr5h-59WAOt-"
      }
    },
    {
      "cell_type": "code",
      "source": [
        "counter = 0\n",
        "for char in list(word):\n",
        "    print(counter, char)\n",
        "    counter = counter + 1"
      ],
      "metadata": {
        "id": "Npk6bVz7APXE"
      },
      "execution_count": null,
      "outputs": []
    },
    {
      "cell_type": "code",
      "source": [
        "for index, char in enumerate(list('abcdefghij')):\n",
        "    print(index, char)"
      ],
      "metadata": {
        "id": "Nrh_NSibATs2"
      },
      "execution_count": null,
      "outputs": []
    },
    {
      "cell_type": "code",
      "source": [
        "def enumerate_mohsen(mystr):\n",
        "    newlist = []\n",
        "    counter = 0\n",
        "    for char in mystr:\n",
        "        newlist.append([counter, char])\n",
        "        print(counter, char)\n",
        "        counter += 1\n",
        "\n",
        "    #print(newlist)\n",
        "\n",
        "enumerate_mohsen('abcdefghij')"
      ],
      "metadata": {
        "id": "7pXmwE14AmgZ"
      },
      "execution_count": null,
      "outputs": []
    },
    {
      "cell_type": "markdown",
      "source": [
        "`zip`"
      ],
      "metadata": {
        "id": "YM-wGR1GAwoC"
      }
    },
    {
      "cell_type": "code",
      "source": [
        "people = [\"Mohsen\", \"Zac\", \"Dave\", \"John\"]\n",
        "roles = [\"Mafia\", \"Mafia\", \"Citizen\"]"
      ],
      "metadata": {
        "id": "jllzKPS8A-8h"
      },
      "execution_count": null,
      "outputs": []
    },
    {
      "cell_type": "code",
      "source": [
        "for name, role in zip(people, roles):\n",
        "    print(name, \"role is\", role)"
      ],
      "metadata": {
        "id": "rldktvRZAxaC"
      },
      "execution_count": null,
      "outputs": []
    },
    {
      "cell_type": "markdown",
      "source": [
        "`input`"
      ],
      "metadata": {
        "id": "NnYsTJ9SBCWj"
      }
    },
    {
      "cell_type": "code",
      "source": [
        "name = input(\"Please enter your name: \")"
      ],
      "metadata": {
        "id": "K0hDdR9NBB9L"
      },
      "execution_count": null,
      "outputs": []
    },
    {
      "cell_type": "code",
      "source": [
        "num = input(\"please enter a number:\")"
      ],
      "metadata": {
        "id": "WEbGEBFwBGF_"
      },
      "execution_count": null,
      "outputs": []
    },
    {
      "cell_type": "markdown",
      "source": [
        "**Note:**\n",
        "The output of input function is always string!"
      ],
      "metadata": {
        "id": "cFDZ1jJpBPDF"
      }
    },
    {
      "cell_type": "markdown",
      "source": [
        "**List Comprehensions**\n",
        "List comprehensions are a unique way of quickly creating a list with python.\n",
        "\n",
        "If you find yourself using a for loop along with `.append()` to create a list, List Comprehensions are a good alternative."
      ],
      "metadata": {
        "id": "LVFRsXISBT3K"
      }
    },
    {
      "cell_type": "code",
      "source": [
        "mystring = \"hello\""
      ],
      "metadata": {
        "id": "H66oPmxRBQm5"
      },
      "execution_count": null,
      "outputs": []
    },
    {
      "cell_type": "code",
      "source": [
        "# without list comprehensions\n",
        "mylist = []\n",
        "\n",
        "for letter in mystring:\n",
        "    mylist.append(letter)"
      ],
      "metadata": {
        "id": "Jv3Al8GDBdXZ"
      },
      "execution_count": null,
      "outputs": []
    },
    {
      "cell_type": "code",
      "source": [
        "mylist"
      ],
      "metadata": {
        "id": "l4-rQ9HBBe5g"
      },
      "execution_count": null,
      "outputs": []
    },
    {
      "cell_type": "code",
      "source": [
        "# with list comprehensions\n",
        "mylist = [letter for letter in mystring]"
      ],
      "metadata": {
        "id": "Wm7kHyAtBe2G"
      },
      "execution_count": null,
      "outputs": []
    },
    {
      "cell_type": "code",
      "source": [
        "mylist"
      ],
      "metadata": {
        "id": "brszbCQvBezn"
      },
      "execution_count": null,
      "outputs": []
    },
    {
      "cell_type": "markdown",
      "source": [
        "Examples:\n"
      ],
      "metadata": {
        "id": "HqgT4wvWBmiV"
      }
    },
    {
      "cell_type": "code",
      "source": [
        "mylist = [num**2 for num in range(10)]\n",
        "mylist"
      ],
      "metadata": {
        "id": "4MSQ8chBBexI"
      },
      "execution_count": null,
      "outputs": []
    },
    {
      "cell_type": "code",
      "source": [
        "mylist = [num**2 for num in range(10) if num % 2 == 0]\n",
        "mylist"
      ],
      "metadata": {
        "id": "W10NF9tcBeum"
      },
      "execution_count": null,
      "outputs": []
    },
    {
      "cell_type": "markdown",
      "source": [
        "we can not use `while` instead of `if` in above list comprehension"
      ],
      "metadata": {
        "id": "_J5HT71sBt-D"
      }
    },
    {
      "cell_type": "code",
      "source": [
        "celcius = [-60, -40, 0, 30, 34.5]\n",
        "\n",
        "fahrenheit = [(9 / 5) * temp + 32 for temp in celcius]\n",
        "fahrenheit"
      ],
      "metadata": {
        "id": "0rB9Z_WpB2zJ"
      },
      "execution_count": null,
      "outputs": []
    },
    {
      "cell_type": "code",
      "source": [
        "names = [\"Donald Trump\", \"Joe Biden\", \"Barack Obama\"]\n",
        "print([name.split()[0] for name in names])\n",
        "print([name[0] for name in names])"
      ],
      "metadata": {
        "id": "0IInGIwSB9Oh"
      },
      "execution_count": null,
      "outputs": []
    },
    {
      "cell_type": "markdown",
      "source": [
        "`if` `else` in List Comprehension"
      ],
      "metadata": {
        "id": "2C0YXwfhCWEy"
      }
    },
    {
      "cell_type": "code",
      "source": [
        "newlist = [item if item % 2 == 0 else item for item in range(10)]\n",
        "newlist"
      ],
      "metadata": {
        "id": "rv-nxh1_CXyQ"
      },
      "execution_count": null,
      "outputs": []
    },
    {
      "cell_type": "markdown",
      "source": [
        "we will encounter error without the use of `else`:"
      ],
      "metadata": {
        "id": "tzEmPTkKCqvH"
      }
    },
    {
      "cell_type": "code",
      "source": [
        "newlist = [item if item % 2 == 0 for item in range(10)]\n",
        "newlist"
      ],
      "metadata": {
        "id": "ik3mylVuCtH8"
      },
      "execution_count": null,
      "outputs": []
    },
    {
      "cell_type": "markdown",
      "source": [
        "also `pass` won't work"
      ],
      "metadata": {
        "id": "wUQn3JL7Cu9q"
      }
    },
    {
      "cell_type": "markdown",
      "source": [
        "# Set & Dictionary Comprehensions"
      ],
      "metadata": {
        "id": "oTaSpx-8CyQv"
      }
    },
    {
      "cell_type": "code",
      "source": [
        "{item for item in range(10)}"
      ],
      "metadata": {
        "id": "fpdMBDO1C0OL"
      },
      "execution_count": null,
      "outputs": []
    },
    {
      "cell_type": "code",
      "source": [
        "{key: key**3 for key in range(10)}"
      ],
      "metadata": {
        "id": "nz8avgzKC3wD"
      },
      "execution_count": null,
      "outputs": []
    }
  ]
}